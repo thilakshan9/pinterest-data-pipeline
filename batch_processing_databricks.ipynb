{
 "cells": [
  {
   "cell_type": "code",
   "execution_count": 0,
   "metadata": {
    "application/vnd.databricks.v1+cell": {
     "cellMetadata": {
      "byteLimit": 2048000,
      "rowLimit": 10000
     },
     "inputWidgets": {},
     "nuid": "22c8a29c-3822-4ac7-b694-82254561b122",
     "showTitle": false,
     "title": ""
    }
   },
   "outputs": [
    {
     "output_type": "display_data",
     "data": {
      "text/html": [
       "<style scoped>\n",
       "  .ansiout {\n",
       "    display: block;\n",
       "    unicode-bidi: embed;\n",
       "    white-space: pre-wrap;\n",
       "    word-wrap: break-word;\n",
       "    word-break: break-all;\n",
       "    font-family: \"Source Code Pro\", \"Menlo\", monospace;;\n",
       "    font-size: 13px;\n",
       "    color: #555;\n",
       "    margin-left: 4px;\n",
       "    line-height: 19px;\n",
       "  }\n",
       "</style>\n",
       "<div class=\"ansiout\"></div>"
      ]
     },
     "metadata": {
      "application/vnd.databricks.v1+output": {
       "addedWidgets": {},
       "arguments": {},
       "data": "<div class=\"ansiout\"></div>",
       "datasetInfos": [],
       "metadata": {},
       "removedWidgets": [],
       "type": "html"
      }
     },
     "output_type": "display_data"
    },
    {
     "output_type": "display_data",
     "data": {
      "text/html": [
       "<style scoped>\n",
       "  .ansiout {\n",
       "    display: block;\n",
       "    unicode-bidi: embed;\n",
       "    white-space: pre-wrap;\n",
       "    word-wrap: break-word;\n",
       "    word-break: break-all;\n",
       "    font-family: \"Source Code Pro\", \"Menlo\", monospace;;\n",
       "    font-size: 13px;\n",
       "    color: #555;\n",
       "    margin-left: 4px;\n",
       "    line-height: 19px;\n",
       "  }\n",
       "</style>\n",
       "<div class=\"ansiout\"><span class=\"ansi-red-fg\">---------------------------------------------------------------------------</span>\n",
       "<span class=\"ansi-red-fg\">ExecutionError</span>                            Traceback (most recent call last)\n",
       "<span class=\"ansi-green-fg\">&lt;command-3177652997416107&gt;</span> in <span class=\"ansi-cyan-fg\">&lt;module&gt;</span>\n",
       "<span class=\"ansi-green-intense-fg ansi-bold\">     29</span> SOURCE_URL <span class=\"ansi-blue-fg\">=</span> <span class=\"ansi-blue-fg\">&#34;s3n://{0}:{1}@{2}&#34;</span><span class=\"ansi-blue-fg\">.</span>format<span class=\"ansi-blue-fg\">(</span>ACCESS_KEY<span class=\"ansi-blue-fg\">,</span> ENCODED_SECRET_KEY<span class=\"ansi-blue-fg\">,</span> AWS_S3_BUCKET<span class=\"ansi-blue-fg\">)</span>\n",
       "<span class=\"ansi-green-intense-fg ansi-bold\">     30</span> <span class=\"ansi-red-fg\"># Mount the drive</span>\n",
       "<span class=\"ansi-green-fg\">---&gt; 31</span><span class=\"ansi-red-fg\"> </span>dbutils<span class=\"ansi-blue-fg\">.</span>fs<span class=\"ansi-blue-fg\">.</span>mount<span class=\"ansi-blue-fg\">(</span>SOURCE_URL<span class=\"ansi-blue-fg\">,</span> MOUNT_NAME<span class=\"ansi-blue-fg\">)</span>\n",
       "<span class=\"ansi-green-intense-fg ansi-bold\">     32</span> \n",
       "<span class=\"ansi-green-intense-fg ansi-bold\">     33</span> display<span class=\"ansi-blue-fg\">(</span>dbutils<span class=\"ansi-blue-fg\">.</span>fs<span class=\"ansi-blue-fg\">.</span>ls<span class=\"ansi-blue-fg\">(</span><span class=\"ansi-blue-fg\">&#34;/mnt/mount_name/&#34;</span><span class=\"ansi-blue-fg\">)</span><span class=\"ansi-blue-fg\">)</span>\n",
       "\n",
       "<span class=\"ansi-green-fg\">/databricks/python_shell/dbruntime/dbutils.py</span> in <span class=\"ansi-cyan-fg\">f_with_exception_handling</span><span class=\"ansi-blue-fg\">(*args, **kwargs)</span>\n",
       "<span class=\"ansi-green-intense-fg ansi-bold\">    387</span>                     exc<span class=\"ansi-blue-fg\">.</span>__context__ <span class=\"ansi-blue-fg\">=</span> <span class=\"ansi-green-fg\">None</span>\n",
       "<span class=\"ansi-green-intense-fg ansi-bold\">    388</span>                     exc<span class=\"ansi-blue-fg\">.</span>__cause__ <span class=\"ansi-blue-fg\">=</span> <span class=\"ansi-green-fg\">None</span>\n",
       "<span class=\"ansi-green-fg\">--&gt; 389</span><span class=\"ansi-red-fg\">                     </span><span class=\"ansi-green-fg\">raise</span> exc\n",
       "<span class=\"ansi-green-intense-fg ansi-bold\">    390</span> \n",
       "<span class=\"ansi-green-intense-fg ansi-bold\">    391</span>             <span class=\"ansi-green-fg\">return</span> f_with_exception_handling\n",
       "\n",
       "<span class=\"ansi-red-fg\">ExecutionError</span>: An error occurred while calling o404.mount.\n",
       ": java.rmi.RemoteException: java.lang.IllegalArgumentException: requirement failed: Directory already mounted: /mnt/0a8597384a69-bucket; nested exception is: \n",
       "\tjava.lang.IllegalArgumentException: requirement failed: Directory already mounted: /mnt/0a8597384a69-bucket\n",
       "\tat com.databricks.backend.daemon.data.client.DbfsClient.send0(DbfsClient.scala:128)\n",
       "\tat com.databricks.backend.daemon.data.client.DbfsClient.sendIdempotent(DbfsClient.scala:68)\n",
       "\tat com.databricks.backend.daemon.dbutils.DBUtilsCore.createOrUpdateMount(DBUtilsCore.scala:756)\n",
       "\tat com.databricks.backend.daemon.dbutils.DBUtilsCore.mount(DBUtilsCore.scala:776)\n",
       "\tat sun.reflect.NativeMethodAccessorImpl.invoke0(Native Method)\n",
       "\tat sun.reflect.NativeMethodAccessorImpl.invoke(NativeMethodAccessorImpl.java:62)\n",
       "\tat sun.reflect.DelegatingMethodAccessorImpl.invoke(DelegatingMethodAccessorImpl.java:43)\n",
       "\tat java.lang.reflect.Method.invoke(Method.java:498)\n",
       "\tat py4j.reflection.MethodInvoker.invoke(MethodInvoker.java:244)\n",
       "\tat py4j.reflection.ReflectionEngine.invoke(ReflectionEngine.java:380)\n",
       "\tat py4j.Gateway.invoke(Gateway.java:295)\n",
       "\tat py4j.commands.AbstractCommand.invokeMethod(AbstractCommand.java:132)\n",
       "\tat py4j.commands.CallCommand.execute(CallCommand.java:79)\n",
       "\tat py4j.GatewayConnection.run(GatewayConnection.java:251)\n",
       "\tat java.lang.Thread.run(Thread.java:750)\n",
       "Caused by: java.lang.IllegalArgumentException: requirement failed: Directory already mounted: /mnt/0a8597384a69-bucket\n",
       "\tat scala.Predef$.require(Predef.scala:281)\n",
       "\tat com.databricks.backend.daemon.data.server.DefaultMetadataManager.$anonfun$insertMount$1(MetadataManager.scala:536)\n",
       "\tat com.databricks.backend.daemon.data.server.DefaultMetadataManager.$anonfun$modifyAndVerify$2(MetadataManager.scala:904)\n",
       "\tat scala.runtime.java8.JFunction0$mcV$sp.apply(JFunction0$mcV$sp.java:23)\n",
       "\tat com.databricks.backend.daemon.data.server.DefaultMetadataManager.withRetries(MetadataManager.scala:685)\n",
       "\tat com.databricks.backend.daemon.data.server.DefaultMetadataManager.modifyAndVerify(MetadataManager.scala:893)\n",
       "\tat com.databricks.backend.daemon.data.server.DefaultMetadataManager.insertMount(MetadataManager.scala:544)\n",
       "\tat com.databricks.backend.daemon.data.server.handler.MountHandler.receive(MountHandler.scala:120)\n",
       "\tat com.databricks.backend.daemon.data.server.session.SessionContext.$anonfun$queryHandlers$1(SessionContext.scala:54)\n",
       "\tat com.databricks.backend.daemon.data.server.session.SessionContext.$anonfun$queryHandlers$1$adapted(SessionContext.scala:53)\n",
       "\tat scala.collection.immutable.List.foreach(List.scala:431)\n",
       "\tat com.databricks.backend.daemon.data.server.session.SessionContext.queryHandlers(SessionContext.scala:53)\n",
       "\tat com.databricks.backend.daemon.data.server.DbfsServerBackend$$anonfun$receive$4.$anonfun$applyOrElse$5(DbfsServerBackend.scala:368)\n",
       "\tat com.databricks.logging.UsageLogging.$anonfun$withAttributionContext$1(UsageLogging.scala:421)\n",
       "\tat scala.util.DynamicVariable.withValue(DynamicVariable.scala:62)\n",
       "\tat com.databricks.logging.AttributionContext$.withValue(AttributionContext.scala:196)\n",
       "\tat com.databricks.logging.UsageLogging.withAttributionContext(UsageLogging.scala:419)\n",
       "\tat com.databricks.logging.UsageLogging.withAttributionContext$(UsageLogging.scala:413)\n",
       "\tat com.databricks.rpc.ServerBackend.withAttributionContext(ServerBackend.scala:22)\n",
       "\tat com.databricks.logging.UsageLogging.withAttributionTags(UsageLogging.scala:465)\n",
       "\tat com.databricks.logging.UsageLogging.withAttributionTags$(UsageLogging.scala:450)\n",
       "\tat com.databricks.rpc.ServerBackend.withAttributionTags(ServerBackend.scala:22)\n",
       "\tat com.databricks.backend.daemon.data.server.DbfsServerBackend$$anonfun$receive$4.applyOrElse(DbfsServerBackend.scala:368)\n",
       "\tat com.databricks.backend.daemon.data.server.DbfsServerBackend$$anonfun$receive$4.applyOrElse(DbfsServerBackend.scala:324)\n",
       "\tat com.databricks.rpc.ServerBackend.$anonfun$internalReceive0$2(ServerBackend.scala:174)\n",
       "\tat com.databricks.rpc.ServerBackend$$anonfun$commonReceive$1.applyOrElse(ServerBackend.scala:200)\n",
       "\tat com.databricks.rpc.ServerBackend$$anonfun$commonReceive$1.applyOrElse(ServerBackend.scala:200)\n",
       "\tat com.databricks.rpc.ServerBackend.internalReceive0(ServerBackend.scala:171)\n",
       "\tat com.databricks.rpc.ServerBackend.$anonfun$internalReceive$1(ServerBackend.scala:147)\n",
       "\tat com.databricks.logging.UsageLogging.$anonfun$recordOperation$1(UsageLogging.scala:563)\n",
       "\tat com.databricks.logging.UsageLogging.executeThunkAndCaptureResultTags$1(UsageLogging.scala:657)\n",
       "\tat com.databricks.logging.UsageLogging.$anonfun$recordOperationWithResultTags$4(UsageLogging.scala:675)\n",
       "\tat com.databricks.logging.UsageLogging.$anonfun$withAttributionContext$1(UsageLogging.scala:421)\n",
       "\tat scala.util.DynamicVariable.withValue(DynamicVariable.scala:62)\n",
       "\tat com.databricks.logging.AttributionContext$.withValue(AttributionContext.scala:196)\n",
       "\tat com.databricks.logging.UsageLogging.withAttributionContext(UsageLogging.scala:419)\n",
       "\tat com.databricks.logging.UsageLogging.withAttributionContext$(UsageLogging.scala:413)\n",
       "\tat com.databricks.rpc.ServerBackend.withAttributionContext(ServerBackend.scala:22)\n",
       "\tat com.databricks.logging.UsageLogging.withAttributionTags(UsageLogging.scala:465)\n",
       "\tat com.databricks.logging.UsageLogging.withAttributionTags$(UsageLogging.scala:450)\n",
       "\tat com.databricks.rpc.ServerBackend.withAttributionTags(ServerBackend.scala:22)\n",
       "\tat com.databricks.logging.UsageLogging.recordOperationWithResultTags(UsageLogging.scala:652)\n",
       "\tat com.databricks.logging.UsageLogging.recordOperationWithResultTags$(UsageLogging.scala:572)\n",
       "\tat com.databricks.rpc.ServerBackend.recordOperationWithResultTags(ServerBackend.scala:22)\n",
       "\tat com.databricks.logging.UsageLogging.recordOperation(UsageLogging.scala:563)\n",
       "\tat com.databricks.logging.UsageLogging.recordOperation$(UsageLogging.scala:534)\n",
       "\tat com.databricks.rpc.ServerBackend.recordOperation(ServerBackend.scala:22)\n",
       "\tat com.databricks.rpc.ServerBackend.internalReceive(ServerBackend.scala:147)\n",
       "\tat com.databricks.rpc.JettyServer$RequestManager.handleRPC(JettyServer.scala:973)\n",
       "\tat com.databricks.rpc.JettyServer$RequestManager.handleRequestAndRespond(JettyServer.scala:884)\n",
       "\tat com.databricks.rpc.JettyServer$RequestManager.$anonfun$handleHttp$3(JettyServer.scala:512)\n",
       "\tat com.databricks.rpc.JettyServer$RequestManager.$anonfun$handleHttp$3$adapted(JettyServer.scala:487)\n",
       "\tat com.databricks.logging.activity.ActivityContextFactory$.$anonfun$withActivityInternal$2(ActivityContextFactory.scala:401)\n",
       "\tat com.databricks.logging.UsageLogging.$anonfun$withAttributionContext$1(UsageLogging.scala:421)\n",
       "\tat scala.util.DynamicVariable.withValue(DynamicVariable.scala:62)\n",
       "\tat com.databricks.logging.AttributionContext$.withValue(AttributionContext.scala:196)\n",
       "\tat com.databricks.logging.UsageLogging.withAttributionContext(UsageLogging.scala:419)\n",
       "\tat com.databricks.logging.UsageLogging.withAttributionContext$(UsageLogging.scala:413)\n",
       "\tat com.databricks.logging.activity.ActivityContextFactory$.withAttributionContext(ActivityContextFactory.scala:54)\n",
       "\tat com.databricks.logging.activity.ActivityContextFactory$.withActivityInternal(ActivityContextFactory.scala:401)\n",
       "\tat com.databricks.logging.activity.ActivityContextFactory$.withServiceRequestActivity(ActivityContextFactory.scala:163)\n",
       "\tat com.databricks.rpc.JettyServer$RequestManager.handleHttp(JettyServer.scala:487)\n",
       "\tat com.databricks.rpc.JettyServer$RequestManager.doPost(JettyServer.scala:388)\n",
       "\tat javax.servlet.http.HttpServlet.service(HttpServlet.java:707)\n",
       "\tat com.databricks.rpc.HttpServletWithPatch.service(HttpServletWithPatch.scala:33)\n",
       "\tat javax.servlet.http.HttpServlet.service(HttpServlet.java:790)\n",
       "\tat org.eclipse.jetty.servlet.ServletHolder.handle(ServletHolder.java:848)\n",
       "\tat org.eclipse.jetty.servlet.ServletHandler.doHandle(ServletHandler.java:585)\n",
       "\tat org.eclipse.jetty.servlet.ServletHandler.doScope(ServletHandler.java:515)\n",
       "\tat org.eclipse.jetty.server.handler.ScopedHandler.handle(ScopedHandler.java:141)\n",
       "\tat org.eclipse.jetty.server.handler.HandlerWrapper.handle(HandlerWrapper.java:134)\n",
       "\tat org.eclipse.jetty.server.Server.handle(Server.java:539)\n",
       "\tat org.eclipse.jetty.server.HttpChannel.handle(HttpChannel.java:333)\n",
       "\tat org.eclipse.jetty.server.HttpConnection.onFillable(HttpConnection.java:251)\n",
       "\tat org.eclipse.jetty.io.AbstractConnection$ReadCallback.succeeded(AbstractConnection.java:283)\n",
       "\tat org.eclipse.jetty.io.FillInterest.fillable(FillInterest.java:108)\n",
       "\tat org.eclipse.jetty.io.SelectChannelEndPoint$2.run(SelectChannelEndPoint.java:93)\n",
       "\tat org.eclipse.jetty.util.thread.strategy.ExecuteProduceConsume.executeProduceConsume(ExecuteProduceConsume.java:303)\n",
       "\tat org.eclipse.jetty.util.thread.strategy.ExecuteProduceConsume.produceConsume(ExecuteProduceConsume.java:148)\n",
       "\tat org.eclipse.jetty.util.thread.strategy.ExecuteProduceConsume.run(ExecuteProduceConsume.java:136)\n",
       "\tat com.databricks.rpc.InstrumentedQueuedThreadPool$$anon$1.$anonfun$run$1(InstrumentedQueuedThreadPool.scala:81)\n",
       "\tat scala.runtime.java8.JFunction0$mcV$sp.apply(JFunction0$mcV$sp.java:23)\n",
       "\tat com.databricks.instrumentation.QueuedThreadPoolInstrumenter.trackActiveThreads(QueuedThreadPoolInstrumenter.scala:73)\n",
       "\tat com.databricks.instrumentation.QueuedThreadPoolInstrumenter.trackActiveThreads$(QueuedThreadPoolInstrumenter.scala:70)\n",
       "\tat com.databricks.rpc.InstrumentedQueuedThreadPool.trackActiveThreads(InstrumentedQueuedThreadPool.scala:47)\n",
       "\tat com.databricks.rpc.InstrumentedQueuedThreadPool$$anon$1.run(InstrumentedQueuedThreadPool.scala:76)\n",
       "\tat org.eclipse.jetty.util.thread.QueuedThreadPool.runJob(QueuedThreadPool.java:671)\n",
       "\tat org.eclipse.jetty.util.thread.QueuedThreadPool$2.run(QueuedThreadPool.java:589)\n",
       "\t... 1 more\n",
       "</div>"
      ]
     },
     "metadata": {
      "application/vnd.databricks.v1+output": {
       "arguments": {},
       "data": "<div class=\"ansiout\"><span class=\"ansi-red-fg\">---------------------------------------------------------------------------</span>\n<span class=\"ansi-red-fg\">ExecutionError</span>                            Traceback (most recent call last)\n<span class=\"ansi-green-fg\">&lt;command-3177652997416107&gt;</span> in <span class=\"ansi-cyan-fg\">&lt;module&gt;</span>\n<span class=\"ansi-green-intense-fg ansi-bold\">     29</span> SOURCE_URL <span class=\"ansi-blue-fg\">=</span> <span class=\"ansi-blue-fg\">&#34;s3n://{0}:{1}@{2}&#34;</span><span class=\"ansi-blue-fg\">.</span>format<span class=\"ansi-blue-fg\">(</span>ACCESS_KEY<span class=\"ansi-blue-fg\">,</span> ENCODED_SECRET_KEY<span class=\"ansi-blue-fg\">,</span> AWS_S3_BUCKET<span class=\"ansi-blue-fg\">)</span>\n<span class=\"ansi-green-intense-fg ansi-bold\">     30</span> <span class=\"ansi-red-fg\"># Mount the drive</span>\n<span class=\"ansi-green-fg\">---&gt; 31</span><span class=\"ansi-red-fg\"> </span>dbutils<span class=\"ansi-blue-fg\">.</span>fs<span class=\"ansi-blue-fg\">.</span>mount<span class=\"ansi-blue-fg\">(</span>SOURCE_URL<span class=\"ansi-blue-fg\">,</span> MOUNT_NAME<span class=\"ansi-blue-fg\">)</span>\n<span class=\"ansi-green-intense-fg ansi-bold\">     32</span> \n<span class=\"ansi-green-intense-fg ansi-bold\">     33</span> display<span class=\"ansi-blue-fg\">(</span>dbutils<span class=\"ansi-blue-fg\">.</span>fs<span class=\"ansi-blue-fg\">.</span>ls<span class=\"ansi-blue-fg\">(</span><span class=\"ansi-blue-fg\">&#34;/mnt/mount_name/&#34;</span><span class=\"ansi-blue-fg\">)</span><span class=\"ansi-blue-fg\">)</span>\n\n<span class=\"ansi-green-fg\">/databricks/python_shell/dbruntime/dbutils.py</span> in <span class=\"ansi-cyan-fg\">f_with_exception_handling</span><span class=\"ansi-blue-fg\">(*args, **kwargs)</span>\n<span class=\"ansi-green-intense-fg ansi-bold\">    387</span>                     exc<span class=\"ansi-blue-fg\">.</span>__context__ <span class=\"ansi-blue-fg\">=</span> <span class=\"ansi-green-fg\">None</span>\n<span class=\"ansi-green-intense-fg ansi-bold\">    388</span>                     exc<span class=\"ansi-blue-fg\">.</span>__cause__ <span class=\"ansi-blue-fg\">=</span> <span class=\"ansi-green-fg\">None</span>\n<span class=\"ansi-green-fg\">--&gt; 389</span><span class=\"ansi-red-fg\">                     </span><span class=\"ansi-green-fg\">raise</span> exc\n<span class=\"ansi-green-intense-fg ansi-bold\">    390</span> \n<span class=\"ansi-green-intense-fg ansi-bold\">    391</span>             <span class=\"ansi-green-fg\">return</span> f_with_exception_handling\n\n<span class=\"ansi-red-fg\">ExecutionError</span>: An error occurred while calling o404.mount.\n: java.rmi.RemoteException: java.lang.IllegalArgumentException: requirement failed: Directory already mounted: /mnt/0a8597384a69-bucket; nested exception is: \n\tjava.lang.IllegalArgumentException: requirement failed: Directory already mounted: /mnt/0a8597384a69-bucket\n\tat com.databricks.backend.daemon.data.client.DbfsClient.send0(DbfsClient.scala:128)\n\tat com.databricks.backend.daemon.data.client.DbfsClient.sendIdempotent(DbfsClient.scala:68)\n\tat com.databricks.backend.daemon.dbutils.DBUtilsCore.createOrUpdateMount(DBUtilsCore.scala:756)\n\tat com.databricks.backend.daemon.dbutils.DBUtilsCore.mount(DBUtilsCore.scala:776)\n\tat sun.reflect.NativeMethodAccessorImpl.invoke0(Native Method)\n\tat sun.reflect.NativeMethodAccessorImpl.invoke(NativeMethodAccessorImpl.java:62)\n\tat sun.reflect.DelegatingMethodAccessorImpl.invoke(DelegatingMethodAccessorImpl.java:43)\n\tat java.lang.reflect.Method.invoke(Method.java:498)\n\tat py4j.reflection.MethodInvoker.invoke(MethodInvoker.java:244)\n\tat py4j.reflection.ReflectionEngine.invoke(ReflectionEngine.java:380)\n\tat py4j.Gateway.invoke(Gateway.java:295)\n\tat py4j.commands.AbstractCommand.invokeMethod(AbstractCommand.java:132)\n\tat py4j.commands.CallCommand.execute(CallCommand.java:79)\n\tat py4j.GatewayConnection.run(GatewayConnection.java:251)\n\tat java.lang.Thread.run(Thread.java:750)\nCaused by: java.lang.IllegalArgumentException: requirement failed: Directory already mounted: /mnt/0a8597384a69-bucket\n\tat scala.Predef$.require(Predef.scala:281)\n\tat com.databricks.backend.daemon.data.server.DefaultMetadataManager.$anonfun$insertMount$1(MetadataManager.scala:536)\n\tat com.databricks.backend.daemon.data.server.DefaultMetadataManager.$anonfun$modifyAndVerify$2(MetadataManager.scala:904)\n\tat scala.runtime.java8.JFunction0$mcV$sp.apply(JFunction0$mcV$sp.java:23)\n\tat com.databricks.backend.daemon.data.server.DefaultMetadataManager.withRetries(MetadataManager.scala:685)\n\tat com.databricks.backend.daemon.data.server.DefaultMetadataManager.modifyAndVerify(MetadataManager.scala:893)\n\tat com.databricks.backend.daemon.data.server.DefaultMetadataManager.insertMount(MetadataManager.scala:544)\n\tat com.databricks.backend.daemon.data.server.handler.MountHandler.receive(MountHandler.scala:120)\n\tat com.databricks.backend.daemon.data.server.session.SessionContext.$anonfun$queryHandlers$1(SessionContext.scala:54)\n\tat com.databricks.backend.daemon.data.server.session.SessionContext.$anonfun$queryHandlers$1$adapted(SessionContext.scala:53)\n\tat scala.collection.immutable.List.foreach(List.scala:431)\n\tat com.databricks.backend.daemon.data.server.session.SessionContext.queryHandlers(SessionContext.scala:53)\n\tat com.databricks.backend.daemon.data.server.DbfsServerBackend$$anonfun$receive$4.$anonfun$applyOrElse$5(DbfsServerBackend.scala:368)\n\tat com.databricks.logging.UsageLogging.$anonfun$withAttributionContext$1(UsageLogging.scala:421)\n\tat scala.util.DynamicVariable.withValue(DynamicVariable.scala:62)\n\tat com.databricks.logging.AttributionContext$.withValue(AttributionContext.scala:196)\n\tat com.databricks.logging.UsageLogging.withAttributionContext(UsageLogging.scala:419)\n\tat com.databricks.logging.UsageLogging.withAttributionContext$(UsageLogging.scala:413)\n\tat com.databricks.rpc.ServerBackend.withAttributionContext(ServerBackend.scala:22)\n\tat com.databricks.logging.UsageLogging.withAttributionTags(UsageLogging.scala:465)\n\tat com.databricks.logging.UsageLogging.withAttributionTags$(UsageLogging.scala:450)\n\tat com.databricks.rpc.ServerBackend.withAttributionTags(ServerBackend.scala:22)\n\tat com.databricks.backend.daemon.data.server.DbfsServerBackend$$anonfun$receive$4.applyOrElse(DbfsServerBackend.scala:368)\n\tat com.databricks.backend.daemon.data.server.DbfsServerBackend$$anonfun$receive$4.applyOrElse(DbfsServerBackend.scala:324)\n\tat com.databricks.rpc.ServerBackend.$anonfun$internalReceive0$2(ServerBackend.scala:174)\n\tat com.databricks.rpc.ServerBackend$$anonfun$commonReceive$1.applyOrElse(ServerBackend.scala:200)\n\tat com.databricks.rpc.ServerBackend$$anonfun$commonReceive$1.applyOrElse(ServerBackend.scala:200)\n\tat com.databricks.rpc.ServerBackend.internalReceive0(ServerBackend.scala:171)\n\tat com.databricks.rpc.ServerBackend.$anonfun$internalReceive$1(ServerBackend.scala:147)\n\tat com.databricks.logging.UsageLogging.$anonfun$recordOperation$1(UsageLogging.scala:563)\n\tat com.databricks.logging.UsageLogging.executeThunkAndCaptureResultTags$1(UsageLogging.scala:657)\n\tat com.databricks.logging.UsageLogging.$anonfun$recordOperationWithResultTags$4(UsageLogging.scala:675)\n\tat com.databricks.logging.UsageLogging.$anonfun$withAttributionContext$1(UsageLogging.scala:421)\n\tat scala.util.DynamicVariable.withValue(DynamicVariable.scala:62)\n\tat com.databricks.logging.AttributionContext$.withValue(AttributionContext.scala:196)\n\tat com.databricks.logging.UsageLogging.withAttributionContext(UsageLogging.scala:419)\n\tat com.databricks.logging.UsageLogging.withAttributionContext$(UsageLogging.scala:413)\n\tat com.databricks.rpc.ServerBackend.withAttributionContext(ServerBackend.scala:22)\n\tat com.databricks.logging.UsageLogging.withAttributionTags(UsageLogging.scala:465)\n\tat com.databricks.logging.UsageLogging.withAttributionTags$(UsageLogging.scala:450)\n\tat com.databricks.rpc.ServerBackend.withAttributionTags(ServerBackend.scala:22)\n\tat com.databricks.logging.UsageLogging.recordOperationWithResultTags(UsageLogging.scala:652)\n\tat com.databricks.logging.UsageLogging.recordOperationWithResultTags$(UsageLogging.scala:572)\n\tat com.databricks.rpc.ServerBackend.recordOperationWithResultTags(ServerBackend.scala:22)\n\tat com.databricks.logging.UsageLogging.recordOperation(UsageLogging.scala:563)\n\tat com.databricks.logging.UsageLogging.recordOperation$(UsageLogging.scala:534)\n\tat com.databricks.rpc.ServerBackend.recordOperation(ServerBackend.scala:22)\n\tat com.databricks.rpc.ServerBackend.internalReceive(ServerBackend.scala:147)\n\tat com.databricks.rpc.JettyServer$RequestManager.handleRPC(JettyServer.scala:973)\n\tat com.databricks.rpc.JettyServer$RequestManager.handleRequestAndRespond(JettyServer.scala:884)\n\tat com.databricks.rpc.JettyServer$RequestManager.$anonfun$handleHttp$3(JettyServer.scala:512)\n\tat com.databricks.rpc.JettyServer$RequestManager.$anonfun$handleHttp$3$adapted(JettyServer.scala:487)\n\tat com.databricks.logging.activity.ActivityContextFactory$.$anonfun$withActivityInternal$2(ActivityContextFactory.scala:401)\n\tat com.databricks.logging.UsageLogging.$anonfun$withAttributionContext$1(UsageLogging.scala:421)\n\tat scala.util.DynamicVariable.withValue(DynamicVariable.scala:62)\n\tat com.databricks.logging.AttributionContext$.withValue(AttributionContext.scala:196)\n\tat com.databricks.logging.UsageLogging.withAttributionContext(UsageLogging.scala:419)\n\tat com.databricks.logging.UsageLogging.withAttributionContext$(UsageLogging.scala:413)\n\tat com.databricks.logging.activity.ActivityContextFactory$.withAttributionContext(ActivityContextFactory.scala:54)\n\tat com.databricks.logging.activity.ActivityContextFactory$.withActivityInternal(ActivityContextFactory.scala:401)\n\tat com.databricks.logging.activity.ActivityContextFactory$.withServiceRequestActivity(ActivityContextFactory.scala:163)\n\tat com.databricks.rpc.JettyServer$RequestManager.handleHttp(JettyServer.scala:487)\n\tat com.databricks.rpc.JettyServer$RequestManager.doPost(JettyServer.scala:388)\n\tat javax.servlet.http.HttpServlet.service(HttpServlet.java:707)\n\tat com.databricks.rpc.HttpServletWithPatch.service(HttpServletWithPatch.scala:33)\n\tat javax.servlet.http.HttpServlet.service(HttpServlet.java:790)\n\tat org.eclipse.jetty.servlet.ServletHolder.handle(ServletHolder.java:848)\n\tat org.eclipse.jetty.servlet.ServletHandler.doHandle(ServletHandler.java:585)\n\tat org.eclipse.jetty.servlet.ServletHandler.doScope(ServletHandler.java:515)\n\tat org.eclipse.jetty.server.handler.ScopedHandler.handle(ScopedHandler.java:141)\n\tat org.eclipse.jetty.server.handler.HandlerWrapper.handle(HandlerWrapper.java:134)\n\tat org.eclipse.jetty.server.Server.handle(Server.java:539)\n\tat org.eclipse.jetty.server.HttpChannel.handle(HttpChannel.java:333)\n\tat org.eclipse.jetty.server.HttpConnection.onFillable(HttpConnection.java:251)\n\tat org.eclipse.jetty.io.AbstractConnection$ReadCallback.succeeded(AbstractConnection.java:283)\n\tat org.eclipse.jetty.io.FillInterest.fillable(FillInterest.java:108)\n\tat org.eclipse.jetty.io.SelectChannelEndPoint$2.run(SelectChannelEndPoint.java:93)\n\tat org.eclipse.jetty.util.thread.strategy.ExecuteProduceConsume.executeProduceConsume(ExecuteProduceConsume.java:303)\n\tat org.eclipse.jetty.util.thread.strategy.ExecuteProduceConsume.produceConsume(ExecuteProduceConsume.java:148)\n\tat org.eclipse.jetty.util.thread.strategy.ExecuteProduceConsume.run(ExecuteProduceConsume.java:136)\n\tat com.databricks.rpc.InstrumentedQueuedThreadPool$$anon$1.$anonfun$run$1(InstrumentedQueuedThreadPool.scala:81)\n\tat scala.runtime.java8.JFunction0$mcV$sp.apply(JFunction0$mcV$sp.java:23)\n\tat com.databricks.instrumentation.QueuedThreadPoolInstrumenter.trackActiveThreads(QueuedThreadPoolInstrumenter.scala:73)\n\tat com.databricks.instrumentation.QueuedThreadPoolInstrumenter.trackActiveThreads$(QueuedThreadPoolInstrumenter.scala:70)\n\tat com.databricks.rpc.InstrumentedQueuedThreadPool.trackActiveThreads(InstrumentedQueuedThreadPool.scala:47)\n\tat com.databricks.rpc.InstrumentedQueuedThreadPool$$anon$1.run(InstrumentedQueuedThreadPool.scala:76)\n\tat org.eclipse.jetty.util.thread.QueuedThreadPool.runJob(QueuedThreadPool.java:671)\n\tat org.eclipse.jetty.util.thread.QueuedThreadPool$2.run(QueuedThreadPool.java:589)\n\t... 1 more\n</div>",
       "errorSummary": "java.rmi.RemoteException: java.lang.IllegalArgumentException: requirement failed: Directory already mounted: /mnt/0a8597384a69-bucket; nested exception is: ",
       "errorTraceType": "html",
       "metadata": {},
       "type": "ipynbError"
      }
     },
     "output_type": "display_data"
    }
   ],
   "source": [
    "# pyspark functions\n",
    "from pyspark.sql.functions import *\n",
    "# URL processing\n",
    "import urllib\n",
    "\n",
    "# Specify file type to be csv\n",
    "file_type = \"csv\"\n",
    "# Indicates file has first row as the header\n",
    "first_row_is_header = \"true\"\n",
    "# Indicates file has comma as the delimeter\n",
    "delimiter = \",\"\n",
    "# Read the CSV file to spark dataframe\n",
    "aws_keys_df = spark.read.format(file_type)\\\n",
    ".option(\"header\", first_row_is_header)\\\n",
    ".option(\"sep\", delimiter)\\\n",
    ".load(\"/FileStore/tables/authentication_credentials.csv\")\n",
    "\n",
    "# Get the AWS access key and secret key from the spark dataframe\n",
    "ACCESS_KEY = aws_keys_df.where(col('User name')=='databricks-user').select('Access key ID').collect()[0]['Access key ID']\n",
    "SECRET_KEY = aws_keys_df.where(col('User name')=='databricks-user').select('Secret access key').collect()[0]['Secret access key']\n",
    "# Encode the secrete key\n",
    "ENCODED_SECRET_KEY = urllib.parse.quote(string=SECRET_KEY, safe=\"\")\n",
    "\n",
    "# AWS S3 bucket name\n",
    "AWS_S3_BUCKET = \"user-0a8597384a69-bucket\"\n",
    "# Mount name for the bucket\n",
    "MOUNT_NAME = \"/mnt/0a8597384a69-bucket\"\n",
    "# Source url\n",
    "SOURCE_URL = \"s3n://{0}:{1}@{2}\".format(ACCESS_KEY, ENCODED_SECRET_KEY, AWS_S3_BUCKET)\n",
    "# Mount the drive\n",
    "dbutils.fs.mount(SOURCE_URL, MOUNT_NAME)\n"
   ]
  },
  {
   "cell_type": "code",
   "execution_count": 0,
   "metadata": {
    "application/vnd.databricks.v1+cell": {
     "cellMetadata": {
      "byteLimit": 2048000,
      "rowLimit": 10000
     },
     "inputWidgets": {},
     "nuid": "166f6e74-12b7-49e0-9c66-ee03a84e034d",
     "showTitle": false,
     "title": ""
    }
   },
   "outputs": [
    {
     "output_type": "display_data",
     "data": {
      "text/html": [
       "<style scoped>\n",
       "  .table-result-container {\n",
       "    max-height: 300px;\n",
       "    overflow: auto;\n",
       "  }\n",
       "  table, th, td {\n",
       "    border: 1px solid black;\n",
       "    border-collapse: collapse;\n",
       "  }\n",
       "  th, td {\n",
       "    padding: 5px;\n",
       "  }\n",
       "  th {\n",
       "    text-align: left;\n",
       "  }\n",
       "</style><div class='table-result-container'><table class='table-result'><thead style='background-color: white'><tr><th>age</th><th>date_joined</th><th>first_name</th><th>index</th><th>last_name</th></tr></thead><tbody><tr><td>21</td><td>2015-11-10T09:27:42</td><td>Andrea</td><td>8731</td><td>Alexander</td></tr><tr><td>24</td><td>2016-03-31T20:56:39</td><td>Austin</td><td>8887</td><td>Rodriguez</td></tr><tr><td>36</td><td>2015-12-20T16:38:13</td><td>Michelle</td><td>4315</td><td>Prince</td></tr><tr><td>32</td><td>2017-10-10T20:09:33</td><td>Christian</td><td>10625</td><td>Lang</td></tr><tr><td>22</td><td>2016-02-11T20:46:04</td><td>Jennifer</td><td>9672</td><td>Hudson</td></tr><tr><td>32</td><td>2016-04-02T03:51:23</td><td>Brittany</td><td>1313</td><td>Jones</td></tr><tr><td>34</td><td>2016-12-22T00:02:02</td><td>Thomas</td><td>10794</td><td>Turner</td></tr><tr><td>20</td><td>2016-01-07T19:49:22</td><td>David</td><td>2959</td><td>Griffith</td></tr><tr><td>26</td><td>2015-12-20T10:28:00</td><td>Brendan</td><td>9875</td><td>Joseph</td></tr><tr><td>21</td><td>2016-01-03T15:42:12</td><td>Annette</td><td>2074</td><td>Forbes</td></tr><tr><td>56</td><td>2016-10-15T17:21:39</td><td>Gregory</td><td>1014</td><td>Ramsey</td></tr><tr><td>59</td><td>2017-06-29T22:35:17</td><td>Michael</td><td>4137</td><td>Decker</td></tr><tr><td>25</td><td>2015-12-28T04:21:39</td><td>Charles</td><td>8304</td><td>Berry</td></tr><tr><td>23</td><td>2015-11-25T13:36:22</td><td>Corey</td><td>6063</td><td>Andrews</td></tr><tr><td>48</td><td>2017-09-26T16:31:56</td><td>Robert</td><td>3454</td><td>Murphy</td></tr><tr><td>20</td><td>2017-04-11T16:35:33</td><td>Cheryl</td><td>7554</td><td>Huerta</td></tr><tr><td>30</td><td>2015-12-25T20:24:37</td><td>Emily</td><td>6145</td><td>Hawkins</td></tr><tr><td>31</td><td>2016-11-09T19:50:51</td><td>Kaylee</td><td>9979</td><td>Miller</td></tr><tr><td>24</td><td>2015-11-20T05:37:11</td><td>Angela</td><td>4913</td><td>Brooks</td></tr><tr><td>32</td><td>2016-10-23T14:06:51</td><td>Dylan</td><td>2863</td><td>Holmes</td></tr><tr><td>36</td><td>2015-12-08T20:02:43</td><td>Rachel</td><td>5730</td><td>Davis</td></tr><tr><td>26</td><td>2015-11-11T03:20:57</td><td>Brian</td><td>2923</td><td>Nelson</td></tr><tr><td>20</td><td>2015-10-21T08:27:36</td><td>Amanda</td><td>2418</td><td>Adams</td></tr><tr><td>22</td><td>2015-12-21T08:06:54</td><td>Andrew</td><td>3156</td><td>Baker</td></tr><tr><td>20</td><td>2015-11-28T02:20:29</td><td>Claudia</td><td>428</td><td>Adams</td></tr><tr><td>24</td><td>2016-01-11T12:03:48</td><td>Anne</td><td>7343</td><td>Clayton</td></tr><tr><td>22</td><td>2015-12-31T14:57:02</td><td>Carol</td><td>10138</td><td>Silva</td></tr><tr><td>21</td><td>2015-11-12T06:21:36</td><td>Denise</td><td>7922</td><td>Adams</td></tr><tr><td>20</td><td>2015-10-24T11:23:51</td><td>Abigail</td><td>7528</td><td>Ali</td></tr><tr><td>20</td><td>2015-10-24T11:23:51</td><td>Abigail</td><td>7528</td><td>Ali</td></tr><tr><td>25</td><td>2016-01-13T17:36:30</td><td>Amanda</td><td>5069</td><td>Ball</td></tr><tr><td>20</td><td>2015-10-24T11:23:51</td><td>Abigail</td><td>3089</td><td>Ali</td></tr><tr><td>24</td><td>2016-03-09T10:48:14</td><td>Tammy</td><td>8653</td><td>Davis</td></tr><tr><td>20</td><td>2016-01-01T13:50:40</td><td>Alvin</td><td>7166</td><td>Adams</td></tr><tr><td>27</td><td>2015-12-16T15:20:05</td><td>Anne</td><td>5494</td><td>Allen</td></tr></tbody></table></div>"
      ]
     },
     "metadata": {
      "application/vnd.databricks.v1+output": {
       "addedWidgets": {},
       "aggData": [],
       "aggError": "",
       "aggOverflow": false,
       "aggSchema": [],
       "aggSeriesLimitReached": false,
       "aggType": "",
       "arguments": {},
       "columnCustomDisplayInfos": {},
       "data": [
        [
         21,
         "2015-11-10T09:27:42",
         "Andrea",
         8731,
         "Alexander"
        ],
        [
         24,
         "2016-03-31T20:56:39",
         "Austin",
         8887,
         "Rodriguez"
        ],
        [
         36,
         "2015-12-20T16:38:13",
         "Michelle",
         4315,
         "Prince"
        ],
        [
         32,
         "2017-10-10T20:09:33",
         "Christian",
         10625,
         "Lang"
        ],
        [
         22,
         "2016-02-11T20:46:04",
         "Jennifer",
         9672,
         "Hudson"
        ],
        [
         32,
         "2016-04-02T03:51:23",
         "Brittany",
         1313,
         "Jones"
        ],
        [
         34,
         "2016-12-22T00:02:02",
         "Thomas",
         10794,
         "Turner"
        ],
        [
         20,
         "2016-01-07T19:49:22",
         "David",
         2959,
         "Griffith"
        ],
        [
         26,
         "2015-12-20T10:28:00",
         "Brendan",
         9875,
         "Joseph"
        ],
        [
         21,
         "2016-01-03T15:42:12",
         "Annette",
         2074,
         "Forbes"
        ],
        [
         56,
         "2016-10-15T17:21:39",
         "Gregory",
         1014,
         "Ramsey"
        ],
        [
         59,
         "2017-06-29T22:35:17",
         "Michael",
         4137,
         "Decker"
        ],
        [
         25,
         "2015-12-28T04:21:39",
         "Charles",
         8304,
         "Berry"
        ],
        [
         23,
         "2015-11-25T13:36:22",
         "Corey",
         6063,
         "Andrews"
        ],
        [
         48,
         "2017-09-26T16:31:56",
         "Robert",
         3454,
         "Murphy"
        ],
        [
         20,
         "2017-04-11T16:35:33",
         "Cheryl",
         7554,
         "Huerta"
        ],
        [
         30,
         "2015-12-25T20:24:37",
         "Emily",
         6145,
         "Hawkins"
        ],
        [
         31,
         "2016-11-09T19:50:51",
         "Kaylee",
         9979,
         "Miller"
        ],
        [
         24,
         "2015-11-20T05:37:11",
         "Angela",
         4913,
         "Brooks"
        ],
        [
         32,
         "2016-10-23T14:06:51",
         "Dylan",
         2863,
         "Holmes"
        ],
        [
         36,
         "2015-12-08T20:02:43",
         "Rachel",
         5730,
         "Davis"
        ],
        [
         26,
         "2015-11-11T03:20:57",
         "Brian",
         2923,
         "Nelson"
        ],
        [
         20,
         "2015-10-21T08:27:36",
         "Amanda",
         2418,
         "Adams"
        ],
        [
         22,
         "2015-12-21T08:06:54",
         "Andrew",
         3156,
         "Baker"
        ],
        [
         20,
         "2015-11-28T02:20:29",
         "Claudia",
         428,
         "Adams"
        ],
        [
         24,
         "2016-01-11T12:03:48",
         "Anne",
         7343,
         "Clayton"
        ],
        [
         22,
         "2015-12-31T14:57:02",
         "Carol",
         10138,
         "Silva"
        ],
        [
         21,
         "2015-11-12T06:21:36",
         "Denise",
         7922,
         "Adams"
        ],
        [
         20,
         "2015-10-24T11:23:51",
         "Abigail",
         7528,
         "Ali"
        ],
        [
         20,
         "2015-10-24T11:23:51",
         "Abigail",
         7528,
         "Ali"
        ],
        [
         25,
         "2016-01-13T17:36:30",
         "Amanda",
         5069,
         "Ball"
        ],
        [
         20,
         "2015-10-24T11:23:51",
         "Abigail",
         3089,
         "Ali"
        ],
        [
         24,
         "2016-03-09T10:48:14",
         "Tammy",
         8653,
         "Davis"
        ],
        [
         20,
         "2016-01-01T13:50:40",
         "Alvin",
         7166,
         "Adams"
        ],
        [
         27,
         "2015-12-16T15:20:05",
         "Anne",
         5494,
         "Allen"
        ]
       ],
       "datasetInfos": [],
       "dbfsResultPath": null,
       "isJsonSchema": true,
       "metadata": {},
       "overflow": false,
       "plotOptions": {
        "customPlotOptions": {},
        "displayType": "table",
        "pivotAggregation": null,
        "pivotColumns": null,
        "xColumns": null,
        "yColumns": null
       },
       "removedWidgets": [],
       "schema": [
        {
         "metadata": "{}",
         "name": "age",
         "type": "\"long\""
        },
        {
         "metadata": "{}",
         "name": "date_joined",
         "type": "\"string\""
        },
        {
         "metadata": "{}",
         "name": "first_name",
         "type": "\"string\""
        },
        {
         "metadata": "{}",
         "name": "index",
         "type": "\"long\""
        },
        {
         "metadata": "{}",
         "name": "last_name",
         "type": "\"string\""
        }
       ],
       "type": "table"
      }
     },
     "output_type": "display_data"
    },
    {
     "output_type": "display_data",
     "data": {
      "text/html": [
       "<style scoped>\n",
       "  .table-result-container {\n",
       "    max-height: 300px;\n",
       "    overflow: auto;\n",
       "  }\n",
       "  table, th, td {\n",
       "    border: 1px solid black;\n",
       "    border-collapse: collapse;\n",
       "  }\n",
       "  th, td {\n",
       "    padding: 5px;\n",
       "  }\n",
       "  th {\n",
       "    text-align: left;\n",
       "  }\n",
       "</style><div class='table-result-container'><table class='table-result'><thead style='background-color: white'><tr><th>index</th><th>latitude</th><th>longitude</th><th>timestamp</th></tr></thead><tbody><tr><td>10794</td><td>-89.5236</td><td>-154.567</td><td>2022-01-01T02:26:50</td></tr><tr><td>10625</td><td>-84.4944</td><td>-81.0613</td><td>2018-07-13T11:51:15</td></tr><tr><td>7528</td><td>-89.9787</td><td>-173.293</td><td>2020-08-28T03:52:47</td></tr><tr><td>2863</td><td>-5.34445</td><td>-177.924</td><td>2020-04-27T13:34:16</td></tr><tr><td>5494</td><td>-82.6768</td><td>-129.202</td><td>2021-07-21T02:02:35</td></tr><tr><td>5069</td><td>-63.0063</td><td>-157.474</td><td>2021-03-20T09:32:44</td></tr><tr><td>2923</td><td>-84.6302</td><td>-164.507</td><td>2019-09-08T22:53:09</td></tr><tr><td>3089</td><td>-89.9787</td><td>-173.293</td><td>2018-02-28T05:31:29</td></tr><tr><td>6063</td><td>-89.1797</td><td>-174.015</td><td>2021-07-20T09:02:47</td></tr><tr><td>3454</td><td>-0.375174</td><td>49.8106</td><td>2021-07-25T02:20:29</td></tr><tr><td>7554</td><td>-51.2172</td><td>-77.9768</td><td>2019-03-20T03:15:07</td></tr><tr><td>6145</td><td>-65.9079</td><td>-143.845</td><td>2019-12-05T02:09:44</td></tr><tr><td>2959</td><td>-68.0095</td><td>-157.227</td><td>2019-08-19T08:22:02</td></tr><tr><td>9875</td><td>-74.3382</td><td>-110.484</td><td>2020-03-20T13:03:18</td></tr><tr><td>2418</td><td>-88.4642</td><td>-171.061</td><td>2022-05-27T11:30:59</td></tr><tr><td>7343</td><td>-65.4428</td><td>-161.684</td><td>2018-08-06T12:17:07</td></tr><tr><td>10138</td><td>-72.142</td><td>-74.3545</td><td>2019-08-03T00:59:29</td></tr><tr><td>8887</td><td>-28.0137</td><td>-160.708</td><td>2021-09-19T05:27:43</td></tr><tr><td>7922</td><td>-88.0974</td><td>-172.052</td><td>2021-01-27T09:14:19</td></tr><tr><td>4913</td><td>-84.3768</td><td>-157.544</td><td>2019-03-08T06:45:39</td></tr><tr><td>7166</td><td>-86.4063</td><td>-136.657</td><td>2022-07-25T03:07:37</td></tr><tr><td>5730</td><td>-77.015</td><td>-101.437</td><td>2021-04-19T17:37:03</td></tr><tr><td>8304</td><td>-28.8852</td><td>-164.87</td><td>2019-09-13T04:50:29</td></tr><tr><td>8731</td><td>-83.104</td><td>-171.302</td><td>2020-07-17T04:39:09</td></tr><tr><td>4315</td><td>-45.8508</td><td>66.1003</td><td>2019-12-15T03:51:28</td></tr><tr><td>3156</td><td>-84.738</td><td>-160.795</td><td>2018-01-13T19:33:49</td></tr><tr><td>428</td><td>-83.4105</td><td>-150.788</td><td>2020-09-27T18:46:41</td></tr><tr><td>9979</td><td>14.9967</td><td>-120.682</td><td>2018-07-18T19:01:46</td></tr><tr><td>9672</td><td>79.4658</td><td>-69.4133</td><td>2019-11-03T13:15:52</td></tr><tr><td>8653</td><td>48.4569</td><td>-139.658</td><td>2022-04-11T18:30:19</td></tr><tr><td>4137</td><td>-55.3079</td><td>108.918</td><td>2019-06-23T22:16:34</td></tr><tr><td>1313</td><td>77.0447</td><td>61.9119</td><td>2018-06-26T02:39:25</td></tr><tr><td>2074</td><td>-52.3213</td><td>-50.11</td><td>2019-11-03T05:41:59</td></tr><tr><td>1014</td><td>81.1477</td><td>69.3538</td><td>2022-02-03T22:05:34</td></tr></tbody></table></div>"
      ]
     },
     "metadata": {
      "application/vnd.databricks.v1+output": {
       "addedWidgets": {},
       "aggData": [],
       "aggError": "",
       "aggOverflow": false,
       "aggSchema": [],
       "aggSeriesLimitReached": false,
       "aggType": "",
       "arguments": {},
       "columnCustomDisplayInfos": {},
       "data": [
        [
         10794,
         -89.5236,
         -154.567,
         "2022-01-01T02:26:50"
        ],
        [
         10625,
         -84.4944,
         -81.0613,
         "2018-07-13T11:51:15"
        ],
        [
         7528,
         -89.9787,
         -173.293,
         "2020-08-28T03:52:47"
        ],
        [
         2863,
         -5.34445,
         -177.924,
         "2020-04-27T13:34:16"
        ],
        [
         5494,
         -82.6768,
         -129.202,
         "2021-07-21T02:02:35"
        ],
        [
         5069,
         -63.0063,
         -157.474,
         "2021-03-20T09:32:44"
        ],
        [
         2923,
         -84.6302,
         -164.507,
         "2019-09-08T22:53:09"
        ],
        [
         3089,
         -89.9787,
         -173.293,
         "2018-02-28T05:31:29"
        ],
        [
         6063,
         -89.1797,
         -174.015,
         "2021-07-20T09:02:47"
        ],
        [
         3454,
         -0.375174,
         49.8106,
         "2021-07-25T02:20:29"
        ],
        [
         7554,
         -51.2172,
         -77.9768,
         "2019-03-20T03:15:07"
        ],
        [
         6145,
         -65.9079,
         -143.845,
         "2019-12-05T02:09:44"
        ],
        [
         2959,
         -68.0095,
         -157.227,
         "2019-08-19T08:22:02"
        ],
        [
         9875,
         -74.3382,
         -110.484,
         "2020-03-20T13:03:18"
        ],
        [
         2418,
         -88.4642,
         -171.061,
         "2022-05-27T11:30:59"
        ],
        [
         7343,
         -65.4428,
         -161.684,
         "2018-08-06T12:17:07"
        ],
        [
         10138,
         -72.142,
         -74.3545,
         "2019-08-03T00:59:29"
        ],
        [
         8887,
         -28.0137,
         -160.708,
         "2021-09-19T05:27:43"
        ],
        [
         7922,
         -88.0974,
         -172.052,
         "2021-01-27T09:14:19"
        ],
        [
         4913,
         -84.3768,
         -157.544,
         "2019-03-08T06:45:39"
        ],
        [
         7166,
         -86.4063,
         -136.657,
         "2022-07-25T03:07:37"
        ],
        [
         5730,
         -77.015,
         -101.437,
         "2021-04-19T17:37:03"
        ],
        [
         8304,
         -28.8852,
         -164.87,
         "2019-09-13T04:50:29"
        ],
        [
         8731,
         -83.104,
         -171.302,
         "2020-07-17T04:39:09"
        ],
        [
         4315,
         -45.8508,
         66.1003,
         "2019-12-15T03:51:28"
        ],
        [
         3156,
         -84.738,
         -160.795,
         "2018-01-13T19:33:49"
        ],
        [
         428,
         -83.4105,
         -150.788,
         "2020-09-27T18:46:41"
        ],
        [
         9979,
         14.9967,
         -120.682,
         "2018-07-18T19:01:46"
        ],
        [
         9672,
         79.4658,
         -69.4133,
         "2019-11-03T13:15:52"
        ],
        [
         8653,
         48.4569,
         -139.658,
         "2022-04-11T18:30:19"
        ],
        [
         4137,
         -55.3079,
         108.918,
         "2019-06-23T22:16:34"
        ],
        [
         1313,
         77.0447,
         61.9119,
         "2018-06-26T02:39:25"
        ],
        [
         2074,
         -52.3213,
         -50.11,
         "2019-11-03T05:41:59"
        ],
        [
         1014,
         81.1477,
         69.3538,
         "2022-02-03T22:05:34"
        ]
       ],
       "datasetInfos": [],
       "dbfsResultPath": null,
       "isJsonSchema": true,
       "metadata": {},
       "overflow": false,
       "plotOptions": {
        "customPlotOptions": {},
        "displayType": "table",
        "pivotAggregation": null,
        "pivotColumns": null,
        "xColumns": null,
        "yColumns": null
       },
       "removedWidgets": [],
       "schema": [
        {
         "metadata": "{}",
         "name": "index",
         "type": "\"long\""
        },
        {
         "metadata": "{}",
         "name": "latitude",
         "type": "\"double\""
        },
        {
         "metadata": "{}",
         "name": "longitude",
         "type": "\"double\""
        },
        {
         "metadata": "{}",
         "name": "timestamp",
         "type": "\"string\""
        }
       ],
       "type": "table"
      }
     },
     "output_type": "display_data"
    },
    {
     "output_type": "display_data",
     "data": {
      "text/html": [
       "<style scoped>\n",
       "  .table-result-container {\n",
       "    max-height: 300px;\n",
       "    overflow: auto;\n",
       "  }\n",
       "  table, th, td {\n",
       "    border: 1px solid black;\n",
       "    border-collapse: collapse;\n",
       "  }\n",
       "  th, td {\n",
       "    padding: 5px;\n",
       "  }\n",
       "  th {\n",
       "    text-align: left;\n",
       "  }\n",
       "</style><div class='table-result-container'><table class='table-result'><thead style='background-color: white'><tr><th>age</th><th>date_joined</th><th>first_name</th><th>index</th><th>last_name</th></tr></thead><tbody><tr><td>21</td><td>2015-11-10T09:27:42</td><td>Andrea</td><td>8731</td><td>Alexander</td></tr><tr><td>24</td><td>2016-03-31T20:56:39</td><td>Austin</td><td>8887</td><td>Rodriguez</td></tr><tr><td>36</td><td>2015-12-20T16:38:13</td><td>Michelle</td><td>4315</td><td>Prince</td></tr><tr><td>32</td><td>2017-10-10T20:09:33</td><td>Christian</td><td>10625</td><td>Lang</td></tr><tr><td>22</td><td>2016-02-11T20:46:04</td><td>Jennifer</td><td>9672</td><td>Hudson</td></tr><tr><td>32</td><td>2016-04-02T03:51:23</td><td>Brittany</td><td>1313</td><td>Jones</td></tr><tr><td>34</td><td>2016-12-22T00:02:02</td><td>Thomas</td><td>10794</td><td>Turner</td></tr><tr><td>20</td><td>2016-01-07T19:49:22</td><td>David</td><td>2959</td><td>Griffith</td></tr><tr><td>26</td><td>2015-12-20T10:28:00</td><td>Brendan</td><td>9875</td><td>Joseph</td></tr><tr><td>21</td><td>2016-01-03T15:42:12</td><td>Annette</td><td>2074</td><td>Forbes</td></tr><tr><td>56</td><td>2016-10-15T17:21:39</td><td>Gregory</td><td>1014</td><td>Ramsey</td></tr><tr><td>59</td><td>2017-06-29T22:35:17</td><td>Michael</td><td>4137</td><td>Decker</td></tr><tr><td>25</td><td>2015-12-28T04:21:39</td><td>Charles</td><td>8304</td><td>Berry</td></tr><tr><td>23</td><td>2015-11-25T13:36:22</td><td>Corey</td><td>6063</td><td>Andrews</td></tr><tr><td>48</td><td>2017-09-26T16:31:56</td><td>Robert</td><td>3454</td><td>Murphy</td></tr><tr><td>20</td><td>2017-04-11T16:35:33</td><td>Cheryl</td><td>7554</td><td>Huerta</td></tr><tr><td>30</td><td>2015-12-25T20:24:37</td><td>Emily</td><td>6145</td><td>Hawkins</td></tr><tr><td>31</td><td>2016-11-09T19:50:51</td><td>Kaylee</td><td>9979</td><td>Miller</td></tr><tr><td>24</td><td>2015-11-20T05:37:11</td><td>Angela</td><td>4913</td><td>Brooks</td></tr><tr><td>32</td><td>2016-10-23T14:06:51</td><td>Dylan</td><td>2863</td><td>Holmes</td></tr><tr><td>36</td><td>2015-12-08T20:02:43</td><td>Rachel</td><td>5730</td><td>Davis</td></tr><tr><td>26</td><td>2015-11-11T03:20:57</td><td>Brian</td><td>2923</td><td>Nelson</td></tr><tr><td>20</td><td>2015-10-21T08:27:36</td><td>Amanda</td><td>2418</td><td>Adams</td></tr><tr><td>22</td><td>2015-12-21T08:06:54</td><td>Andrew</td><td>3156</td><td>Baker</td></tr><tr><td>20</td><td>2015-11-28T02:20:29</td><td>Claudia</td><td>428</td><td>Adams</td></tr><tr><td>24</td><td>2016-01-11T12:03:48</td><td>Anne</td><td>7343</td><td>Clayton</td></tr><tr><td>22</td><td>2015-12-31T14:57:02</td><td>Carol</td><td>10138</td><td>Silva</td></tr><tr><td>21</td><td>2015-11-12T06:21:36</td><td>Denise</td><td>7922</td><td>Adams</td></tr><tr><td>20</td><td>2015-10-24T11:23:51</td><td>Abigail</td><td>7528</td><td>Ali</td></tr><tr><td>25</td><td>2016-01-13T17:36:30</td><td>Amanda</td><td>5069</td><td>Ball</td></tr><tr><td>20</td><td>2015-10-24T11:23:51</td><td>Abigail</td><td>3089</td><td>Ali</td></tr><tr><td>24</td><td>2016-03-09T10:48:14</td><td>Tammy</td><td>8653</td><td>Davis</td></tr><tr><td>20</td><td>2016-01-01T13:50:40</td><td>Alvin</td><td>7166</td><td>Adams</td></tr><tr><td>27</td><td>2015-12-16T15:20:05</td><td>Anne</td><td>5494</td><td>Allen</td></tr></tbody></table></div>"
      ]
     },
     "metadata": {
      "application/vnd.databricks.v1+output": {
       "addedWidgets": {},
       "aggData": [],
       "aggError": "",
       "aggOverflow": false,
       "aggSchema": [],
       "aggSeriesLimitReached": false,
       "aggType": "",
       "arguments": {},
       "columnCustomDisplayInfos": {},
       "data": [
        [
         21,
         "2015-11-10T09:27:42",
         "Andrea",
         8731,
         "Alexander"
        ],
        [
         24,
         "2016-03-31T20:56:39",
         "Austin",
         8887,
         "Rodriguez"
        ],
        [
         36,
         "2015-12-20T16:38:13",
         "Michelle",
         4315,
         "Prince"
        ],
        [
         32,
         "2017-10-10T20:09:33",
         "Christian",
         10625,
         "Lang"
        ],
        [
         22,
         "2016-02-11T20:46:04",
         "Jennifer",
         9672,
         "Hudson"
        ],
        [
         32,
         "2016-04-02T03:51:23",
         "Brittany",
         1313,
         "Jones"
        ],
        [
         34,
         "2016-12-22T00:02:02",
         "Thomas",
         10794,
         "Turner"
        ],
        [
         20,
         "2016-01-07T19:49:22",
         "David",
         2959,
         "Griffith"
        ],
        [
         26,
         "2015-12-20T10:28:00",
         "Brendan",
         9875,
         "Joseph"
        ],
        [
         21,
         "2016-01-03T15:42:12",
         "Annette",
         2074,
         "Forbes"
        ],
        [
         56,
         "2016-10-15T17:21:39",
         "Gregory",
         1014,
         "Ramsey"
        ],
        [
         59,
         "2017-06-29T22:35:17",
         "Michael",
         4137,
         "Decker"
        ],
        [
         25,
         "2015-12-28T04:21:39",
         "Charles",
         8304,
         "Berry"
        ],
        [
         23,
         "2015-11-25T13:36:22",
         "Corey",
         6063,
         "Andrews"
        ],
        [
         48,
         "2017-09-26T16:31:56",
         "Robert",
         3454,
         "Murphy"
        ],
        [
         20,
         "2017-04-11T16:35:33",
         "Cheryl",
         7554,
         "Huerta"
        ],
        [
         30,
         "2015-12-25T20:24:37",
         "Emily",
         6145,
         "Hawkins"
        ],
        [
         31,
         "2016-11-09T19:50:51",
         "Kaylee",
         9979,
         "Miller"
        ],
        [
         24,
         "2015-11-20T05:37:11",
         "Angela",
         4913,
         "Brooks"
        ],
        [
         32,
         "2016-10-23T14:06:51",
         "Dylan",
         2863,
         "Holmes"
        ],
        [
         36,
         "2015-12-08T20:02:43",
         "Rachel",
         5730,
         "Davis"
        ],
        [
         26,
         "2015-11-11T03:20:57",
         "Brian",
         2923,
         "Nelson"
        ],
        [
         20,
         "2015-10-21T08:27:36",
         "Amanda",
         2418,
         "Adams"
        ],
        [
         22,
         "2015-12-21T08:06:54",
         "Andrew",
         3156,
         "Baker"
        ],
        [
         20,
         "2015-11-28T02:20:29",
         "Claudia",
         428,
         "Adams"
        ],
        [
         24,
         "2016-01-11T12:03:48",
         "Anne",
         7343,
         "Clayton"
        ],
        [
         22,
         "2015-12-31T14:57:02",
         "Carol",
         10138,
         "Silva"
        ],
        [
         21,
         "2015-11-12T06:21:36",
         "Denise",
         7922,
         "Adams"
        ],
        [
         20,
         "2015-10-24T11:23:51",
         "Abigail",
         7528,
         "Ali"
        ],
        [
         25,
         "2016-01-13T17:36:30",
         "Amanda",
         5069,
         "Ball"
        ],
        [
         20,
         "2015-10-24T11:23:51",
         "Abigail",
         3089,
         "Ali"
        ],
        [
         24,
         "2016-03-09T10:48:14",
         "Tammy",
         8653,
         "Davis"
        ],
        [
         20,
         "2016-01-01T13:50:40",
         "Alvin",
         7166,
         "Adams"
        ],
        [
         27,
         "2015-12-16T15:20:05",
         "Anne",
         5494,
         "Allen"
        ]
       ],
       "datasetInfos": [],
       "dbfsResultPath": null,
       "isJsonSchema": true,
       "metadata": {},
       "overflow": false,
       "plotOptions": {
        "customPlotOptions": {},
        "displayType": "table",
        "pivotAggregation": null,
        "pivotColumns": null,
        "xColumns": null,
        "yColumns": null
       },
       "removedWidgets": [],
       "schema": [
        {
         "metadata": "{}",
         "name": "age",
         "type": "\"long\""
        },
        {
         "metadata": "{}",
         "name": "date_joined",
         "type": "\"string\""
        },
        {
         "metadata": "{}",
         "name": "first_name",
         "type": "\"string\""
        },
        {
         "metadata": "{}",
         "name": "index",
         "type": "\"long\""
        },
        {
         "metadata": "{}",
         "name": "last_name",
         "type": "\"string\""
        }
       ],
       "type": "table"
      }
     },
     "output_type": "display_data"
    }
   ],
   "source": [
    "# File location and type\n",
    "# Asterisk(*) indicates reading all the content of the specified file that have .json extension\n",
    "file_location = \"/mnt/0a8597384a69-bucket/topics/0a8597384a69.{}/partition=0/*.json\" \n",
    "file_type = \"json\"\n",
    "# Ask Spark to infer the schema\n",
    "infer_schema = \"true\"\n",
    "# Read in JSONs from mounted S3 bucket\n",
    "df_pin = spark.read.format(file_type) \\\n",
    ".option(\"inferSchema\", infer_schema) \\\n",
    ".load(file_location.format(\"pin\"))\n",
    "df_geo = spark.read.format(file_type) \\\n",
    ".option(\"inferSchema\", infer_schema) \\\n",
    ".load(file_location.format(\"geo\"))\n",
    "df_user = spark.read.format(file_type) \\\n",
    ".option(\"inferSchema\", infer_schema) \\\n",
    ".load(file_location.format(\"user\"))\n",
    "# Display Spark dataframe to check its content\n",
    "display(df_pin)\n",
    "display(df_geo)\n",
    "display(df_user)"
   ]
  }
 ],
 "metadata": {
  "application/vnd.databricks.v1+notebook": {
   "dashboards": [],
   "language": "python",
   "notebookMetadata": {
    "pythonIndentUnit": 4
   },
   "notebookName": "Untitled Notebook 2023-05-31 20:32:21",
   "widgets": {}
  }
 },
 "nbformat": 4,
 "nbformat_minor": 0
}
