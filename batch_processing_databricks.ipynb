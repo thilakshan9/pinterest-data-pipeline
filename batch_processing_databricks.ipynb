{
 "cells": [
  {
   "cell_type": "code",
   "execution_count": null,
   "metadata": {
    "application/vnd.databricks.v1+cell": {
     "cellMetadata": {
      "byteLimit": 2048000,
      "rowLimit": 10000
     },
     "inputWidgets": {},
     "nuid": "22c8a29c-3822-4ac7-b694-82254561b122",
     "showTitle": false,
     "title": ""
    }
   },
   "outputs": [
    {
     "data": {
      "text/html": [
       "<style scoped>\n",
       "  .ansiout {\n",
       "    display: block;\n",
       "    unicode-bidi: embed;\n",
       "    white-space: pre-wrap;\n",
       "    word-wrap: break-word;\n",
       "    word-break: break-all;\n",
       "    font-family: \"Source Code Pro\", \"Menlo\", monospace;;\n",
       "    font-size: 13px;\n",
       "    color: #555;\n",
       "    margin-left: 4px;\n",
       "    line-height: 19px;\n",
       "  }\n",
       "</style>\n",
       "<div class=\"ansiout\">/mnt/0a8597384a69-bucket has been unmounted.\n",
       "Out[114]: True</div>"
      ]
     },
     "metadata": {
      "application/vnd.databricks.v1+output": {
       "addedWidgets": {},
       "arguments": {},
       "data": "<div class=\"ansiout\">/mnt/0a8597384a69-bucket has been unmounted.\nOut[114]: True</div>",
       "datasetInfos": [],
       "metadata": {},
       "removedWidgets": [],
       "type": "html"
      }
     },
     "output_type": "display_data"
    }
   ],
   "source": [
    "# pyspark functions\n",
    "from pyspark.sql.functions import *\n",
    "# URL processing\n",
    "import urllib\n",
    "\n",
    "dbutils.fs.unmount(\"/mnt/0a8597384a69-bucket\")\n",
    "# Specify file type to be csv\n",
    "file_type = \"csv\"\n",
    "# Indicates file has first row as the header\n",
    "first_row_is_header = \"true\"\n",
    "# Indicates file has comma as the delimeter\n",
    "delimiter = \",\"\n",
    "# Read the CSV file to spark dataframe\n",
    "aws_keys_df = spark.read.format(file_type)\\\n",
    ".option(\"header\", first_row_is_header)\\\n",
    ".option(\"sep\", delimiter)\\\n",
    ".load(\"/FileStore/tables/authentication_credentials.csv\")\n",
    "\n",
    "# Get the AWS access key and secret key from the spark dataframe\n",
    "ACCESS_KEY = aws_keys_df.where(col('User name')=='databricks-user').select('Access key ID').collect()[0]['Access key ID']\n",
    "SECRET_KEY = aws_keys_df.where(col('User name')=='databricks-user').select('Secret access key').collect()[0]['Secret access key']\n",
    "# Encode the secrete key\n",
    "ENCODED_SECRET_KEY = urllib.parse.quote(string=SECRET_KEY, safe=\"\")\n",
    "\n",
    "# AWS S3 bucket name\n",
    "AWS_S3_BUCKET = \"user-0a8597384a69-bucket\"\n",
    "# Mount name for the bucket\n",
    "MOUNT_NAME = \"/mnt/0a8597384a69-bucket\"\n",
    "# Source url\n",
    "SOURCE_URL = \"s3n://{0}:{1}@{2}\".format(ACCESS_KEY, ENCODED_SECRET_KEY, AWS_S3_BUCKET)\n",
    "# Mount the drive\n",
    "dbutils.fs.mount(SOURCE_URL, MOUNT_NAME)\n"
   ]
  },
  {
   "cell_type": "code",
   "execution_count": null,
   "metadata": {
    "application/vnd.databricks.v1+cell": {
     "cellMetadata": {
      "byteLimit": 2048000,
      "rowLimit": 10000
     },
     "inputWidgets": {},
     "nuid": "166f6e74-12b7-49e0-9c66-ee03a84e034d",
     "showTitle": false,
     "title": ""
    }
   },
   "outputs": [
    {
     "data": {
      "text/html": [
       "<style scoped>\n",
       "  .table-result-container {\n",
       "    max-height: 300px;\n",
       "    overflow: auto;\n",
       "  }\n",
       "  table, th, td {\n",
       "    border: 1px solid black;\n",
       "    border-collapse: collapse;\n",
       "  }\n",
       "  th, td {\n",
       "    padding: 5px;\n",
       "  }\n",
       "  th {\n",
       "    text-align: left;\n",
       "  }\n",
       "</style><div class='table-result-container'><table class='table-result'><thead style='background-color: white'><tr><th>category</th><th>description</th><th>downloaded</th><th>follower_count</th><th>image_src</th><th>index</th><th>is_image_or_video</th><th>poster_name</th><th>save_location</th><th>tag_list</th><th>title</th><th>unique_id</th></tr></thead><tbody><tr><td>diy-and-crafts</td><td>This post may contain affiliate links, read our Disclosure Policy for more information. As an Amazon Associate I earn from qualifying purchases, thank you! Make some cute handpr… </td><td>1</td><td>892k</td><td>https://i.pinimg.com/originals/ff/fe/38/fffe384f3ec18a0d87cb2d80cc8c1499.jpg</td><td>3156</td><td>image</td><td>Michelle {CraftyMorning.com}</td><td>Local save in /data/diy-and-crafts</td><td>Christmas Gifts For Parents,Christmas Decorations For Kids,Christmas Crafts For Toddlers,Preschool Christmas,Christmas Crafts For Gifts,Christmas Activities,Toddler Crafts,Kids Christmas,Christmas Feeling</td><td>Handprint Reindeer Ornaments - Crafty Morning</td><td>fa6e31a4-18c2-4eca-a6d8-e903eee2c2a4</td></tr><tr><td>finance</td><td>If you love budgeting, make sure to give Dave Ramsey's 7 Baby Steps a try. Follow these steps to begin your debt snowball, build an emergency fund, invest and reach riches. I ca… </td><td>1</td><td>26k</td><td>https://i.pinimg.com/originals/1e/9d/90/1e9d906e4e150e3b95187f3b76ea7c71.png</td><td>5494</td><td>image</td><td>Living Low Key | Save Money, Make Money, & Frugal Living</td><td>Local save in /data/finance</td><td>Financial Peace,Financial Tips,Saving Money Quotes,Total Money Makeover,Budgeting Finances,Money Management,Wealth Management,Personal Finance,Making Ideas</td><td>Dave Ramsey's 7 Baby Steps: What Are They And Will They Work For You</td><td>8fb2af68-543b-4639-8119-de33d28706ed</td></tr><tr><td>christmas</td><td>Here are the best DIY Christmas Centerpieces ideas perfect for your Christmas & holiday season home decor. From Christmas Vignettes to Table Centerpieces.</td><td>1</td><td>500k</td><td>https://i.pinimg.com/originals/aa/6d/0f/aa6d0f44d7c1c96b998cb9aa6c4446b8.png</td><td>2418</td><td>image</td><td>HikenDip</td><td>Local save in /data/christmas</td><td>Farmhouse Christmas Decor,Rustic Christmas,Christmas Time,Vintage Christmas,Xmas,Primitive Christmas Crafts,Christmas Vignette,Indoor Christmas Decorations,Diy Christmas Ornaments</td><td>100 DIY Christmas Centerpieces You'll Love To Decorate Your Home With For The Christmas Season - Hike n Dip</td><td>da8745a6-5160-46c4-877d-181d50a729fd</td></tr><tr><td>home-decor</td><td>Holiday mantle decor, Christmas decor, metallic mercury glass style Christmas trees, eucalyptus vine, evergreen pine branches, white neutral holiday decor, cozy mantle for the h… </td><td>1</td><td>83k</td><td>https://i.pinimg.com/originals/9d/82/1a/9d821a80acd8f90c16454e978bd9b115.jpg</td><td>6145</td><td>image</td><td>Stylin by Aylin</td><td>Local save in /data/home-decor</td><td>Winter Home Decor,Christmas Living Room Decor,Living Room Decor Cozy,Christmas Decor,Cozy Fireplace,Rustic Fireplace Decor,Fireplace Decorations,Rustic Room,House Decorations</td><td>HOLIDAY MANTLE DECOR - @AMAZON & @TARGET FINDS</td><td>82e13a07-db99-43a3-b1c0-89a4b75821da</td></tr><tr><td>education</td><td>Podcasts for Teachers or Parents of Teenagers: Teaching teens middle school and high school can feel joyful and rewarding most days, but can also frustrate you with one challeng… </td><td>1</td><td>25k</td><td>https://i.pinimg.com/originals/50/19/31/501931a27ee4d076658980851b995b2c.jpg</td><td>4315</td><td>image</td><td>Math Giraffe</td><td>Local save in /data/education</td><td>Middle School Classroom,High School Students,High School Teachers,Middle School Tips,High School Counseling,Ela Classroom,High School Science,Future Classroom,Google Classroom</td><td>Podcasts for Teachers or Parents of Teenagers</td><td>21b59ba9-829d-4c33-8c27-4cd4c56d26b8</td></tr><tr><td>event-planning</td><td>Sacramento California Wedding 2 Chic Events & Design Jodi Yorston Photography Wilson Vineyards Barn Miosa Couture Yellow Barn Vineyard Outdoor Candles DIY</td><td>1</td><td>6M</td><td>https://i.pinimg.com/originals/7e/45/90/7e45905fefa36347e83333fd6d091140.jpg</td><td>5069</td><td>image</td><td>Style Me Pretty</td><td>Local save in /data/event-planning</td><td>60th Anniversary Parties,Anniversary Decorations,Golden Anniversary,25th Wedding Anniversary,Anniversary Pictures,Anniversary Ideas,Birthday Decorations,Event Planning Design,Event Design</td><td>The Vault: Curated & Refined Wedding Inspiration</td><td>b75b6f87-deb3-444f-b29e-ce9161b2df49</td></tr><tr><td>mens-fashion</td><td>Black And Brown Outfits You Need To Try This Fall Season. The trick with black and brown outfits is to know how to combine colors, fabrics, and shapes to get a cohesive look. So… </td><td>1</td><td>1M</td><td>https://i.pinimg.com/originals/3e/49/09/3e4909c0ccc4dbba3cad83d97eab4a61.png</td><td>7343</td><td>image</td><td>Cultura Colectiva</td><td>Local save in /data/mens-fashion</td><td>Winter Outfits Men,Stylish Mens Outfits,Casual Outfits,Men Casual,Smart Casual,Outfits For Men,Fall Outfits,Mens Winter Boots,Business Casual Men</td><td>This Fashion Rule Is Nonsense, And We Should All Forget About It</td><td>b8c63a95-6fe8-4d7f-9455-1eef3462fee0</td></tr><tr><td>home-decor</td><td>Beautiful and easy ways to update every room in your home with fall decor. Plus, my favorite finds in fall decor for 2020!</td><td>1</td><td>92k</td><td>https://i.pinimg.com/originals/e5/ae/dc/e5aedc14ce557e3a69f672e0f8c88f6e.png</td><td>6063</td><td>image</td><td>Kristen | Lifestyle, Mom Tips & Teacher Stuff Blog</td><td>Local save in /data/home-decor</td><td>Fall Home Decor,Autumn Home,Fall Decor Outdoor,Front Porch Fall Decor,Home Decor Ideas,Porch Ideas For Fall,Fall Outdoor Decorating,Decorating Ideas For Fall,Fall Front Doors</td><td>41 Gorgeous Fall Decor Ideas For Your Home - Chaylor & Mads</td><td>60693727-4927-4bd6-a8c5-096a392d63e6</td></tr><tr><td>diy-and-crafts</td><td>One thing I love about Crafts is how the evolve! These toilet paper rolls are adorable and modern. I love that something as simple as a recycled toilet paper roll can be taken t… </td><td>1</td><td>502k</td><td>https://i.pinimg.com/originals/c6/cd/0d/c6cd0d04da9cfc11566cfd34eeb1f918.jpg</td><td>2959</td><td>image</td><td>CraftGossip.com</td><td>Local save in /data/diy-and-crafts</td><td>Toilet Paper Roll Crafts,Cardboard Crafts,Diy Paper,Paper Crafting,Toilet Paper Rolls,Cardboard Playhouse,Paper Art,Kids Crafts,Toddler Crafts</td><td>The Cutest Toilet Paper Crafts</td><td>439cac4b-18e8-4aaa-88c5-edb26a701111</td></tr><tr><td>travel</td><td>35 European bucket list destinations for any traveler heading to Europe. From Cinque Terre, Italy to Iceland - there are so many amazing sites to see in Europe.</td><td>1</td><td>28k</td><td>https://i.pinimg.com/originals/71/04/1a/71041ad83ede43d9665741e719c58a86.jpg</td><td>9875</td><td>image</td><td>Nicki </td><td>Local save in /data/travel</td><td>Backpacking Europe,Europe Travel Guide,Travel Guides,Travel Packing,Traveling Europe,Travelling,Travel Backpack,Budget Travel,2 Week Europe Itinerary</td><td>European Bucket List: 35 Things NOT To Miss When Traveling Europe</td><td>782dcbad-ff91-40a6-ba60-216efe29adb7</td></tr><tr><td>art</td><td>Fashion designer Issac Mizrahi’s Greenwich Village home is an amalgamation of three apartments that was 20 years in the making</td><td>1</td><td>3M</td><td>https://i.pinimg.com/originals/f4/6c/54/f46c546a2e480022a42d842b7dca157e.jpg</td><td>428</td><td>image</td><td>Architectural Digest</td><td>Local save in /data/art</td><td>Modern Art,Contemporary Art,Contemporary Kitchens,Contemporary Bedroom,New York City Apartment,Manhattan Apartment,Art Moderne,Architectural Digest,Painting Inspiration</td><td>Fashion Designer Isaac Mizrahi’s Updated 1930s New York City Apartment</td><td>610b3f83-9fe0-469d-946c-d16b577fca71</td></tr><tr><td>diy-and-crafts</td><td>HELPFUL RESOURCES – Check out my resin colorants resources page here with links to all the products mentioned in this article (and more). Let me know if you have any that you lo… </td><td>1</td><td>6k</td><td>https://i.pinimg.com/originals/d4/12/78/d4127833023ca32600571ddca16f1556.jpg</td><td>3454</td><td>image</td><td>Mixed Media Crafts</td><td>Local save in /data/diy-and-crafts</td><td>Epoxy Resin Art,Diy Resin Art,Diy Resin Crafts,Resin Molds,Ice Resin,Resin Pour,Diy Epoxy,Diy Resin Painting,Diy Resin Dice</td><td>What can you use to color resin?</td><td>46bd3f86-b09d-4e29-9033-7ff2df595e51</td></tr><tr><td>finance</td><td>Description Coupon Organizer in a fun colorful fabric -island oasis, Great Size for the \"basic\" couponer - holds up to 500 coupons with ease, and is made long enough so that you… </td><td>1</td><td>0</td><td>https://i.pinimg.com/originals/65/bb/ea/65bbeaf458907bb079317d8303c4fa0e.jpg</td><td>5730</td><td>image</td><td>Consuelo Aguirre</td><td>Local save in /data/finance</td><td>Grocery Items,Grocery Coupons,Care Organization,Coupon Organization,Extreme Couponing,Couponing 101,Life Binder,Save My Money,Love Coupons</td><td>Island Oasis Coupon Organizer</td><td>1e1f0c8b-9fcf-460b-9154-c775827206eb</td></tr><tr><td>diy-and-crafts</td><td>Keep the kids busy this summer with these easy diy crafts and projects. Creative and…</td><td>1</td><td>124k</td><td>https://i.pinimg.com/originals/b3/bc/e2/b3bce2964e8c8975387b39660eed5f16.jpg</td><td>2863</td><td>image</td><td>Of Life & Lisa | Lifestyle Blog</td><td>Local save in /data/diy-and-crafts</td><td>Summer Crafts For Kids,Fun Crafts For Kids,Summer Kids,Toddler Crafts,Crafts To Do,Diy For Kids,Summer Snow,Diys For Summer,Craft Ideas For Girls</td><td>25 Super Fun Summer Crafts for Kids - Of Life and Lisa</td><td>9bf39437-42a6-4f02-99a0-9a0383d8cd70</td></tr><tr><td>diy-and-crafts</td><td>A fun space activity for kids. Preshoolers and kindergartners will love making their own alien spacecraft!</td><td>1</td><td>192k</td><td>https://i.pinimg.com/originals/6f/e8/aa/6fe8aa405513c6d2f77b5f47d17cdce8.jpg</td><td>2923</td><td>image</td><td>The Crafting Chicks</td><td>Local save in /data/diy-and-crafts</td><td>Paper Plate Crafts For Kids,Fun Crafts For Kids,Summer Crafts,Toddler Crafts,Art For Kids,Outer Space Crafts For Kids,Kid Crafts,Space Kids,Back To School Crafts For Kids</td><td>UFO Paper Plate Craft</td><td>52fa3af5-24a4-4ccb-8f17-9c3eb12327ee</td></tr><tr><td>tattoos</td><td>Koi fish tattoos are a popular choice for men who want to make a statement, thanks to their rich symbolism and bold design.</td><td>1</td><td>211k</td><td>https://i.pinimg.com/originals/8a/0c/0a/8a0c0a7b6236565c519acd41ad1a52c0.jpg</td><td>8731</td><td>image</td><td>TheTrendSpotter</td><td>Local save in /data/tattoos</td><td>Dr Tattoo,Wörter Tattoos,Pisces Tattoos,Tatoo Art,Dream Tattoos,Dope Tattoos,Mini Tattoos,Finger Tattoos,Body Art Tattoos</td><td>20 Koi Fish Tattoos For Lucky Men</td><td>ea760f71-febf-4023-b592-d17396659039</td></tr><tr><td>quotes</td><td>#lovequotes #matchmaker #matchmadeinheaven #loveyourself #respectyourself</td><td>1</td><td>51k</td><td>https://i.pinimg.com/originals/c6/64/ee/c664ee71524fb5a6e7b7b49233f93b43.png</td><td>8304</td><td>image</td><td>Commitment Connection</td><td>Local save in /data/quotes</td><td>Wise Quotes,Quotable Quotes,Words Quotes,Wise Words,Quotes To Live By,Great Quotes,Motivational Quotes,Inspirational Quotes,Funny Quotes</td><td>The #1 Reason You’re Not His Priority Anymore - Matthew Coast</td><td>5b6d0913-25e4-43ab-839d-85d5516f78a4</td></tr><tr><td>mens-fashion</td><td>imgentleboss: “ - More about men’s fashion at @Gentleboss - GB’s Facebook - ”</td><td>1</td><td>940</td><td>https://i.pinimg.com/originals/e7/6e/8e/e76e8ed6cc838b84a934c6948a5caff7.jpg</td><td>7554</td><td>image</td><td>iElylike ..✿◕‿◕✿ஐ✿◕‿◕✿</td><td>Local save in /data/mens-fashion</td><td>Mens Fashion Blog,Look Fashion,Autumn Fashion,Fashion News,Fashion Sale,80s Fashion,Paris Fashion,Runway Fashion,Fashion Trends</td><td>Craig Style</td><td>c6fa12f4-0d4a-4b07-a335-5bf9f37f8281</td></tr><tr><td>beauty</td><td>Instantly create the look of lash extensions with this award-winning, best-selling mascara that won't clump, flake or smudge. Available in 3 shades!</td><td>1</td><td>43k</td><td>https://i.pinimg.com/videos/thumbnails/originals/69/84/e2/6984e20f3e262098fa9c0614c3453254.0000001.jpg</td><td>1313</td><td>video</td><td>Thrive Causemetics</td><td>Local save in /data/beauty</td><td>N,o, ,T,a,g,s, ,A,v,a,i,l,a,b,l,e</td><td>Liquid Lash Extensions Mascara</td><td>44662045-e891-4821-8a19-ebe7eedd371a</td></tr><tr><td>vehicles</td><td>1937 Jaguar SS100 - 2 1/2 Litre Roadster, one of the most sought after pre-war sports cars</td><td>1</td><td>8k</td><td>https://i.pinimg.com/originals/26/81/a7/2681a71bd0c8f7fd0ab79c455338a49a.jpg</td><td>10625</td><td>image</td><td>hobbyDB</td><td>Local save in /data/vehicles</td><td>Jaguar Type E,Jaguar Xk,Jaguar Cars,Jaguar Roadster,Jaguar Sport,Retro Cars,Vintage Cars,Antique Cars,British Sports Cars</td><td>Jaguar Type E</td><td>d31885b7-742a-4e2a-bbb7-ac5f9d334340</td></tr><tr><td>vehicles</td><td>Nissan GT-R. Sick.</td><td>1</td><td>437</td><td>https://i.pinimg.com/originals/0d/29/9f/0d299f3df020395aa7ce8387f40fbeed.jpg</td><td>10794</td><td>image</td><td>Ray Uyemura</td><td>Local save in /data/vehicles</td><td>Lowrider,Old Vintage Cars,Antique Cars,Austin Martin,Nissan Gtr Black,Jaguar,1959 Cadillac,Cadillac Ct6,Old School Cars</td><td>TireBuyer</td><td>c4bd2577-a7bb-4409-bb7a-17d5ed7e1cf1</td></tr><tr><td>diy-and-crafts</td><td>No description available Story format</td><td>0</td><td>User Info Error</td><td>Image src error.</td><td>3089</td><td>multi-video(story page format)</td><td>User Info Error</td><td>Local save in /data/diy-and-crafts</td><td>N,o, ,T,a,g,s, ,A,v,a,i,l,a,b,l,e</td><td>No Title Data Available</td><td>88f9227e-88d0-4b1c-b0be-bcfc3028b8e2</td></tr><tr><td>mens-fashion</td><td>No description available Story format</td><td>0</td><td>User Info Error</td><td>Image src error.</td><td>7528</td><td>multi-video(story page format)</td><td>User Info Error</td><td>Local save in /data/mens-fashion</td><td>N,o, ,T,a,g,s, ,A,v,a,i,l,a,b,l,e</td><td>No Title Data Available</td><td>fbe53c66-3442-4773-b19e-d3ec6f54dddf</td></tr></tbody></table></div>"
      ]
     },
     "metadata": {
      "application/vnd.databricks.v1+output": {
       "addedWidgets": {},
       "aggData": [],
       "aggError": "",
       "aggOverflow": false,
       "aggSchema": [],
       "aggSeriesLimitReached": false,
       "aggType": "",
       "arguments": {},
       "columnCustomDisplayInfos": {},
       "data": [
        [
         "diy-and-crafts",
         "This post may contain affiliate links, read our Disclosure Policy for more information. As an Amazon Associate I earn from qualifying purchases, thank you! Make some cute handpr… ",
         1,
         "892k",
         "https://i.pinimg.com/originals/ff/fe/38/fffe384f3ec18a0d87cb2d80cc8c1499.jpg",
         3156,
         "image",
         "Michelle {CraftyMorning.com}",
         "Local save in /data/diy-and-crafts",
         "Christmas Gifts For Parents,Christmas Decorations For Kids,Christmas Crafts For Toddlers,Preschool Christmas,Christmas Crafts For Gifts,Christmas Activities,Toddler Crafts,Kids Christmas,Christmas Feeling",
         "Handprint Reindeer Ornaments - Crafty Morning",
         "fa6e31a4-18c2-4eca-a6d8-e903eee2c2a4"
        ],
        [
         "finance",
         "If you love budgeting, make sure to give Dave Ramsey's 7 Baby Steps a try. Follow these steps to begin your debt snowball, build an emergency fund, invest and reach riches. I ca… ",
         1,
         "26k",
         "https://i.pinimg.com/originals/1e/9d/90/1e9d906e4e150e3b95187f3b76ea7c71.png",
         5494,
         "image",
         "Living Low Key | Save Money, Make Money, & Frugal Living",
         "Local save in /data/finance",
         "Financial Peace,Financial Tips,Saving Money Quotes,Total Money Makeover,Budgeting Finances,Money Management,Wealth Management,Personal Finance,Making Ideas",
         "Dave Ramsey's 7 Baby Steps: What Are They And Will They Work For You",
         "8fb2af68-543b-4639-8119-de33d28706ed"
        ],
        [
         "christmas",
         "Here are the best DIY Christmas Centerpieces ideas perfect for your Christmas & holiday season home decor. From Christmas Vignettes to Table Centerpieces.",
         1,
         "500k",
         "https://i.pinimg.com/originals/aa/6d/0f/aa6d0f44d7c1c96b998cb9aa6c4446b8.png",
         2418,
         "image",
         "HikenDip",
         "Local save in /data/christmas",
         "Farmhouse Christmas Decor,Rustic Christmas,Christmas Time,Vintage Christmas,Xmas,Primitive Christmas Crafts,Christmas Vignette,Indoor Christmas Decorations,Diy Christmas Ornaments",
         "100 DIY Christmas Centerpieces You'll Love To Decorate Your Home With For The Christmas Season - Hike n Dip",
         "da8745a6-5160-46c4-877d-181d50a729fd"
        ],
        [
         "home-decor",
         "Holiday mantle decor, Christmas decor, metallic mercury glass style Christmas trees, eucalyptus vine, evergreen pine branches, white neutral holiday decor, cozy mantle for the h… ",
         1,
         "83k",
         "https://i.pinimg.com/originals/9d/82/1a/9d821a80acd8f90c16454e978bd9b115.jpg",
         6145,
         "image",
         "Stylin by Aylin",
         "Local save in /data/home-decor",
         "Winter Home Decor,Christmas Living Room Decor,Living Room Decor Cozy,Christmas Decor,Cozy Fireplace,Rustic Fireplace Decor,Fireplace Decorations,Rustic Room,House Decorations",
         "HOLIDAY MANTLE DECOR - @AMAZON & @TARGET FINDS",
         "82e13a07-db99-43a3-b1c0-89a4b75821da"
        ],
        [
         "education",
         "Podcasts for Teachers or Parents of Teenagers: Teaching teens middle school and high school can feel joyful and rewarding most days, but can also frustrate you with one challeng… ",
         1,
         "25k",
         "https://i.pinimg.com/originals/50/19/31/501931a27ee4d076658980851b995b2c.jpg",
         4315,
         "image",
         "Math Giraffe",
         "Local save in /data/education",
         "Middle School Classroom,High School Students,High School Teachers,Middle School Tips,High School Counseling,Ela Classroom,High School Science,Future Classroom,Google Classroom",
         "Podcasts for Teachers or Parents of Teenagers",
         "21b59ba9-829d-4c33-8c27-4cd4c56d26b8"
        ],
        [
         "event-planning",
         "Sacramento California Wedding 2 Chic Events & Design Jodi Yorston Photography Wilson Vineyards Barn Miosa Couture Yellow Barn Vineyard Outdoor Candles DIY",
         1,
         "6M",
         "https://i.pinimg.com/originals/7e/45/90/7e45905fefa36347e83333fd6d091140.jpg",
         5069,
         "image",
         "Style Me Pretty",
         "Local save in /data/event-planning",
         "60th Anniversary Parties,Anniversary Decorations,Golden Anniversary,25th Wedding Anniversary,Anniversary Pictures,Anniversary Ideas,Birthday Decorations,Event Planning Design,Event Design",
         "The Vault: Curated & Refined Wedding Inspiration",
         "b75b6f87-deb3-444f-b29e-ce9161b2df49"
        ],
        [
         "mens-fashion",
         "Black And Brown Outfits You Need To Try This Fall Season. The trick with black and brown outfits is to know how to combine colors, fabrics, and shapes to get a cohesive look. So… ",
         1,
         "1M",
         "https://i.pinimg.com/originals/3e/49/09/3e4909c0ccc4dbba3cad83d97eab4a61.png",
         7343,
         "image",
         "Cultura Colectiva",
         "Local save in /data/mens-fashion",
         "Winter Outfits Men,Stylish Mens Outfits,Casual Outfits,Men Casual,Smart Casual,Outfits For Men,Fall Outfits,Mens Winter Boots,Business Casual Men",
         "This Fashion Rule Is Nonsense, And We Should All Forget About It",
         "b8c63a95-6fe8-4d7f-9455-1eef3462fee0"
        ],
        [
         "home-decor",
         "Beautiful and easy ways to update every room in your home with fall decor. Plus, my favorite finds in fall decor for 2020!",
         1,
         "92k",
         "https://i.pinimg.com/originals/e5/ae/dc/e5aedc14ce557e3a69f672e0f8c88f6e.png",
         6063,
         "image",
         "Kristen | Lifestyle, Mom Tips & Teacher Stuff Blog",
         "Local save in /data/home-decor",
         "Fall Home Decor,Autumn Home,Fall Decor Outdoor,Front Porch Fall Decor,Home Decor Ideas,Porch Ideas For Fall,Fall Outdoor Decorating,Decorating Ideas For Fall,Fall Front Doors",
         "41 Gorgeous Fall Decor Ideas For Your Home - Chaylor & Mads",
         "60693727-4927-4bd6-a8c5-096a392d63e6"
        ],
        [
         "diy-and-crafts",
         "One thing I love about Crafts is how the evolve! These toilet paper rolls are adorable and modern. I love that something as simple as a recycled toilet paper roll can be taken t… ",
         1,
         "502k",
         "https://i.pinimg.com/originals/c6/cd/0d/c6cd0d04da9cfc11566cfd34eeb1f918.jpg",
         2959,
         "image",
         "CraftGossip.com",
         "Local save in /data/diy-and-crafts",
         "Toilet Paper Roll Crafts,Cardboard Crafts,Diy Paper,Paper Crafting,Toilet Paper Rolls,Cardboard Playhouse,Paper Art,Kids Crafts,Toddler Crafts",
         "The Cutest Toilet Paper Crafts",
         "439cac4b-18e8-4aaa-88c5-edb26a701111"
        ],
        [
         "travel",
         "35 European bucket list destinations for any traveler heading to Europe. From Cinque Terre, Italy to Iceland - there are so many amazing sites to see in Europe.",
         1,
         "28k",
         "https://i.pinimg.com/originals/71/04/1a/71041ad83ede43d9665741e719c58a86.jpg",
         9875,
         "image",
         "Nicki ",
         "Local save in /data/travel",
         "Backpacking Europe,Europe Travel Guide,Travel Guides,Travel Packing,Traveling Europe,Travelling,Travel Backpack,Budget Travel,2 Week Europe Itinerary",
         "European Bucket List: 35 Things NOT To Miss When Traveling Europe",
         "782dcbad-ff91-40a6-ba60-216efe29adb7"
        ],
        [
         "art",
         "Fashion designer Issac Mizrahi’s Greenwich Village home is an amalgamation of three apartments that was 20 years in the making",
         1,
         "3M",
         "https://i.pinimg.com/originals/f4/6c/54/f46c546a2e480022a42d842b7dca157e.jpg",
         428,
         "image",
         "Architectural Digest",
         "Local save in /data/art",
         "Modern Art,Contemporary Art,Contemporary Kitchens,Contemporary Bedroom,New York City Apartment,Manhattan Apartment,Art Moderne,Architectural Digest,Painting Inspiration",
         "Fashion Designer Isaac Mizrahi’s Updated 1930s New York City Apartment",
         "610b3f83-9fe0-469d-946c-d16b577fca71"
        ],
        [
         "diy-and-crafts",
         "HELPFUL RESOURCES – Check out my resin colorants resources page here with links to all the products mentioned in this article (and more). Let me know if you have any that you lo… ",
         1,
         "6k",
         "https://i.pinimg.com/originals/d4/12/78/d4127833023ca32600571ddca16f1556.jpg",
         3454,
         "image",
         "Mixed Media Crafts",
         "Local save in /data/diy-and-crafts",
         "Epoxy Resin Art,Diy Resin Art,Diy Resin Crafts,Resin Molds,Ice Resin,Resin Pour,Diy Epoxy,Diy Resin Painting,Diy Resin Dice",
         "What can you use to color resin?",
         "46bd3f86-b09d-4e29-9033-7ff2df595e51"
        ],
        [
         "finance",
         "Description Coupon Organizer in a fun colorful fabric -island oasis, Great Size for the \"basic\" couponer - holds up to 500 coupons with ease, and is made long enough so that you… ",
         1,
         "0",
         "https://i.pinimg.com/originals/65/bb/ea/65bbeaf458907bb079317d8303c4fa0e.jpg",
         5730,
         "image",
         "Consuelo Aguirre",
         "Local save in /data/finance",
         "Grocery Items,Grocery Coupons,Care Organization,Coupon Organization,Extreme Couponing,Couponing 101,Life Binder,Save My Money,Love Coupons",
         "Island Oasis Coupon Organizer",
         "1e1f0c8b-9fcf-460b-9154-c775827206eb"
        ],
        [
         "diy-and-crafts",
         "Keep the kids busy this summer with these easy diy crafts and projects. Creative and…",
         1,
         "124k",
         "https://i.pinimg.com/originals/b3/bc/e2/b3bce2964e8c8975387b39660eed5f16.jpg",
         2863,
         "image",
         "Of Life & Lisa | Lifestyle Blog",
         "Local save in /data/diy-and-crafts",
         "Summer Crafts For Kids,Fun Crafts For Kids,Summer Kids,Toddler Crafts,Crafts To Do,Diy For Kids,Summer Snow,Diys For Summer,Craft Ideas For Girls",
         "25 Super Fun Summer Crafts for Kids - Of Life and Lisa",
         "9bf39437-42a6-4f02-99a0-9a0383d8cd70"
        ],
        [
         "diy-and-crafts",
         "A fun space activity for kids. Preshoolers and kindergartners will love making their own alien spacecraft!",
         1,
         "192k",
         "https://i.pinimg.com/originals/6f/e8/aa/6fe8aa405513c6d2f77b5f47d17cdce8.jpg",
         2923,
         "image",
         "The Crafting Chicks",
         "Local save in /data/diy-and-crafts",
         "Paper Plate Crafts For Kids,Fun Crafts For Kids,Summer Crafts,Toddler Crafts,Art For Kids,Outer Space Crafts For Kids,Kid Crafts,Space Kids,Back To School Crafts For Kids",
         "UFO Paper Plate Craft",
         "52fa3af5-24a4-4ccb-8f17-9c3eb12327ee"
        ],
        [
         "tattoos",
         "Koi fish tattoos are a popular choice for men who want to make a statement, thanks to their rich symbolism and bold design.",
         1,
         "211k",
         "https://i.pinimg.com/originals/8a/0c/0a/8a0c0a7b6236565c519acd41ad1a52c0.jpg",
         8731,
         "image",
         "TheTrendSpotter",
         "Local save in /data/tattoos",
         "Dr Tattoo,Wörter Tattoos,Pisces Tattoos,Tatoo Art,Dream Tattoos,Dope Tattoos,Mini Tattoos,Finger Tattoos,Body Art Tattoos",
         "20 Koi Fish Tattoos For Lucky Men",
         "ea760f71-febf-4023-b592-d17396659039"
        ],
        [
         "quotes",
         "#lovequotes #matchmaker #matchmadeinheaven #loveyourself #respectyourself",
         1,
         "51k",
         "https://i.pinimg.com/originals/c6/64/ee/c664ee71524fb5a6e7b7b49233f93b43.png",
         8304,
         "image",
         "Commitment Connection",
         "Local save in /data/quotes",
         "Wise Quotes,Quotable Quotes,Words Quotes,Wise Words,Quotes To Live By,Great Quotes,Motivational Quotes,Inspirational Quotes,Funny Quotes",
         "The #1 Reason You’re Not His Priority Anymore - Matthew Coast",
         "5b6d0913-25e4-43ab-839d-85d5516f78a4"
        ],
        [
         "mens-fashion",
         "imgentleboss: “ - More about men’s fashion at @Gentleboss - GB’s Facebook - ”",
         1,
         "940",
         "https://i.pinimg.com/originals/e7/6e/8e/e76e8ed6cc838b84a934c6948a5caff7.jpg",
         7554,
         "image",
         "iElylike ..✿◕‿◕✿ஐ✿◕‿◕✿",
         "Local save in /data/mens-fashion",
         "Mens Fashion Blog,Look Fashion,Autumn Fashion,Fashion News,Fashion Sale,80s Fashion,Paris Fashion,Runway Fashion,Fashion Trends",
         "Craig Style",
         "c6fa12f4-0d4a-4b07-a335-5bf9f37f8281"
        ],
        [
         "beauty",
         "Instantly create the look of lash extensions with this award-winning, best-selling mascara that won't clump, flake or smudge. Available in 3 shades!",
         1,
         "43k",
         "https://i.pinimg.com/videos/thumbnails/originals/69/84/e2/6984e20f3e262098fa9c0614c3453254.0000001.jpg",
         1313,
         "video",
         "Thrive Causemetics",
         "Local save in /data/beauty",
         "N,o, ,T,a,g,s, ,A,v,a,i,l,a,b,l,e",
         "Liquid Lash Extensions Mascara",
         "44662045-e891-4821-8a19-ebe7eedd371a"
        ],
        [
         "vehicles",
         "1937 Jaguar SS100 - 2 1/2 Litre Roadster, one of the most sought after pre-war sports cars",
         1,
         "8k",
         "https://i.pinimg.com/originals/26/81/a7/2681a71bd0c8f7fd0ab79c455338a49a.jpg",
         10625,
         "image",
         "hobbyDB",
         "Local save in /data/vehicles",
         "Jaguar Type E,Jaguar Xk,Jaguar Cars,Jaguar Roadster,Jaguar Sport,Retro Cars,Vintage Cars,Antique Cars,British Sports Cars",
         "Jaguar Type E",
         "d31885b7-742a-4e2a-bbb7-ac5f9d334340"
        ],
        [
         "vehicles",
         "Nissan GT-R. Sick.",
         1,
         "437",
         "https://i.pinimg.com/originals/0d/29/9f/0d299f3df020395aa7ce8387f40fbeed.jpg",
         10794,
         "image",
         "Ray Uyemura",
         "Local save in /data/vehicles",
         "Lowrider,Old Vintage Cars,Antique Cars,Austin Martin,Nissan Gtr Black,Jaguar,1959 Cadillac,Cadillac Ct6,Old School Cars",
         "TireBuyer",
         "c4bd2577-a7bb-4409-bb7a-17d5ed7e1cf1"
        ],
        [
         "diy-and-crafts",
         "No description available Story format",
         0,
         "User Info Error",
         "Image src error.",
         3089,
         "multi-video(story page format)",
         "User Info Error",
         "Local save in /data/diy-and-crafts",
         "N,o, ,T,a,g,s, ,A,v,a,i,l,a,b,l,e",
         "No Title Data Available",
         "88f9227e-88d0-4b1c-b0be-bcfc3028b8e2"
        ],
        [
         "mens-fashion",
         "No description available Story format",
         0,
         "User Info Error",
         "Image src error.",
         7528,
         "multi-video(story page format)",
         "User Info Error",
         "Local save in /data/mens-fashion",
         "N,o, ,T,a,g,s, ,A,v,a,i,l,a,b,l,e",
         "No Title Data Available",
         "fbe53c66-3442-4773-b19e-d3ec6f54dddf"
        ]
       ],
       "datasetInfos": [],
       "dbfsResultPath": null,
       "isJsonSchema": true,
       "metadata": {},
       "overflow": false,
       "plotOptions": {
        "customPlotOptions": {},
        "displayType": "table",
        "pivotAggregation": null,
        "pivotColumns": null,
        "xColumns": null,
        "yColumns": null
       },
       "removedWidgets": [],
       "schema": [
        {
         "metadata": "{}",
         "name": "category",
         "type": "\"string\""
        },
        {
         "metadata": "{}",
         "name": "description",
         "type": "\"string\""
        },
        {
         "metadata": "{}",
         "name": "downloaded",
         "type": "\"long\""
        },
        {
         "metadata": "{}",
         "name": "follower_count",
         "type": "\"string\""
        },
        {
         "metadata": "{}",
         "name": "image_src",
         "type": "\"string\""
        },
        {
         "metadata": "{}",
         "name": "index",
         "type": "\"long\""
        },
        {
         "metadata": "{}",
         "name": "is_image_or_video",
         "type": "\"string\""
        },
        {
         "metadata": "{}",
         "name": "poster_name",
         "type": "\"string\""
        },
        {
         "metadata": "{}",
         "name": "save_location",
         "type": "\"string\""
        },
        {
         "metadata": "{}",
         "name": "tag_list",
         "type": "\"string\""
        },
        {
         "metadata": "{}",
         "name": "title",
         "type": "\"string\""
        },
        {
         "metadata": "{}",
         "name": "unique_id",
         "type": "\"string\""
        }
       ],
       "type": "table"
      }
     },
     "output_type": "display_data"
    }
   ],
   "source": [
    "# File location and type\n",
    "# Asterisk(*) indicates reading all the content of the specified file that have .json extension\n",
    "file_location = \"/mnt/0a8597384a69-bucket/topics/0a8597384a69.{}/partition=0/*.json\" \n",
    "file_type = \"json\"\n",
    "# Ask Spark to infer the schema\n",
    "infer_schema = \"true\"\n",
    "# Read in JSONs from mounted S3 bucket\n",
    "df_pin = spark.read.format(file_type) \\\n",
    ".option(\"inferSchema\", infer_schema) \\\n",
    ".load(file_location.format(\"pin\"))\n",
    "df_geo = spark.read.format(file_type) \\\n",
    ".option(\"inferSchema\", infer_schema) \\\n",
    ".load(file_location.format(\"geo\"))\n",
    "df_user = spark.read.format(file_type) \\\n",
    ".option(\"inferSchema\", infer_schema) \\\n",
    ".load(file_location.format(\"user\"))\n",
    "# Display Spark dataframe to check its content\n",
    "\n",
    "display(df_pin)\n"
   ]
  },
  {
   "cell_type": "code",
   "execution_count": null,
   "metadata": {
    "application/vnd.databricks.v1+cell": {
     "cellMetadata": {
      "byteLimit": 2048000,
      "rowLimit": 10000
     },
     "inputWidgets": {},
     "nuid": "6ae2a509-70a8-4f8e-a36c-adbccceace00",
     "showTitle": false,
     "title": ""
    }
   },
   "outputs": [
    {
     "data": {
      "text/html": [
       "<style scoped>\n",
       "  .table-result-container {\n",
       "    max-height: 300px;\n",
       "    overflow: auto;\n",
       "  }\n",
       "  table, th, td {\n",
       "    border: 1px solid black;\n",
       "    border-collapse: collapse;\n",
       "  }\n",
       "  th, td {\n",
       "    padding: 5px;\n",
       "  }\n",
       "  th {\n",
       "    text-align: left;\n",
       "  }\n",
       "</style><div class='table-result-container'><table class='table-result'><thead style='background-color: white'><tr><th>ind</th><th>unique_id</th><th>title</th><th>description</th><th>follower_count</th><th>poster_name</th><th>tag_list</th><th>is_image_or_video</th><th>image_src</th><th>save_location</th><th>category</th></tr></thead><tbody><tr><td>3156</td><td>fa6e31a4-18c2-4eca-a6d8-e903eee2c2a4</td><td>Handprint Reindeer Ornaments - Crafty Morning</td><td>This post may contain affiliate links, read our Disclosure Policy for more information. As an Amazon Associate I earn from qualifying purchases, thank you! Make some cute handpr… </td><td>892000</td><td>Michelle {CraftyMorning.com}</td><td>Christmas Gifts For Parents,Christmas Decorations For Kids,Christmas Crafts For Toddlers,Preschool Christmas,Christmas Crafts For Gifts,Christmas Activities,Toddler Crafts,Kids Christmas,Christmas Feeling</td><td>image</td><td>https://i.pinimg.com/originals/ff/fe/38/fffe384f3ec18a0d87cb2d80cc8c1499.jpg</td><td>Local save in /data/diy-and-crafts</td><td>diy-and-crafts</td></tr><tr><td>5494</td><td>8fb2af68-543b-4639-8119-de33d28706ed</td><td>Dave Ramsey's 7 Baby Steps: What Are They And Will They Work For You</td><td>If you love budgeting, make sure to give Dave Ramsey's 7 Baby Steps a try. Follow these steps to begin your debt snowball, build an emergency fund, invest and reach riches. I ca… </td><td>26000</td><td>Living Low Key | Save Money, Make Money, & Frugal Living</td><td>Financial Peace,Financial Tips,Saving Money Quotes,Total Money Makeover,Budgeting Finances,Money Management,Wealth Management,Personal Finance,Making Ideas</td><td>image</td><td>https://i.pinimg.com/originals/1e/9d/90/1e9d906e4e150e3b95187f3b76ea7c71.png</td><td>Local save in /data/finance</td><td>finance</td></tr><tr><td>2418</td><td>da8745a6-5160-46c4-877d-181d50a729fd</td><td>100 DIY Christmas Centerpieces You'll Love To Decorate Your Home With For The Christmas Season - Hike n Dip</td><td>Here are the best DIY Christmas Centerpieces ideas perfect for your Christmas & holiday season home decor. From Christmas Vignettes to Table Centerpieces.</td><td>500000</td><td>HikenDip</td><td>Farmhouse Christmas Decor,Rustic Christmas,Christmas Time,Vintage Christmas,Xmas,Primitive Christmas Crafts,Christmas Vignette,Indoor Christmas Decorations,Diy Christmas Ornaments</td><td>image</td><td>https://i.pinimg.com/originals/aa/6d/0f/aa6d0f44d7c1c96b998cb9aa6c4446b8.png</td><td>Local save in /data/christmas</td><td>christmas</td></tr><tr><td>6145</td><td>82e13a07-db99-43a3-b1c0-89a4b75821da</td><td>HOLIDAY MANTLE DECOR - @AMAZON & @TARGET FINDS</td><td>Holiday mantle decor, Christmas decor, metallic mercury glass style Christmas trees, eucalyptus vine, evergreen pine branches, white neutral holiday decor, cozy mantle for the h… </td><td>83000</td><td>Stylin by Aylin</td><td>Winter Home Decor,Christmas Living Room Decor,Living Room Decor Cozy,Christmas Decor,Cozy Fireplace,Rustic Fireplace Decor,Fireplace Decorations,Rustic Room,House Decorations</td><td>image</td><td>https://i.pinimg.com/originals/9d/82/1a/9d821a80acd8f90c16454e978bd9b115.jpg</td><td>Local save in /data/home-decor</td><td>home-decor</td></tr><tr><td>4315</td><td>21b59ba9-829d-4c33-8c27-4cd4c56d26b8</td><td>Podcasts for Teachers or Parents of Teenagers</td><td>Podcasts for Teachers or Parents of Teenagers: Teaching teens middle school and high school can feel joyful and rewarding most days, but can also frustrate you with one challeng… </td><td>25000</td><td>Math Giraffe</td><td>Middle School Classroom,High School Students,High School Teachers,Middle School Tips,High School Counseling,Ela Classroom,High School Science,Future Classroom,Google Classroom</td><td>image</td><td>https://i.pinimg.com/originals/50/19/31/501931a27ee4d076658980851b995b2c.jpg</td><td>Local save in /data/education</td><td>education</td></tr><tr><td>5069</td><td>b75b6f87-deb3-444f-b29e-ce9161b2df49</td><td>The Vault: Curated & Refined Wedding Inspiration</td><td>Sacramento California Wedding 2 Chic Events & Design Jodi Yorston Photography Wilson Vineyards Barn Miosa Couture Yellow Barn Vineyard Outdoor Candles DIY</td><td>6000000</td><td>Style Me Pretty</td><td>60th Anniversary Parties,Anniversary Decorations,Golden Anniversary,25th Wedding Anniversary,Anniversary Pictures,Anniversary Ideas,Birthday Decorations,Event Planning Design,Event Design</td><td>image</td><td>https://i.pinimg.com/originals/7e/45/90/7e45905fefa36347e83333fd6d091140.jpg</td><td>Local save in /data/event-planning</td><td>event-planning</td></tr><tr><td>7343</td><td>b8c63a95-6fe8-4d7f-9455-1eef3462fee0</td><td>This Fashion Rule Is Nonsense, And We Should All Forget About It</td><td>Black And Brown Outfits You Need To Try This Fall Season. The trick with black and brown outfits is to know how to combine colors, fabrics, and shapes to get a cohesive look. So… </td><td>1000000</td><td>Cultura Colectiva</td><td>Winter Outfits Men,Stylish Mens Outfits,Casual Outfits,Men Casual,Smart Casual,Outfits For Men,Fall Outfits,Mens Winter Boots,Business Casual Men</td><td>image</td><td>https://i.pinimg.com/originals/3e/49/09/3e4909c0ccc4dbba3cad83d97eab4a61.png</td><td>Local save in /data/mens-fashion</td><td>mens-fashion</td></tr><tr><td>6063</td><td>60693727-4927-4bd6-a8c5-096a392d63e6</td><td>41 Gorgeous Fall Decor Ideas For Your Home - Chaylor & Mads</td><td>Beautiful and easy ways to update every room in your home with fall decor. Plus, my favorite finds in fall decor for 2020!</td><td>92000</td><td>Kristen | Lifestyle, Mom Tips & Teacher Stuff Blog</td><td>Fall Home Decor,Autumn Home,Fall Decor Outdoor,Front Porch Fall Decor,Home Decor Ideas,Porch Ideas For Fall,Fall Outdoor Decorating,Decorating Ideas For Fall,Fall Front Doors</td><td>image</td><td>https://i.pinimg.com/originals/e5/ae/dc/e5aedc14ce557e3a69f672e0f8c88f6e.png</td><td>Local save in /data/home-decor</td><td>home-decor</td></tr><tr><td>2959</td><td>439cac4b-18e8-4aaa-88c5-edb26a701111</td><td>The Cutest Toilet Paper Crafts</td><td>One thing I love about Crafts is how the evolve! These toilet paper rolls are adorable and modern. I love that something as simple as a recycled toilet paper roll can be taken t… </td><td>502000</td><td>CraftGossip.com</td><td>Toilet Paper Roll Crafts,Cardboard Crafts,Diy Paper,Paper Crafting,Toilet Paper Rolls,Cardboard Playhouse,Paper Art,Kids Crafts,Toddler Crafts</td><td>image</td><td>https://i.pinimg.com/originals/c6/cd/0d/c6cd0d04da9cfc11566cfd34eeb1f918.jpg</td><td>Local save in /data/diy-and-crafts</td><td>diy-and-crafts</td></tr><tr><td>9875</td><td>782dcbad-ff91-40a6-ba60-216efe29adb7</td><td>European Bucket List: 35 Things NOT To Miss When Traveling Europe</td><td>35 European bucket list destinations for any traveler heading to Europe. From Cinque Terre, Italy to Iceland - there are so many amazing sites to see in Europe.</td><td>28000</td><td>Nicki </td><td>Backpacking Europe,Europe Travel Guide,Travel Guides,Travel Packing,Traveling Europe,Travelling,Travel Backpack,Budget Travel,2 Week Europe Itinerary</td><td>image</td><td>https://i.pinimg.com/originals/71/04/1a/71041ad83ede43d9665741e719c58a86.jpg</td><td>Local save in /data/travel</td><td>travel</td></tr><tr><td>428</td><td>610b3f83-9fe0-469d-946c-d16b577fca71</td><td>Fashion Designer Isaac Mizrahi’s Updated 1930s New York City Apartment</td><td>Fashion designer Issac Mizrahi’s Greenwich Village home is an amalgamation of three apartments that was 20 years in the making</td><td>3000000</td><td>Architectural Digest</td><td>Modern Art,Contemporary Art,Contemporary Kitchens,Contemporary Bedroom,New York City Apartment,Manhattan Apartment,Art Moderne,Architectural Digest,Painting Inspiration</td><td>image</td><td>https://i.pinimg.com/originals/f4/6c/54/f46c546a2e480022a42d842b7dca157e.jpg</td><td>Local save in /data/art</td><td>art</td></tr><tr><td>3454</td><td>46bd3f86-b09d-4e29-9033-7ff2df595e51</td><td>What can you use to color resin?</td><td>HELPFUL RESOURCES – Check out my resin colorants resources page here with links to all the products mentioned in this article (and more). Let me know if you have any that you lo… </td><td>6000</td><td>Mixed Media Crafts</td><td>Epoxy Resin Art,Diy Resin Art,Diy Resin Crafts,Resin Molds,Ice Resin,Resin Pour,Diy Epoxy,Diy Resin Painting,Diy Resin Dice</td><td>image</td><td>https://i.pinimg.com/originals/d4/12/78/d4127833023ca32600571ddca16f1556.jpg</td><td>Local save in /data/diy-and-crafts</td><td>diy-and-crafts</td></tr><tr><td>5730</td><td>1e1f0c8b-9fcf-460b-9154-c775827206eb</td><td>Island Oasis Coupon Organizer</td><td>Description Coupon Organizer in a fun colorful fabric -island oasis, Great Size for the \"basic\" couponer - holds up to 500 coupons with ease, and is made long enough so that you… </td><td>0</td><td>Consuelo Aguirre</td><td>Grocery Items,Grocery Coupons,Care Organization,Coupon Organization,Extreme Couponing,Couponing 101,Life Binder,Save My Money,Love Coupons</td><td>image</td><td>https://i.pinimg.com/originals/65/bb/ea/65bbeaf458907bb079317d8303c4fa0e.jpg</td><td>Local save in /data/finance</td><td>finance</td></tr><tr><td>2863</td><td>9bf39437-42a6-4f02-99a0-9a0383d8cd70</td><td>25 Super Fun Summer Crafts for Kids - Of Life and Lisa</td><td>Keep the kids busy this summer with these easy diy crafts and projects. Creative and…</td><td>124000</td><td>Of Life & Lisa | Lifestyle Blog</td><td>Summer Crafts For Kids,Fun Crafts For Kids,Summer Kids,Toddler Crafts,Crafts To Do,Diy For Kids,Summer Snow,Diys For Summer,Craft Ideas For Girls</td><td>image</td><td>https://i.pinimg.com/originals/b3/bc/e2/b3bce2964e8c8975387b39660eed5f16.jpg</td><td>Local save in /data/diy-and-crafts</td><td>diy-and-crafts</td></tr><tr><td>2923</td><td>52fa3af5-24a4-4ccb-8f17-9c3eb12327ee</td><td>UFO Paper Plate Craft</td><td>A fun space activity for kids. Preshoolers and kindergartners will love making their own alien spacecraft!</td><td>192000</td><td>The Crafting Chicks</td><td>Paper Plate Crafts For Kids,Fun Crafts For Kids,Summer Crafts,Toddler Crafts,Art For Kids,Outer Space Crafts For Kids,Kid Crafts,Space Kids,Back To School Crafts For Kids</td><td>image</td><td>https://i.pinimg.com/originals/6f/e8/aa/6fe8aa405513c6d2f77b5f47d17cdce8.jpg</td><td>Local save in /data/diy-and-crafts</td><td>diy-and-crafts</td></tr><tr><td>8731</td><td>ea760f71-febf-4023-b592-d17396659039</td><td>20 Koi Fish Tattoos For Lucky Men</td><td>Koi fish tattoos are a popular choice for men who want to make a statement, thanks to their rich symbolism and bold design.</td><td>211000</td><td>TheTrendSpotter</td><td>Dr Tattoo,Wörter Tattoos,Pisces Tattoos,Tatoo Art,Dream Tattoos,Dope Tattoos,Mini Tattoos,Finger Tattoos,Body Art Tattoos</td><td>image</td><td>https://i.pinimg.com/originals/8a/0c/0a/8a0c0a7b6236565c519acd41ad1a52c0.jpg</td><td>Local save in /data/tattoos</td><td>tattoos</td></tr><tr><td>8304</td><td>5b6d0913-25e4-43ab-839d-85d5516f78a4</td><td>The #1 Reason You’re Not His Priority Anymore - Matthew Coast</td><td>#lovequotes #matchmaker #matchmadeinheaven #loveyourself #respectyourself</td><td>51000</td><td>Commitment Connection</td><td>Wise Quotes,Quotable Quotes,Words Quotes,Wise Words,Quotes To Live By,Great Quotes,Motivational Quotes,Inspirational Quotes,Funny Quotes</td><td>image</td><td>https://i.pinimg.com/originals/c6/64/ee/c664ee71524fb5a6e7b7b49233f93b43.png</td><td>Local save in /data/quotes</td><td>quotes</td></tr><tr><td>7554</td><td>c6fa12f4-0d4a-4b07-a335-5bf9f37f8281</td><td>Craig Style</td><td>imgentleboss: “ - More about men’s fashion at @Gentleboss - GB’s Facebook - ”</td><td>940</td><td>iElylike ..✿◕‿◕✿ஐ✿◕‿◕✿</td><td>Mens Fashion Blog,Look Fashion,Autumn Fashion,Fashion News,Fashion Sale,80s Fashion,Paris Fashion,Runway Fashion,Fashion Trends</td><td>image</td><td>https://i.pinimg.com/originals/e7/6e/8e/e76e8ed6cc838b84a934c6948a5caff7.jpg</td><td>Local save in /data/mens-fashion</td><td>mens-fashion</td></tr><tr><td>1313</td><td>44662045-e891-4821-8a19-ebe7eedd371a</td><td>Liquid Lash Extensions Mascara</td><td>Instantly create the look of lash extensions with this award-winning, best-selling mascara that won't clump, flake or smudge. Available in 3 shades!</td><td>43000</td><td>Thrive Causemetics</td><td>N,o, ,T,a,g,s, ,A,v,a,i,l,a,b,l,e</td><td>video</td><td>https://i.pinimg.com/videos/thumbnails/originals/69/84/e2/6984e20f3e262098fa9c0614c3453254.0000001.jpg</td><td>Local save in /data/beauty</td><td>beauty</td></tr><tr><td>10625</td><td>d31885b7-742a-4e2a-bbb7-ac5f9d334340</td><td>Jaguar Type E</td><td>1937 Jaguar SS100 - 2 1/2 Litre Roadster, one of the most sought after pre-war sports cars</td><td>8000</td><td>hobbyDB</td><td>Jaguar Type E,Jaguar Xk,Jaguar Cars,Jaguar Roadster,Jaguar Sport,Retro Cars,Vintage Cars,Antique Cars,British Sports Cars</td><td>image</td><td>https://i.pinimg.com/originals/26/81/a7/2681a71bd0c8f7fd0ab79c455338a49a.jpg</td><td>Local save in /data/vehicles</td><td>vehicles</td></tr><tr><td>10794</td><td>c4bd2577-a7bb-4409-bb7a-17d5ed7e1cf1</td><td>TireBuyer</td><td>Nissan GT-R. Sick.</td><td>437</td><td>Ray Uyemura</td><td>Lowrider,Old Vintage Cars,Antique Cars,Austin Martin,Nissan Gtr Black,Jaguar,1959 Cadillac,Cadillac Ct6,Old School Cars</td><td>image</td><td>https://i.pinimg.com/originals/0d/29/9f/0d299f3df020395aa7ce8387f40fbeed.jpg</td><td>Local save in /data/vehicles</td><td>vehicles</td></tr><tr><td>3089</td><td>88f9227e-88d0-4b1c-b0be-bcfc3028b8e2</td><td>No Title Data Available</td><td>None</td><td>null</td><td>User Info Error</td><td>N,o, ,T,a,g,s, ,A,v,a,i,l,a,b,l,e</td><td>multi-video(story page format)</td><td>None</td><td>Local save in /data/diy-and-crafts</td><td>diy-and-crafts</td></tr><tr><td>7528</td><td>fbe53c66-3442-4773-b19e-d3ec6f54dddf</td><td>No Title Data Available</td><td>None</td><td>null</td><td>User Info Error</td><td>N,o, ,T,a,g,s, ,A,v,a,i,l,a,b,l,e</td><td>multi-video(story page format)</td><td>None</td><td>Local save in /data/mens-fashion</td><td>mens-fashion</td></tr></tbody></table></div>"
      ]
     },
     "metadata": {
      "application/vnd.databricks.v1+output": {
       "addedWidgets": {},
       "aggData": [],
       "aggError": "",
       "aggOverflow": false,
       "aggSchema": [],
       "aggSeriesLimitReached": false,
       "aggType": "",
       "arguments": {},
       "columnCustomDisplayInfos": {},
       "data": [
        [
         3156,
         "fa6e31a4-18c2-4eca-a6d8-e903eee2c2a4",
         "Handprint Reindeer Ornaments - Crafty Morning",
         "This post may contain affiliate links, read our Disclosure Policy for more information. As an Amazon Associate I earn from qualifying purchases, thank you! Make some cute handpr… ",
         892000,
         "Michelle {CraftyMorning.com}",
         "Christmas Gifts For Parents,Christmas Decorations For Kids,Christmas Crafts For Toddlers,Preschool Christmas,Christmas Crafts For Gifts,Christmas Activities,Toddler Crafts,Kids Christmas,Christmas Feeling",
         "image",
         "https://i.pinimg.com/originals/ff/fe/38/fffe384f3ec18a0d87cb2d80cc8c1499.jpg",
         "Local save in /data/diy-and-crafts",
         "diy-and-crafts"
        ],
        [
         5494,
         "8fb2af68-543b-4639-8119-de33d28706ed",
         "Dave Ramsey's 7 Baby Steps: What Are They And Will They Work For You",
         "If you love budgeting, make sure to give Dave Ramsey's 7 Baby Steps a try. Follow these steps to begin your debt snowball, build an emergency fund, invest and reach riches. I ca… ",
         26000,
         "Living Low Key | Save Money, Make Money, & Frugal Living",
         "Financial Peace,Financial Tips,Saving Money Quotes,Total Money Makeover,Budgeting Finances,Money Management,Wealth Management,Personal Finance,Making Ideas",
         "image",
         "https://i.pinimg.com/originals/1e/9d/90/1e9d906e4e150e3b95187f3b76ea7c71.png",
         "Local save in /data/finance",
         "finance"
        ],
        [
         2418,
         "da8745a6-5160-46c4-877d-181d50a729fd",
         "100 DIY Christmas Centerpieces You'll Love To Decorate Your Home With For The Christmas Season - Hike n Dip",
         "Here are the best DIY Christmas Centerpieces ideas perfect for your Christmas & holiday season home decor. From Christmas Vignettes to Table Centerpieces.",
         500000,
         "HikenDip",
         "Farmhouse Christmas Decor,Rustic Christmas,Christmas Time,Vintage Christmas,Xmas,Primitive Christmas Crafts,Christmas Vignette,Indoor Christmas Decorations,Diy Christmas Ornaments",
         "image",
         "https://i.pinimg.com/originals/aa/6d/0f/aa6d0f44d7c1c96b998cb9aa6c4446b8.png",
         "Local save in /data/christmas",
         "christmas"
        ],
        [
         6145,
         "82e13a07-db99-43a3-b1c0-89a4b75821da",
         "HOLIDAY MANTLE DECOR - @AMAZON & @TARGET FINDS",
         "Holiday mantle decor, Christmas decor, metallic mercury glass style Christmas trees, eucalyptus vine, evergreen pine branches, white neutral holiday decor, cozy mantle for the h… ",
         83000,
         "Stylin by Aylin",
         "Winter Home Decor,Christmas Living Room Decor,Living Room Decor Cozy,Christmas Decor,Cozy Fireplace,Rustic Fireplace Decor,Fireplace Decorations,Rustic Room,House Decorations",
         "image",
         "https://i.pinimg.com/originals/9d/82/1a/9d821a80acd8f90c16454e978bd9b115.jpg",
         "Local save in /data/home-decor",
         "home-decor"
        ],
        [
         4315,
         "21b59ba9-829d-4c33-8c27-4cd4c56d26b8",
         "Podcasts for Teachers or Parents of Teenagers",
         "Podcasts for Teachers or Parents of Teenagers: Teaching teens middle school and high school can feel joyful and rewarding most days, but can also frustrate you with one challeng… ",
         25000,
         "Math Giraffe",
         "Middle School Classroom,High School Students,High School Teachers,Middle School Tips,High School Counseling,Ela Classroom,High School Science,Future Classroom,Google Classroom",
         "image",
         "https://i.pinimg.com/originals/50/19/31/501931a27ee4d076658980851b995b2c.jpg",
         "Local save in /data/education",
         "education"
        ],
        [
         5069,
         "b75b6f87-deb3-444f-b29e-ce9161b2df49",
         "The Vault: Curated & Refined Wedding Inspiration",
         "Sacramento California Wedding 2 Chic Events & Design Jodi Yorston Photography Wilson Vineyards Barn Miosa Couture Yellow Barn Vineyard Outdoor Candles DIY",
         6000000,
         "Style Me Pretty",
         "60th Anniversary Parties,Anniversary Decorations,Golden Anniversary,25th Wedding Anniversary,Anniversary Pictures,Anniversary Ideas,Birthday Decorations,Event Planning Design,Event Design",
         "image",
         "https://i.pinimg.com/originals/7e/45/90/7e45905fefa36347e83333fd6d091140.jpg",
         "Local save in /data/event-planning",
         "event-planning"
        ],
        [
         7343,
         "b8c63a95-6fe8-4d7f-9455-1eef3462fee0",
         "This Fashion Rule Is Nonsense, And We Should All Forget About It",
         "Black And Brown Outfits You Need To Try This Fall Season. The trick with black and brown outfits is to know how to combine colors, fabrics, and shapes to get a cohesive look. So… ",
         1000000,
         "Cultura Colectiva",
         "Winter Outfits Men,Stylish Mens Outfits,Casual Outfits,Men Casual,Smart Casual,Outfits For Men,Fall Outfits,Mens Winter Boots,Business Casual Men",
         "image",
         "https://i.pinimg.com/originals/3e/49/09/3e4909c0ccc4dbba3cad83d97eab4a61.png",
         "Local save in /data/mens-fashion",
         "mens-fashion"
        ],
        [
         6063,
         "60693727-4927-4bd6-a8c5-096a392d63e6",
         "41 Gorgeous Fall Decor Ideas For Your Home - Chaylor & Mads",
         "Beautiful and easy ways to update every room in your home with fall decor. Plus, my favorite finds in fall decor for 2020!",
         92000,
         "Kristen | Lifestyle, Mom Tips & Teacher Stuff Blog",
         "Fall Home Decor,Autumn Home,Fall Decor Outdoor,Front Porch Fall Decor,Home Decor Ideas,Porch Ideas For Fall,Fall Outdoor Decorating,Decorating Ideas For Fall,Fall Front Doors",
         "image",
         "https://i.pinimg.com/originals/e5/ae/dc/e5aedc14ce557e3a69f672e0f8c88f6e.png",
         "Local save in /data/home-decor",
         "home-decor"
        ],
        [
         2959,
         "439cac4b-18e8-4aaa-88c5-edb26a701111",
         "The Cutest Toilet Paper Crafts",
         "One thing I love about Crafts is how the evolve! These toilet paper rolls are adorable and modern. I love that something as simple as a recycled toilet paper roll can be taken t… ",
         502000,
         "CraftGossip.com",
         "Toilet Paper Roll Crafts,Cardboard Crafts,Diy Paper,Paper Crafting,Toilet Paper Rolls,Cardboard Playhouse,Paper Art,Kids Crafts,Toddler Crafts",
         "image",
         "https://i.pinimg.com/originals/c6/cd/0d/c6cd0d04da9cfc11566cfd34eeb1f918.jpg",
         "Local save in /data/diy-and-crafts",
         "diy-and-crafts"
        ],
        [
         9875,
         "782dcbad-ff91-40a6-ba60-216efe29adb7",
         "European Bucket List: 35 Things NOT To Miss When Traveling Europe",
         "35 European bucket list destinations for any traveler heading to Europe. From Cinque Terre, Italy to Iceland - there are so many amazing sites to see in Europe.",
         28000,
         "Nicki ",
         "Backpacking Europe,Europe Travel Guide,Travel Guides,Travel Packing,Traveling Europe,Travelling,Travel Backpack,Budget Travel,2 Week Europe Itinerary",
         "image",
         "https://i.pinimg.com/originals/71/04/1a/71041ad83ede43d9665741e719c58a86.jpg",
         "Local save in /data/travel",
         "travel"
        ],
        [
         428,
         "610b3f83-9fe0-469d-946c-d16b577fca71",
         "Fashion Designer Isaac Mizrahi’s Updated 1930s New York City Apartment",
         "Fashion designer Issac Mizrahi’s Greenwich Village home is an amalgamation of three apartments that was 20 years in the making",
         3000000,
         "Architectural Digest",
         "Modern Art,Contemporary Art,Contemporary Kitchens,Contemporary Bedroom,New York City Apartment,Manhattan Apartment,Art Moderne,Architectural Digest,Painting Inspiration",
         "image",
         "https://i.pinimg.com/originals/f4/6c/54/f46c546a2e480022a42d842b7dca157e.jpg",
         "Local save in /data/art",
         "art"
        ],
        [
         3454,
         "46bd3f86-b09d-4e29-9033-7ff2df595e51",
         "What can you use to color resin?",
         "HELPFUL RESOURCES – Check out my resin colorants resources page here with links to all the products mentioned in this article (and more). Let me know if you have any that you lo… ",
         6000,
         "Mixed Media Crafts",
         "Epoxy Resin Art,Diy Resin Art,Diy Resin Crafts,Resin Molds,Ice Resin,Resin Pour,Diy Epoxy,Diy Resin Painting,Diy Resin Dice",
         "image",
         "https://i.pinimg.com/originals/d4/12/78/d4127833023ca32600571ddca16f1556.jpg",
         "Local save in /data/diy-and-crafts",
         "diy-and-crafts"
        ],
        [
         5730,
         "1e1f0c8b-9fcf-460b-9154-c775827206eb",
         "Island Oasis Coupon Organizer",
         "Description Coupon Organizer in a fun colorful fabric -island oasis, Great Size for the \"basic\" couponer - holds up to 500 coupons with ease, and is made long enough so that you… ",
         0,
         "Consuelo Aguirre",
         "Grocery Items,Grocery Coupons,Care Organization,Coupon Organization,Extreme Couponing,Couponing 101,Life Binder,Save My Money,Love Coupons",
         "image",
         "https://i.pinimg.com/originals/65/bb/ea/65bbeaf458907bb079317d8303c4fa0e.jpg",
         "Local save in /data/finance",
         "finance"
        ],
        [
         2863,
         "9bf39437-42a6-4f02-99a0-9a0383d8cd70",
         "25 Super Fun Summer Crafts for Kids - Of Life and Lisa",
         "Keep the kids busy this summer with these easy diy crafts and projects. Creative and…",
         124000,
         "Of Life & Lisa | Lifestyle Blog",
         "Summer Crafts For Kids,Fun Crafts For Kids,Summer Kids,Toddler Crafts,Crafts To Do,Diy For Kids,Summer Snow,Diys For Summer,Craft Ideas For Girls",
         "image",
         "https://i.pinimg.com/originals/b3/bc/e2/b3bce2964e8c8975387b39660eed5f16.jpg",
         "Local save in /data/diy-and-crafts",
         "diy-and-crafts"
        ],
        [
         2923,
         "52fa3af5-24a4-4ccb-8f17-9c3eb12327ee",
         "UFO Paper Plate Craft",
         "A fun space activity for kids. Preshoolers and kindergartners will love making their own alien spacecraft!",
         192000,
         "The Crafting Chicks",
         "Paper Plate Crafts For Kids,Fun Crafts For Kids,Summer Crafts,Toddler Crafts,Art For Kids,Outer Space Crafts For Kids,Kid Crafts,Space Kids,Back To School Crafts For Kids",
         "image",
         "https://i.pinimg.com/originals/6f/e8/aa/6fe8aa405513c6d2f77b5f47d17cdce8.jpg",
         "Local save in /data/diy-and-crafts",
         "diy-and-crafts"
        ],
        [
         8731,
         "ea760f71-febf-4023-b592-d17396659039",
         "20 Koi Fish Tattoos For Lucky Men",
         "Koi fish tattoos are a popular choice for men who want to make a statement, thanks to their rich symbolism and bold design.",
         211000,
         "TheTrendSpotter",
         "Dr Tattoo,Wörter Tattoos,Pisces Tattoos,Tatoo Art,Dream Tattoos,Dope Tattoos,Mini Tattoos,Finger Tattoos,Body Art Tattoos",
         "image",
         "https://i.pinimg.com/originals/8a/0c/0a/8a0c0a7b6236565c519acd41ad1a52c0.jpg",
         "Local save in /data/tattoos",
         "tattoos"
        ],
        [
         8304,
         "5b6d0913-25e4-43ab-839d-85d5516f78a4",
         "The #1 Reason You’re Not His Priority Anymore - Matthew Coast",
         "#lovequotes #matchmaker #matchmadeinheaven #loveyourself #respectyourself",
         51000,
         "Commitment Connection",
         "Wise Quotes,Quotable Quotes,Words Quotes,Wise Words,Quotes To Live By,Great Quotes,Motivational Quotes,Inspirational Quotes,Funny Quotes",
         "image",
         "https://i.pinimg.com/originals/c6/64/ee/c664ee71524fb5a6e7b7b49233f93b43.png",
         "Local save in /data/quotes",
         "quotes"
        ],
        [
         7554,
         "c6fa12f4-0d4a-4b07-a335-5bf9f37f8281",
         "Craig Style",
         "imgentleboss: “ - More about men’s fashion at @Gentleboss - GB’s Facebook - ”",
         940,
         "iElylike ..✿◕‿◕✿ஐ✿◕‿◕✿",
         "Mens Fashion Blog,Look Fashion,Autumn Fashion,Fashion News,Fashion Sale,80s Fashion,Paris Fashion,Runway Fashion,Fashion Trends",
         "image",
         "https://i.pinimg.com/originals/e7/6e/8e/e76e8ed6cc838b84a934c6948a5caff7.jpg",
         "Local save in /data/mens-fashion",
         "mens-fashion"
        ],
        [
         1313,
         "44662045-e891-4821-8a19-ebe7eedd371a",
         "Liquid Lash Extensions Mascara",
         "Instantly create the look of lash extensions with this award-winning, best-selling mascara that won't clump, flake or smudge. Available in 3 shades!",
         43000,
         "Thrive Causemetics",
         "N,o, ,T,a,g,s, ,A,v,a,i,l,a,b,l,e",
         "video",
         "https://i.pinimg.com/videos/thumbnails/originals/69/84/e2/6984e20f3e262098fa9c0614c3453254.0000001.jpg",
         "Local save in /data/beauty",
         "beauty"
        ],
        [
         10625,
         "d31885b7-742a-4e2a-bbb7-ac5f9d334340",
         "Jaguar Type E",
         "1937 Jaguar SS100 - 2 1/2 Litre Roadster, one of the most sought after pre-war sports cars",
         8000,
         "hobbyDB",
         "Jaguar Type E,Jaguar Xk,Jaguar Cars,Jaguar Roadster,Jaguar Sport,Retro Cars,Vintage Cars,Antique Cars,British Sports Cars",
         "image",
         "https://i.pinimg.com/originals/26/81/a7/2681a71bd0c8f7fd0ab79c455338a49a.jpg",
         "Local save in /data/vehicles",
         "vehicles"
        ],
        [
         10794,
         "c4bd2577-a7bb-4409-bb7a-17d5ed7e1cf1",
         "TireBuyer",
         "Nissan GT-R. Sick.",
         437,
         "Ray Uyemura",
         "Lowrider,Old Vintage Cars,Antique Cars,Austin Martin,Nissan Gtr Black,Jaguar,1959 Cadillac,Cadillac Ct6,Old School Cars",
         "image",
         "https://i.pinimg.com/originals/0d/29/9f/0d299f3df020395aa7ce8387f40fbeed.jpg",
         "Local save in /data/vehicles",
         "vehicles"
        ],
        [
         3089,
         "88f9227e-88d0-4b1c-b0be-bcfc3028b8e2",
         "No Title Data Available",
         "None",
         null,
         "User Info Error",
         "N,o, ,T,a,g,s, ,A,v,a,i,l,a,b,l,e",
         "multi-video(story page format)",
         "None",
         "Local save in /data/diy-and-crafts",
         "diy-and-crafts"
        ],
        [
         7528,
         "fbe53c66-3442-4773-b19e-d3ec6f54dddf",
         "No Title Data Available",
         "None",
         null,
         "User Info Error",
         "N,o, ,T,a,g,s, ,A,v,a,i,l,a,b,l,e",
         "multi-video(story page format)",
         "None",
         "Local save in /data/mens-fashion",
         "mens-fashion"
        ]
       ],
       "datasetInfos": [],
       "dbfsResultPath": null,
       "isJsonSchema": true,
       "metadata": {},
       "overflow": false,
       "plotOptions": {
        "customPlotOptions": {},
        "displayType": "table",
        "pivotAggregation": null,
        "pivotColumns": null,
        "xColumns": null,
        "yColumns": null
       },
       "removedWidgets": [],
       "schema": [
        {
         "metadata": "{}",
         "name": "ind",
         "type": "\"integer\""
        },
        {
         "metadata": "{}",
         "name": "unique_id",
         "type": "\"string\""
        },
        {
         "metadata": "{}",
         "name": "title",
         "type": "\"string\""
        },
        {
         "metadata": "{}",
         "name": "description",
         "type": "\"string\""
        },
        {
         "metadata": "{}",
         "name": "follower_count",
         "type": "\"integer\""
        },
        {
         "metadata": "{}",
         "name": "poster_name",
         "type": "\"string\""
        },
        {
         "metadata": "{}",
         "name": "tag_list",
         "type": "\"string\""
        },
        {
         "metadata": "{}",
         "name": "is_image_or_video",
         "type": "\"string\""
        },
        {
         "metadata": "{}",
         "name": "image_src",
         "type": "\"string\""
        },
        {
         "metadata": "{}",
         "name": "save_location",
         "type": "\"string\""
        },
        {
         "metadata": "{}",
         "name": "category",
         "type": "\"string\""
        }
       ],
       "type": "table"
      }
     },
     "output_type": "display_data"
    },
    {
     "data": {
      "text/html": [
       "<style scoped>\n",
       "  .ansiout {\n",
       "    display: block;\n",
       "    unicode-bidi: embed;\n",
       "    white-space: pre-wrap;\n",
       "    word-wrap: break-word;\n",
       "    word-break: break-all;\n",
       "    font-family: \"Source Code Pro\", \"Menlo\", monospace;;\n",
       "    font-size: 13px;\n",
       "    color: #555;\n",
       "    margin-left: 4px;\n",
       "    line-height: 19px;\n",
       "  }\n",
       "</style>\n",
       "<div class=\"ansiout\">[Row(is_image_or_video=&#39;image&#39;), Row(is_image_or_video=&#39;multi-video(story page format)&#39;), Row(is_image_or_video=&#39;video&#39;)]\n",
       "</div>"
      ]
     },
     "metadata": {
      "application/vnd.databricks.v1+output": {
       "addedWidgets": {},
       "arguments": {},
       "data": "<div class=\"ansiout\">[Row(is_image_or_video=&#39;image&#39;), Row(is_image_or_video=&#39;multi-video(story page format)&#39;), Row(is_image_or_video=&#39;video&#39;)]\n</div>",
       "datasetInfos": [],
       "metadata": {},
       "removedWidgets": [],
       "type": "html"
      }
     },
     "output_type": "display_data"
    }
   ],
   "source": [
    "from pyspark.sql.functions import col,when\n",
    "from pyspark.sql.functions import regexp_extract\n",
    "\n",
    "df_pin = df_pin.withColumn(\"description\", when(col(\"description\").contains(\"No description available\"), \"None\").otherwise(col(\"description\")))\n",
    "df_pin = df_pin.withColumn(\"image_src\", when(col(\"image_src\").contains(\"Image src error\"), \"None\").otherwise(col(\"image_src\")))\n",
    "df_pin = df_pin.withColumn(\"follower_count\", when(col(\"follower_count\").contains(\"User Info Error\"), \"None\").otherwise(col(\"follower_count\")))\n",
    "df_pin = df_pin.withColumn(\"follower_count\", regexp_replace(df_pin[\"follower_count\"], \"M\", \"000000\"))\n",
    "df_pin = df_pin.withColumn(\"follower_count\", regexp_replace(df_pin[\"follower_count\"], \"k\", \"000\"))\n",
    "df_pin = df_pin.withColumn(\"downloaded\",col(\"downloaded\").cast(\"int\"))\n",
    "df_pin = df_pin.withColumn(\"follower_count\",col(\"follower_count\").cast(\"int\"))\n",
    "df_pin = df_pin.withColumn(\"index\",col(\"index\").cast(\"int\"))\n",
    "df_pin = df_pin.withColumnRenamed(\"index\",\"ind\")\n",
    "df_pin = df_pin.select(\"ind\", \"unique_id\", \"title\", \"description\", \"follower_count\", \"poster_name\", \"tag_list\", \"is_image_or_video\", \"image_src\", \"save_location\", \"category\")\n",
    "display(df_pin)\n",
    "\n",
    "print(df_pin.select('is_image_or_video').distinct().collect())"
   ]
  },
  {
   "cell_type": "code",
   "execution_count": null,
   "metadata": {
    "application/vnd.databricks.v1+cell": {
     "cellMetadata": {
      "byteLimit": 2048000,
      "rowLimit": 10000
     },
     "inputWidgets": {},
     "nuid": "0f1b0f1d-e068-4acc-ad70-4a40a5741b88",
     "showTitle": false,
     "title": ""
    }
   },
   "outputs": [
    {
     "data": {
      "text/html": [
       "<style scoped>\n",
       "  .table-result-container {\n",
       "    max-height: 300px;\n",
       "    overflow: auto;\n",
       "  }\n",
       "  table, th, td {\n",
       "    border: 1px solid black;\n",
       "    border-collapse: collapse;\n",
       "  }\n",
       "  th, td {\n",
       "    padding: 5px;\n",
       "  }\n",
       "  th {\n",
       "    text-align: left;\n",
       "  }\n",
       "</style><div class='table-result-container'><table class='table-result'><thead style='background-color: white'><tr><th>country</th><th>ind</th><th>latitude</th><th>longitude</th><th>timestamp</th></tr></thead><tbody><tr><td>Antarctica (the territory South of 60 deg S)</td><td>2418</td><td>-88.4642</td><td>-171.061</td><td>2022-05-27T11:30:59.000+0000</td></tr><tr><td>Cocos (Keeling) Islands</td><td>10794</td><td>-89.5236</td><td>-154.567</td><td>2022-01-01T02:26:50.000+0000</td></tr><tr><td>Cote d'Ivoire</td><td>2923</td><td>-84.6302</td><td>-164.507</td><td>2019-09-08T22:53:09.000+0000</td></tr><tr><td>French Guiana</td><td>8304</td><td>-28.8852</td><td>-164.87</td><td>2019-09-13T04:50:29.000+0000</td></tr><tr><td>Cote d'Ivoire</td><td>4315</td><td>-45.8508</td><td>66.1003</td><td>2019-12-15T03:51:28.000+0000</td></tr><tr><td>Azerbaijan</td><td>5069</td><td>-63.0063</td><td>-157.474</td><td>2021-03-20T09:32:44.000+0000</td></tr><tr><td>Mozambique</td><td>6145</td><td>-65.9079</td><td>-143.845</td><td>2019-12-05T02:09:44.000+0000</td></tr><tr><td>Bangladesh</td><td>428</td><td>-83.4105</td><td>-150.788</td><td>2020-09-27T18:46:41.000+0000</td></tr><tr><td>Australia</td><td>7343</td><td>-65.4428</td><td>-161.684</td><td>2018-08-06T12:17:07.000+0000</td></tr><tr><td>Bulgaria</td><td>5494</td><td>-82.6768</td><td>-129.202</td><td>2021-07-21T02:02:35.000+0000</td></tr><tr><td>Anguilla</td><td>6063</td><td>-89.1797</td><td>-174.015</td><td>2021-07-20T09:02:47.000+0000</td></tr><tr><td>Cambodia</td><td>3454</td><td>-0.375174</td><td>49.8106</td><td>2021-07-25T02:20:29.000+0000</td></tr><tr><td>Jamaica</td><td>10625</td><td>-84.4944</td><td>-81.0613</td><td>2018-07-13T11:51:15.000+0000</td></tr><tr><td>Barbados</td><td>9875</td><td>-74.3382</td><td>-110.484</td><td>2020-03-20T13:03:18.000+0000</td></tr><tr><td>Albania</td><td>7528</td><td>-89.9787</td><td>-173.293</td><td>2020-08-28T03:52:47.000+0000</td></tr><tr><td>Armenia</td><td>2863</td><td>-5.34445</td><td>-177.924</td><td>2020-04-27T13:34:16.000+0000</td></tr><tr><td>Colombia</td><td>5730</td><td>-77.015</td><td>-101.437</td><td>2021-04-19T17:37:03.000+0000</td></tr><tr><td>Albania</td><td>3089</td><td>-89.9787</td><td>-173.293</td><td>2018-02-28T05:31:29.000+0000</td></tr><tr><td>Maldives</td><td>1313</td><td>77.0447</td><td>61.9119</td><td>2018-06-26T02:39:25.000+0000</td></tr><tr><td>Angola</td><td>2959</td><td>-68.0095</td><td>-157.227</td><td>2019-08-19T08:22:02.000+0000</td></tr><tr><td>Armenia</td><td>3156</td><td>-84.738</td><td>-160.795</td><td>2018-01-13T19:33:49.000+0000</td></tr><tr><td>Sudan</td><td>7554</td><td>-51.2172</td><td>-77.9768</td><td>2019-03-20T03:15:07.000+0000</td></tr><tr><td>Aruba</td><td>8731</td><td>-83.104</td><td>-171.302</td><td>2020-07-17T04:39:09.000+0000</td></tr></tbody></table></div>"
      ]
     },
     "metadata": {
      "application/vnd.databricks.v1+output": {
       "addedWidgets": {},
       "aggData": [],
       "aggError": "",
       "aggOverflow": false,
       "aggSchema": [],
       "aggSeriesLimitReached": false,
       "aggType": "",
       "arguments": {},
       "columnCustomDisplayInfos": {},
       "data": [
        [
         "Antarctica (the territory South of 60 deg S)",
         2418,
         -88.4642,
         -171.061,
         "2022-05-27T11:30:59.000+0000"
        ],
        [
         "Cocos (Keeling) Islands",
         10794,
         -89.5236,
         -154.567,
         "2022-01-01T02:26:50.000+0000"
        ],
        [
         "Cote d'Ivoire",
         2923,
         -84.6302,
         -164.507,
         "2019-09-08T22:53:09.000+0000"
        ],
        [
         "French Guiana",
         8304,
         -28.8852,
         -164.87,
         "2019-09-13T04:50:29.000+0000"
        ],
        [
         "Cote d'Ivoire",
         4315,
         -45.8508,
         66.1003,
         "2019-12-15T03:51:28.000+0000"
        ],
        [
         "Azerbaijan",
         5069,
         -63.0063,
         -157.474,
         "2021-03-20T09:32:44.000+0000"
        ],
        [
         "Mozambique",
         6145,
         -65.9079,
         -143.845,
         "2019-12-05T02:09:44.000+0000"
        ],
        [
         "Bangladesh",
         428,
         -83.4105,
         -150.788,
         "2020-09-27T18:46:41.000+0000"
        ],
        [
         "Australia",
         7343,
         -65.4428,
         -161.684,
         "2018-08-06T12:17:07.000+0000"
        ],
        [
         "Bulgaria",
         5494,
         -82.6768,
         -129.202,
         "2021-07-21T02:02:35.000+0000"
        ],
        [
         "Anguilla",
         6063,
         -89.1797,
         -174.015,
         "2021-07-20T09:02:47.000+0000"
        ],
        [
         "Cambodia",
         3454,
         -0.375174,
         49.8106,
         "2021-07-25T02:20:29.000+0000"
        ],
        [
         "Jamaica",
         10625,
         -84.4944,
         -81.0613,
         "2018-07-13T11:51:15.000+0000"
        ],
        [
         "Barbados",
         9875,
         -74.3382,
         -110.484,
         "2020-03-20T13:03:18.000+0000"
        ],
        [
         "Albania",
         7528,
         -89.9787,
         -173.293,
         "2020-08-28T03:52:47.000+0000"
        ],
        [
         "Armenia",
         2863,
         -5.34445,
         -177.924,
         "2020-04-27T13:34:16.000+0000"
        ],
        [
         "Colombia",
         5730,
         -77.015,
         -101.437,
         "2021-04-19T17:37:03.000+0000"
        ],
        [
         "Albania",
         3089,
         -89.9787,
         -173.293,
         "2018-02-28T05:31:29.000+0000"
        ],
        [
         "Maldives",
         1313,
         77.0447,
         61.9119,
         "2018-06-26T02:39:25.000+0000"
        ],
        [
         "Angola",
         2959,
         -68.0095,
         -157.227,
         "2019-08-19T08:22:02.000+0000"
        ],
        [
         "Armenia",
         3156,
         -84.738,
         -160.795,
         "2018-01-13T19:33:49.000+0000"
        ],
        [
         "Sudan",
         7554,
         -51.2172,
         -77.9768,
         "2019-03-20T03:15:07.000+0000"
        ],
        [
         "Aruba",
         8731,
         -83.104,
         -171.302,
         "2020-07-17T04:39:09.000+0000"
        ]
       ],
       "datasetInfos": [],
       "dbfsResultPath": null,
       "isJsonSchema": true,
       "metadata": {},
       "overflow": false,
       "plotOptions": {
        "customPlotOptions": {},
        "displayType": "table",
        "pivotAggregation": null,
        "pivotColumns": null,
        "xColumns": null,
        "yColumns": null
       },
       "removedWidgets": [],
       "schema": [
        {
         "metadata": "{}",
         "name": "country",
         "type": "\"string\""
        },
        {
         "metadata": "{}",
         "name": "ind",
         "type": "\"long\""
        },
        {
         "metadata": "{}",
         "name": "latitude",
         "type": "\"double\""
        },
        {
         "metadata": "{}",
         "name": "longitude",
         "type": "\"double\""
        },
        {
         "metadata": "{}",
         "name": "timestamp",
         "type": "\"timestamp\""
        }
       ],
       "type": "table"
      }
     },
     "output_type": "display_data"
    }
   ],
   "source": [
    "from pyspark.sql.functions import col,when\n",
    "from pyspark.sql.functions import regexp_extract\n",
    "\n",
    "# df_geo = df_geo.select(\"index\", \"country\", array(col(\"longitude\"), col(\"latitude\")).alias(\"coordinates\"), \"timestamp\")\n",
    "df_geo = df_geo.withColumn(\"timestamp\", col(\"timestamp\").cast(\"timestamp\"))\n",
    "df_geo = df_geo.withColumnRenamed(\"index\",\"ind\")\n",
    "\n",
    "display(df_geo)"
   ]
  },
  {
   "cell_type": "code",
   "execution_count": null,
   "metadata": {
    "application/vnd.databricks.v1+cell": {
     "cellMetadata": {
      "byteLimit": 2048000,
      "rowLimit": 10000
     },
     "inputWidgets": {},
     "nuid": "4af20840-3787-40a5-a0e2-4bf5158fe046",
     "showTitle": false,
     "title": ""
    }
   },
   "outputs": [
    {
     "data": {
      "text/html": [
       "<style scoped>\n",
       "  .table-result-container {\n",
       "    max-height: 300px;\n",
       "    overflow: auto;\n",
       "  }\n",
       "  table, th, td {\n",
       "    border: 1px solid black;\n",
       "    border-collapse: collapse;\n",
       "  }\n",
       "  th, td {\n",
       "    padding: 5px;\n",
       "  }\n",
       "  th {\n",
       "    text-align: left;\n",
       "  }\n",
       "</style><div class='table-result-container'><table class='table-result'><thead style='background-color: white'><tr><th>ind</th><th>user_name</th><th>age</th><th>date_joined</th></tr></thead><tbody><tr><td>8731</td><td>Andrea Alexander</td><td>21</td><td>2015-11-10T09:27:42.000+0000</td></tr><tr><td>4315</td><td>Michelle Prince</td><td>36</td><td>2015-12-20T16:38:13.000+0000</td></tr><tr><td>10625</td><td>Christian Lang</td><td>32</td><td>2017-10-10T20:09:33.000+0000</td></tr><tr><td>1313</td><td>Brittany Jones</td><td>32</td><td>2016-04-02T03:51:23.000+0000</td></tr><tr><td>10794</td><td>Thomas Turner</td><td>34</td><td>2016-12-22T00:02:02.000+0000</td></tr><tr><td>2959</td><td>David Griffith</td><td>20</td><td>2016-01-07T19:49:22.000+0000</td></tr><tr><td>9875</td><td>Brendan Joseph</td><td>26</td><td>2015-12-20T10:28:00.000+0000</td></tr><tr><td>8304</td><td>Charles Berry</td><td>25</td><td>2015-12-28T04:21:39.000+0000</td></tr><tr><td>6063</td><td>Corey Andrews</td><td>23</td><td>2015-11-25T13:36:22.000+0000</td></tr><tr><td>3454</td><td>Robert Murphy</td><td>48</td><td>2017-09-26T16:31:56.000+0000</td></tr><tr><td>7554</td><td>Cheryl Huerta</td><td>20</td><td>2017-04-11T16:35:33.000+0000</td></tr><tr><td>6145</td><td>Emily Hawkins</td><td>30</td><td>2015-12-25T20:24:37.000+0000</td></tr><tr><td>2863</td><td>Dylan Holmes</td><td>32</td><td>2016-10-23T14:06:51.000+0000</td></tr><tr><td>5730</td><td>Rachel Davis</td><td>36</td><td>2015-12-08T20:02:43.000+0000</td></tr><tr><td>2923</td><td>Brian Nelson</td><td>26</td><td>2015-11-11T03:20:57.000+0000</td></tr><tr><td>2418</td><td>Amanda Adams</td><td>20</td><td>2015-10-21T08:27:36.000+0000</td></tr><tr><td>3156</td><td>Andrew Baker</td><td>22</td><td>2015-12-21T08:06:54.000+0000</td></tr><tr><td>428</td><td>Claudia Adams</td><td>20</td><td>2015-11-28T02:20:29.000+0000</td></tr><tr><td>7343</td><td>Anne Clayton</td><td>24</td><td>2016-01-11T12:03:48.000+0000</td></tr><tr><td>7528</td><td>Abigail Ali</td><td>20</td><td>2015-10-24T11:23:51.000+0000</td></tr><tr><td>5069</td><td>Amanda Ball</td><td>25</td><td>2016-01-13T17:36:30.000+0000</td></tr><tr><td>3089</td><td>Abigail Ali</td><td>20</td><td>2015-10-24T11:23:51.000+0000</td></tr><tr><td>5494</td><td>Anne Allen</td><td>27</td><td>2015-12-16T15:20:05.000+0000</td></tr></tbody></table></div>"
      ]
     },
     "metadata": {
      "application/vnd.databricks.v1+output": {
       "addedWidgets": {},
       "aggData": [],
       "aggError": "",
       "aggOverflow": false,
       "aggSchema": [],
       "aggSeriesLimitReached": false,
       "aggType": "",
       "arguments": {},
       "columnCustomDisplayInfos": {},
       "data": [
        [
         8731,
         "Andrea Alexander",
         21,
         "2015-11-10T09:27:42.000+0000"
        ],
        [
         4315,
         "Michelle Prince",
         36,
         "2015-12-20T16:38:13.000+0000"
        ],
        [
         10625,
         "Christian Lang",
         32,
         "2017-10-10T20:09:33.000+0000"
        ],
        [
         1313,
         "Brittany Jones",
         32,
         "2016-04-02T03:51:23.000+0000"
        ],
        [
         10794,
         "Thomas Turner",
         34,
         "2016-12-22T00:02:02.000+0000"
        ],
        [
         2959,
         "David Griffith",
         20,
         "2016-01-07T19:49:22.000+0000"
        ],
        [
         9875,
         "Brendan Joseph",
         26,
         "2015-12-20T10:28:00.000+0000"
        ],
        [
         8304,
         "Charles Berry",
         25,
         "2015-12-28T04:21:39.000+0000"
        ],
        [
         6063,
         "Corey Andrews",
         23,
         "2015-11-25T13:36:22.000+0000"
        ],
        [
         3454,
         "Robert Murphy",
         48,
         "2017-09-26T16:31:56.000+0000"
        ],
        [
         7554,
         "Cheryl Huerta",
         20,
         "2017-04-11T16:35:33.000+0000"
        ],
        [
         6145,
         "Emily Hawkins",
         30,
         "2015-12-25T20:24:37.000+0000"
        ],
        [
         2863,
         "Dylan Holmes",
         32,
         "2016-10-23T14:06:51.000+0000"
        ],
        [
         5730,
         "Rachel Davis",
         36,
         "2015-12-08T20:02:43.000+0000"
        ],
        [
         2923,
         "Brian Nelson",
         26,
         "2015-11-11T03:20:57.000+0000"
        ],
        [
         2418,
         "Amanda Adams",
         20,
         "2015-10-21T08:27:36.000+0000"
        ],
        [
         3156,
         "Andrew Baker",
         22,
         "2015-12-21T08:06:54.000+0000"
        ],
        [
         428,
         "Claudia Adams",
         20,
         "2015-11-28T02:20:29.000+0000"
        ],
        [
         7343,
         "Anne Clayton",
         24,
         "2016-01-11T12:03:48.000+0000"
        ],
        [
         7528,
         "Abigail Ali",
         20,
         "2015-10-24T11:23:51.000+0000"
        ],
        [
         5069,
         "Amanda Ball",
         25,
         "2016-01-13T17:36:30.000+0000"
        ],
        [
         3089,
         "Abigail Ali",
         20,
         "2015-10-24T11:23:51.000+0000"
        ],
        [
         5494,
         "Anne Allen",
         27,
         "2015-12-16T15:20:05.000+0000"
        ]
       ],
       "datasetInfos": [],
       "dbfsResultPath": null,
       "isJsonSchema": true,
       "metadata": {},
       "overflow": false,
       "plotOptions": {
        "customPlotOptions": {},
        "displayType": "table",
        "pivotAggregation": null,
        "pivotColumns": null,
        "xColumns": null,
        "yColumns": null
       },
       "removedWidgets": [],
       "schema": [
        {
         "metadata": "{}",
         "name": "ind",
         "type": "\"long\""
        },
        {
         "metadata": "{}",
         "name": "user_name",
         "type": "\"string\""
        },
        {
         "metadata": "{}",
         "name": "age",
         "type": "\"long\""
        },
        {
         "metadata": "{}",
         "name": "date_joined",
         "type": "\"timestamp\""
        }
       ],
       "type": "table"
      }
     },
     "output_type": "display_data"
    }
   ],
   "source": [
    "df_user = df_user.withColumn(\"user_name\", concat(col(\"first_name\"), lit(\" \"), col(\"last_name\")))\n",
    "df_user = df_user.withColumn(\"date_joined\", col(\"date_joined\").cast(\"timestamp\"))\n",
    "df_user = df_user.withColumnRenamed(\"index\",\"ind\")\n",
    "df_user = df_user.select(\"ind\", \"user_name\", \"age\", \"date_joined\")\n",
    "display(df_user)"
   ]
  },
  {
   "cell_type": "code",
   "execution_count": null,
   "metadata": {
    "application/vnd.databricks.v1+cell": {
     "cellMetadata": {
      "byteLimit": 2048000,
      "rowLimit": 10000
     },
     "inputWidgets": {},
     "nuid": "6c53ae24-d403-4e64-bbfb-c7bad6fb3c90",
     "showTitle": false,
     "title": ""
    }
   },
   "outputs": [
    {
     "data": {
      "text/html": [
       "<style scoped>\n",
       "  .table-result-container {\n",
       "    max-height: 300px;\n",
       "    overflow: auto;\n",
       "  }\n",
       "  table, th, td {\n",
       "    border: 1px solid black;\n",
       "    border-collapse: collapse;\n",
       "  }\n",
       "  th, td {\n",
       "    padding: 5px;\n",
       "  }\n",
       "  th {\n",
       "    text-align: left;\n",
       "  }\n",
       "</style><div class='table-result-container'><table class='table-result'><thead style='background-color: white'><tr><th>ind</th><th>unique_id</th><th>title</th><th>description</th><th>follower_count</th><th>poster_name</th><th>tag_list</th><th>is_image_or_video</th><th>image_src</th><th>save_location</th><th>category</th></tr></thead><tbody><tr><td>3156</td><td>fa6e31a4-18c2-4eca-a6d8-e903eee2c2a4</td><td>Handprint Reindeer Ornaments - Crafty Morning</td><td>This post may contain affiliate links, read our Disclosure Policy for more information. As an Amazon Associate I earn from qualifying purchases, thank you! Make some cute handpr… </td><td>892000</td><td>Michelle {CraftyMorning.com}</td><td>Christmas Gifts For Parents,Christmas Decorations For Kids,Christmas Crafts For Toddlers,Preschool Christmas,Christmas Crafts For Gifts,Christmas Activities,Toddler Crafts,Kids Christmas,Christmas Feeling</td><td>image</td><td>https://i.pinimg.com/originals/ff/fe/38/fffe384f3ec18a0d87cb2d80cc8c1499.jpg</td><td>Local save in /data/diy-and-crafts</td><td>diy-and-crafts</td></tr><tr><td>5494</td><td>8fb2af68-543b-4639-8119-de33d28706ed</td><td>Dave Ramsey's 7 Baby Steps: What Are They And Will They Work For You</td><td>If you love budgeting, make sure to give Dave Ramsey's 7 Baby Steps a try. Follow these steps to begin your debt snowball, build an emergency fund, invest and reach riches. I ca… </td><td>26000</td><td>Living Low Key | Save Money, Make Money, & Frugal Living</td><td>Financial Peace,Financial Tips,Saving Money Quotes,Total Money Makeover,Budgeting Finances,Money Management,Wealth Management,Personal Finance,Making Ideas</td><td>image</td><td>https://i.pinimg.com/originals/1e/9d/90/1e9d906e4e150e3b95187f3b76ea7c71.png</td><td>Local save in /data/finance</td><td>finance</td></tr><tr><td>2418</td><td>da8745a6-5160-46c4-877d-181d50a729fd</td><td>100 DIY Christmas Centerpieces You'll Love To Decorate Your Home With For The Christmas Season - Hike n Dip</td><td>Here are the best DIY Christmas Centerpieces ideas perfect for your Christmas & holiday season home decor. From Christmas Vignettes to Table Centerpieces.</td><td>500000</td><td>HikenDip</td><td>Farmhouse Christmas Decor,Rustic Christmas,Christmas Time,Vintage Christmas,Xmas,Primitive Christmas Crafts,Christmas Vignette,Indoor Christmas Decorations,Diy Christmas Ornaments</td><td>image</td><td>https://i.pinimg.com/originals/aa/6d/0f/aa6d0f44d7c1c96b998cb9aa6c4446b8.png</td><td>Local save in /data/christmas</td><td>christmas</td></tr><tr><td>6145</td><td>82e13a07-db99-43a3-b1c0-89a4b75821da</td><td>HOLIDAY MANTLE DECOR - @AMAZON & @TARGET FINDS</td><td>Holiday mantle decor, Christmas decor, metallic mercury glass style Christmas trees, eucalyptus vine, evergreen pine branches, white neutral holiday decor, cozy mantle for the h… </td><td>83000</td><td>Stylin by Aylin</td><td>Winter Home Decor,Christmas Living Room Decor,Living Room Decor Cozy,Christmas Decor,Cozy Fireplace,Rustic Fireplace Decor,Fireplace Decorations,Rustic Room,House Decorations</td><td>image</td><td>https://i.pinimg.com/originals/9d/82/1a/9d821a80acd8f90c16454e978bd9b115.jpg</td><td>Local save in /data/home-decor</td><td>home-decor</td></tr><tr><td>4315</td><td>21b59ba9-829d-4c33-8c27-4cd4c56d26b8</td><td>Podcasts for Teachers or Parents of Teenagers</td><td>Podcasts for Teachers or Parents of Teenagers: Teaching teens middle school and high school can feel joyful and rewarding most days, but can also frustrate you with one challeng… </td><td>25000</td><td>Math Giraffe</td><td>Middle School Classroom,High School Students,High School Teachers,Middle School Tips,High School Counseling,Ela Classroom,High School Science,Future Classroom,Google Classroom</td><td>image</td><td>https://i.pinimg.com/originals/50/19/31/501931a27ee4d076658980851b995b2c.jpg</td><td>Local save in /data/education</td><td>education</td></tr><tr><td>5069</td><td>b75b6f87-deb3-444f-b29e-ce9161b2df49</td><td>The Vault: Curated & Refined Wedding Inspiration</td><td>Sacramento California Wedding 2 Chic Events & Design Jodi Yorston Photography Wilson Vineyards Barn Miosa Couture Yellow Barn Vineyard Outdoor Candles DIY</td><td>6000000</td><td>Style Me Pretty</td><td>60th Anniversary Parties,Anniversary Decorations,Golden Anniversary,25th Wedding Anniversary,Anniversary Pictures,Anniversary Ideas,Birthday Decorations,Event Planning Design,Event Design</td><td>image</td><td>https://i.pinimg.com/originals/7e/45/90/7e45905fefa36347e83333fd6d091140.jpg</td><td>Local save in /data/event-planning</td><td>event-planning</td></tr><tr><td>7343</td><td>b8c63a95-6fe8-4d7f-9455-1eef3462fee0</td><td>This Fashion Rule Is Nonsense, And We Should All Forget About It</td><td>Black And Brown Outfits You Need To Try This Fall Season. The trick with black and brown outfits is to know how to combine colors, fabrics, and shapes to get a cohesive look. So… </td><td>1000000</td><td>Cultura Colectiva</td><td>Winter Outfits Men,Stylish Mens Outfits,Casual Outfits,Men Casual,Smart Casual,Outfits For Men,Fall Outfits,Mens Winter Boots,Business Casual Men</td><td>image</td><td>https://i.pinimg.com/originals/3e/49/09/3e4909c0ccc4dbba3cad83d97eab4a61.png</td><td>Local save in /data/mens-fashion</td><td>mens-fashion</td></tr><tr><td>6063</td><td>60693727-4927-4bd6-a8c5-096a392d63e6</td><td>41 Gorgeous Fall Decor Ideas For Your Home - Chaylor & Mads</td><td>Beautiful and easy ways to update every room in your home with fall decor. Plus, my favorite finds in fall decor for 2020!</td><td>92000</td><td>Kristen | Lifestyle, Mom Tips & Teacher Stuff Blog</td><td>Fall Home Decor,Autumn Home,Fall Decor Outdoor,Front Porch Fall Decor,Home Decor Ideas,Porch Ideas For Fall,Fall Outdoor Decorating,Decorating Ideas For Fall,Fall Front Doors</td><td>image</td><td>https://i.pinimg.com/originals/e5/ae/dc/e5aedc14ce557e3a69f672e0f8c88f6e.png</td><td>Local save in /data/home-decor</td><td>home-decor</td></tr><tr><td>2959</td><td>439cac4b-18e8-4aaa-88c5-edb26a701111</td><td>The Cutest Toilet Paper Crafts</td><td>One thing I love about Crafts is how the evolve! These toilet paper rolls are adorable and modern. I love that something as simple as a recycled toilet paper roll can be taken t… </td><td>502000</td><td>CraftGossip.com</td><td>Toilet Paper Roll Crafts,Cardboard Crafts,Diy Paper,Paper Crafting,Toilet Paper Rolls,Cardboard Playhouse,Paper Art,Kids Crafts,Toddler Crafts</td><td>image</td><td>https://i.pinimg.com/originals/c6/cd/0d/c6cd0d04da9cfc11566cfd34eeb1f918.jpg</td><td>Local save in /data/diy-and-crafts</td><td>diy-and-crafts</td></tr><tr><td>9875</td><td>782dcbad-ff91-40a6-ba60-216efe29adb7</td><td>European Bucket List: 35 Things NOT To Miss When Traveling Europe</td><td>35 European bucket list destinations for any traveler heading to Europe. From Cinque Terre, Italy to Iceland - there are so many amazing sites to see in Europe.</td><td>28000</td><td>Nicki </td><td>Backpacking Europe,Europe Travel Guide,Travel Guides,Travel Packing,Traveling Europe,Travelling,Travel Backpack,Budget Travel,2 Week Europe Itinerary</td><td>image</td><td>https://i.pinimg.com/originals/71/04/1a/71041ad83ede43d9665741e719c58a86.jpg</td><td>Local save in /data/travel</td><td>travel</td></tr><tr><td>428</td><td>610b3f83-9fe0-469d-946c-d16b577fca71</td><td>Fashion Designer Isaac Mizrahi’s Updated 1930s New York City Apartment</td><td>Fashion designer Issac Mizrahi’s Greenwich Village home is an amalgamation of three apartments that was 20 years in the making</td><td>3000000</td><td>Architectural Digest</td><td>Modern Art,Contemporary Art,Contemporary Kitchens,Contemporary Bedroom,New York City Apartment,Manhattan Apartment,Art Moderne,Architectural Digest,Painting Inspiration</td><td>image</td><td>https://i.pinimg.com/originals/f4/6c/54/f46c546a2e480022a42d842b7dca157e.jpg</td><td>Local save in /data/art</td><td>art</td></tr><tr><td>3454</td><td>46bd3f86-b09d-4e29-9033-7ff2df595e51</td><td>What can you use to color resin?</td><td>HELPFUL RESOURCES – Check out my resin colorants resources page here with links to all the products mentioned in this article (and more). Let me know if you have any that you lo… </td><td>6000</td><td>Mixed Media Crafts</td><td>Epoxy Resin Art,Diy Resin Art,Diy Resin Crafts,Resin Molds,Ice Resin,Resin Pour,Diy Epoxy,Diy Resin Painting,Diy Resin Dice</td><td>image</td><td>https://i.pinimg.com/originals/d4/12/78/d4127833023ca32600571ddca16f1556.jpg</td><td>Local save in /data/diy-and-crafts</td><td>diy-and-crafts</td></tr><tr><td>5730</td><td>1e1f0c8b-9fcf-460b-9154-c775827206eb</td><td>Island Oasis Coupon Organizer</td><td>Description Coupon Organizer in a fun colorful fabric -island oasis, Great Size for the \"basic\" couponer - holds up to 500 coupons with ease, and is made long enough so that you… </td><td>0</td><td>Consuelo Aguirre</td><td>Grocery Items,Grocery Coupons,Care Organization,Coupon Organization,Extreme Couponing,Couponing 101,Life Binder,Save My Money,Love Coupons</td><td>image</td><td>https://i.pinimg.com/originals/65/bb/ea/65bbeaf458907bb079317d8303c4fa0e.jpg</td><td>Local save in /data/finance</td><td>finance</td></tr><tr><td>2863</td><td>9bf39437-42a6-4f02-99a0-9a0383d8cd70</td><td>25 Super Fun Summer Crafts for Kids - Of Life and Lisa</td><td>Keep the kids busy this summer with these easy diy crafts and projects. Creative and…</td><td>124000</td><td>Of Life & Lisa | Lifestyle Blog</td><td>Summer Crafts For Kids,Fun Crafts For Kids,Summer Kids,Toddler Crafts,Crafts To Do,Diy For Kids,Summer Snow,Diys For Summer,Craft Ideas For Girls</td><td>image</td><td>https://i.pinimg.com/originals/b3/bc/e2/b3bce2964e8c8975387b39660eed5f16.jpg</td><td>Local save in /data/diy-and-crafts</td><td>diy-and-crafts</td></tr><tr><td>2923</td><td>52fa3af5-24a4-4ccb-8f17-9c3eb12327ee</td><td>UFO Paper Plate Craft</td><td>A fun space activity for kids. Preshoolers and kindergartners will love making their own alien spacecraft!</td><td>192000</td><td>The Crafting Chicks</td><td>Paper Plate Crafts For Kids,Fun Crafts For Kids,Summer Crafts,Toddler Crafts,Art For Kids,Outer Space Crafts For Kids,Kid Crafts,Space Kids,Back To School Crafts For Kids</td><td>image</td><td>https://i.pinimg.com/originals/6f/e8/aa/6fe8aa405513c6d2f77b5f47d17cdce8.jpg</td><td>Local save in /data/diy-and-crafts</td><td>diy-and-crafts</td></tr><tr><td>8731</td><td>ea760f71-febf-4023-b592-d17396659039</td><td>20 Koi Fish Tattoos For Lucky Men</td><td>Koi fish tattoos are a popular choice for men who want to make a statement, thanks to their rich symbolism and bold design.</td><td>211000</td><td>TheTrendSpotter</td><td>Dr Tattoo,Wörter Tattoos,Pisces Tattoos,Tatoo Art,Dream Tattoos,Dope Tattoos,Mini Tattoos,Finger Tattoos,Body Art Tattoos</td><td>image</td><td>https://i.pinimg.com/originals/8a/0c/0a/8a0c0a7b6236565c519acd41ad1a52c0.jpg</td><td>Local save in /data/tattoos</td><td>tattoos</td></tr><tr><td>8304</td><td>5b6d0913-25e4-43ab-839d-85d5516f78a4</td><td>The #1 Reason You’re Not His Priority Anymore - Matthew Coast</td><td>#lovequotes #matchmaker #matchmadeinheaven #loveyourself #respectyourself</td><td>51000</td><td>Commitment Connection</td><td>Wise Quotes,Quotable Quotes,Words Quotes,Wise Words,Quotes To Live By,Great Quotes,Motivational Quotes,Inspirational Quotes,Funny Quotes</td><td>image</td><td>https://i.pinimg.com/originals/c6/64/ee/c664ee71524fb5a6e7b7b49233f93b43.png</td><td>Local save in /data/quotes</td><td>quotes</td></tr><tr><td>7554</td><td>c6fa12f4-0d4a-4b07-a335-5bf9f37f8281</td><td>Craig Style</td><td>imgentleboss: “ - More about men’s fashion at @Gentleboss - GB’s Facebook - ”</td><td>940</td><td>iElylike ..✿◕‿◕✿ஐ✿◕‿◕✿</td><td>Mens Fashion Blog,Look Fashion,Autumn Fashion,Fashion News,Fashion Sale,80s Fashion,Paris Fashion,Runway Fashion,Fashion Trends</td><td>image</td><td>https://i.pinimg.com/originals/e7/6e/8e/e76e8ed6cc838b84a934c6948a5caff7.jpg</td><td>Local save in /data/mens-fashion</td><td>mens-fashion</td></tr><tr><td>1313</td><td>44662045-e891-4821-8a19-ebe7eedd371a</td><td>Liquid Lash Extensions Mascara</td><td>Instantly create the look of lash extensions with this award-winning, best-selling mascara that won't clump, flake or smudge. Available in 3 shades!</td><td>43000</td><td>Thrive Causemetics</td><td>N,o, ,T,a,g,s, ,A,v,a,i,l,a,b,l,e</td><td>video</td><td>https://i.pinimg.com/videos/thumbnails/originals/69/84/e2/6984e20f3e262098fa9c0614c3453254.0000001.jpg</td><td>Local save in /data/beauty</td><td>beauty</td></tr><tr><td>10625</td><td>d31885b7-742a-4e2a-bbb7-ac5f9d334340</td><td>Jaguar Type E</td><td>1937 Jaguar SS100 - 2 1/2 Litre Roadster, one of the most sought after pre-war sports cars</td><td>8000</td><td>hobbyDB</td><td>Jaguar Type E,Jaguar Xk,Jaguar Cars,Jaguar Roadster,Jaguar Sport,Retro Cars,Vintage Cars,Antique Cars,British Sports Cars</td><td>image</td><td>https://i.pinimg.com/originals/26/81/a7/2681a71bd0c8f7fd0ab79c455338a49a.jpg</td><td>Local save in /data/vehicles</td><td>vehicles</td></tr><tr><td>10794</td><td>c4bd2577-a7bb-4409-bb7a-17d5ed7e1cf1</td><td>TireBuyer</td><td>Nissan GT-R. Sick.</td><td>437</td><td>Ray Uyemura</td><td>Lowrider,Old Vintage Cars,Antique Cars,Austin Martin,Nissan Gtr Black,Jaguar,1959 Cadillac,Cadillac Ct6,Old School Cars</td><td>image</td><td>https://i.pinimg.com/originals/0d/29/9f/0d299f3df020395aa7ce8387f40fbeed.jpg</td><td>Local save in /data/vehicles</td><td>vehicles</td></tr><tr><td>3089</td><td>88f9227e-88d0-4b1c-b0be-bcfc3028b8e2</td><td>No Title Data Available</td><td>None</td><td>null</td><td>User Info Error</td><td>N,o, ,T,a,g,s, ,A,v,a,i,l,a,b,l,e</td><td>multi-video(story page format)</td><td>None</td><td>Local save in /data/diy-and-crafts</td><td>diy-and-crafts</td></tr><tr><td>7528</td><td>fbe53c66-3442-4773-b19e-d3ec6f54dddf</td><td>No Title Data Available</td><td>None</td><td>null</td><td>User Info Error</td><td>N,o, ,T,a,g,s, ,A,v,a,i,l,a,b,l,e</td><td>multi-video(story page format)</td><td>None</td><td>Local save in /data/mens-fashion</td><td>mens-fashion</td></tr></tbody></table></div>"
      ]
     },
     "metadata": {
      "application/vnd.databricks.v1+output": {
       "addedWidgets": {},
       "aggData": [],
       "aggError": "",
       "aggOverflow": false,
       "aggSchema": [],
       "aggSeriesLimitReached": false,
       "aggType": "",
       "arguments": {},
       "columnCustomDisplayInfos": {},
       "data": [
        [
         3156,
         "fa6e31a4-18c2-4eca-a6d8-e903eee2c2a4",
         "Handprint Reindeer Ornaments - Crafty Morning",
         "This post may contain affiliate links, read our Disclosure Policy for more information. As an Amazon Associate I earn from qualifying purchases, thank you! Make some cute handpr… ",
         892000,
         "Michelle {CraftyMorning.com}",
         "Christmas Gifts For Parents,Christmas Decorations For Kids,Christmas Crafts For Toddlers,Preschool Christmas,Christmas Crafts For Gifts,Christmas Activities,Toddler Crafts,Kids Christmas,Christmas Feeling",
         "image",
         "https://i.pinimg.com/originals/ff/fe/38/fffe384f3ec18a0d87cb2d80cc8c1499.jpg",
         "Local save in /data/diy-and-crafts",
         "diy-and-crafts"
        ],
        [
         5494,
         "8fb2af68-543b-4639-8119-de33d28706ed",
         "Dave Ramsey's 7 Baby Steps: What Are They And Will They Work For You",
         "If you love budgeting, make sure to give Dave Ramsey's 7 Baby Steps a try. Follow these steps to begin your debt snowball, build an emergency fund, invest and reach riches. I ca… ",
         26000,
         "Living Low Key | Save Money, Make Money, & Frugal Living",
         "Financial Peace,Financial Tips,Saving Money Quotes,Total Money Makeover,Budgeting Finances,Money Management,Wealth Management,Personal Finance,Making Ideas",
         "image",
         "https://i.pinimg.com/originals/1e/9d/90/1e9d906e4e150e3b95187f3b76ea7c71.png",
         "Local save in /data/finance",
         "finance"
        ],
        [
         2418,
         "da8745a6-5160-46c4-877d-181d50a729fd",
         "100 DIY Christmas Centerpieces You'll Love To Decorate Your Home With For The Christmas Season - Hike n Dip",
         "Here are the best DIY Christmas Centerpieces ideas perfect for your Christmas & holiday season home decor. From Christmas Vignettes to Table Centerpieces.",
         500000,
         "HikenDip",
         "Farmhouse Christmas Decor,Rustic Christmas,Christmas Time,Vintage Christmas,Xmas,Primitive Christmas Crafts,Christmas Vignette,Indoor Christmas Decorations,Diy Christmas Ornaments",
         "image",
         "https://i.pinimg.com/originals/aa/6d/0f/aa6d0f44d7c1c96b998cb9aa6c4446b8.png",
         "Local save in /data/christmas",
         "christmas"
        ],
        [
         6145,
         "82e13a07-db99-43a3-b1c0-89a4b75821da",
         "HOLIDAY MANTLE DECOR - @AMAZON & @TARGET FINDS",
         "Holiday mantle decor, Christmas decor, metallic mercury glass style Christmas trees, eucalyptus vine, evergreen pine branches, white neutral holiday decor, cozy mantle for the h… ",
         83000,
         "Stylin by Aylin",
         "Winter Home Decor,Christmas Living Room Decor,Living Room Decor Cozy,Christmas Decor,Cozy Fireplace,Rustic Fireplace Decor,Fireplace Decorations,Rustic Room,House Decorations",
         "image",
         "https://i.pinimg.com/originals/9d/82/1a/9d821a80acd8f90c16454e978bd9b115.jpg",
         "Local save in /data/home-decor",
         "home-decor"
        ],
        [
         4315,
         "21b59ba9-829d-4c33-8c27-4cd4c56d26b8",
         "Podcasts for Teachers or Parents of Teenagers",
         "Podcasts for Teachers or Parents of Teenagers: Teaching teens middle school and high school can feel joyful and rewarding most days, but can also frustrate you with one challeng… ",
         25000,
         "Math Giraffe",
         "Middle School Classroom,High School Students,High School Teachers,Middle School Tips,High School Counseling,Ela Classroom,High School Science,Future Classroom,Google Classroom",
         "image",
         "https://i.pinimg.com/originals/50/19/31/501931a27ee4d076658980851b995b2c.jpg",
         "Local save in /data/education",
         "education"
        ],
        [
         5069,
         "b75b6f87-deb3-444f-b29e-ce9161b2df49",
         "The Vault: Curated & Refined Wedding Inspiration",
         "Sacramento California Wedding 2 Chic Events & Design Jodi Yorston Photography Wilson Vineyards Barn Miosa Couture Yellow Barn Vineyard Outdoor Candles DIY",
         6000000,
         "Style Me Pretty",
         "60th Anniversary Parties,Anniversary Decorations,Golden Anniversary,25th Wedding Anniversary,Anniversary Pictures,Anniversary Ideas,Birthday Decorations,Event Planning Design,Event Design",
         "image",
         "https://i.pinimg.com/originals/7e/45/90/7e45905fefa36347e83333fd6d091140.jpg",
         "Local save in /data/event-planning",
         "event-planning"
        ],
        [
         7343,
         "b8c63a95-6fe8-4d7f-9455-1eef3462fee0",
         "This Fashion Rule Is Nonsense, And We Should All Forget About It",
         "Black And Brown Outfits You Need To Try This Fall Season. The trick with black and brown outfits is to know how to combine colors, fabrics, and shapes to get a cohesive look. So… ",
         1000000,
         "Cultura Colectiva",
         "Winter Outfits Men,Stylish Mens Outfits,Casual Outfits,Men Casual,Smart Casual,Outfits For Men,Fall Outfits,Mens Winter Boots,Business Casual Men",
         "image",
         "https://i.pinimg.com/originals/3e/49/09/3e4909c0ccc4dbba3cad83d97eab4a61.png",
         "Local save in /data/mens-fashion",
         "mens-fashion"
        ],
        [
         6063,
         "60693727-4927-4bd6-a8c5-096a392d63e6",
         "41 Gorgeous Fall Decor Ideas For Your Home - Chaylor & Mads",
         "Beautiful and easy ways to update every room in your home with fall decor. Plus, my favorite finds in fall decor for 2020!",
         92000,
         "Kristen | Lifestyle, Mom Tips & Teacher Stuff Blog",
         "Fall Home Decor,Autumn Home,Fall Decor Outdoor,Front Porch Fall Decor,Home Decor Ideas,Porch Ideas For Fall,Fall Outdoor Decorating,Decorating Ideas For Fall,Fall Front Doors",
         "image",
         "https://i.pinimg.com/originals/e5/ae/dc/e5aedc14ce557e3a69f672e0f8c88f6e.png",
         "Local save in /data/home-decor",
         "home-decor"
        ],
        [
         2959,
         "439cac4b-18e8-4aaa-88c5-edb26a701111",
         "The Cutest Toilet Paper Crafts",
         "One thing I love about Crafts is how the evolve! These toilet paper rolls are adorable and modern. I love that something as simple as a recycled toilet paper roll can be taken t… ",
         502000,
         "CraftGossip.com",
         "Toilet Paper Roll Crafts,Cardboard Crafts,Diy Paper,Paper Crafting,Toilet Paper Rolls,Cardboard Playhouse,Paper Art,Kids Crafts,Toddler Crafts",
         "image",
         "https://i.pinimg.com/originals/c6/cd/0d/c6cd0d04da9cfc11566cfd34eeb1f918.jpg",
         "Local save in /data/diy-and-crafts",
         "diy-and-crafts"
        ],
        [
         9875,
         "782dcbad-ff91-40a6-ba60-216efe29adb7",
         "European Bucket List: 35 Things NOT To Miss When Traveling Europe",
         "35 European bucket list destinations for any traveler heading to Europe. From Cinque Terre, Italy to Iceland - there are so many amazing sites to see in Europe.",
         28000,
         "Nicki ",
         "Backpacking Europe,Europe Travel Guide,Travel Guides,Travel Packing,Traveling Europe,Travelling,Travel Backpack,Budget Travel,2 Week Europe Itinerary",
         "image",
         "https://i.pinimg.com/originals/71/04/1a/71041ad83ede43d9665741e719c58a86.jpg",
         "Local save in /data/travel",
         "travel"
        ],
        [
         428,
         "610b3f83-9fe0-469d-946c-d16b577fca71",
         "Fashion Designer Isaac Mizrahi’s Updated 1930s New York City Apartment",
         "Fashion designer Issac Mizrahi’s Greenwich Village home is an amalgamation of three apartments that was 20 years in the making",
         3000000,
         "Architectural Digest",
         "Modern Art,Contemporary Art,Contemporary Kitchens,Contemporary Bedroom,New York City Apartment,Manhattan Apartment,Art Moderne,Architectural Digest,Painting Inspiration",
         "image",
         "https://i.pinimg.com/originals/f4/6c/54/f46c546a2e480022a42d842b7dca157e.jpg",
         "Local save in /data/art",
         "art"
        ],
        [
         3454,
         "46bd3f86-b09d-4e29-9033-7ff2df595e51",
         "What can you use to color resin?",
         "HELPFUL RESOURCES – Check out my resin colorants resources page here with links to all the products mentioned in this article (and more). Let me know if you have any that you lo… ",
         6000,
         "Mixed Media Crafts",
         "Epoxy Resin Art,Diy Resin Art,Diy Resin Crafts,Resin Molds,Ice Resin,Resin Pour,Diy Epoxy,Diy Resin Painting,Diy Resin Dice",
         "image",
         "https://i.pinimg.com/originals/d4/12/78/d4127833023ca32600571ddca16f1556.jpg",
         "Local save in /data/diy-and-crafts",
         "diy-and-crafts"
        ],
        [
         5730,
         "1e1f0c8b-9fcf-460b-9154-c775827206eb",
         "Island Oasis Coupon Organizer",
         "Description Coupon Organizer in a fun colorful fabric -island oasis, Great Size for the \"basic\" couponer - holds up to 500 coupons with ease, and is made long enough so that you… ",
         0,
         "Consuelo Aguirre",
         "Grocery Items,Grocery Coupons,Care Organization,Coupon Organization,Extreme Couponing,Couponing 101,Life Binder,Save My Money,Love Coupons",
         "image",
         "https://i.pinimg.com/originals/65/bb/ea/65bbeaf458907bb079317d8303c4fa0e.jpg",
         "Local save in /data/finance",
         "finance"
        ],
        [
         2863,
         "9bf39437-42a6-4f02-99a0-9a0383d8cd70",
         "25 Super Fun Summer Crafts for Kids - Of Life and Lisa",
         "Keep the kids busy this summer with these easy diy crafts and projects. Creative and…",
         124000,
         "Of Life & Lisa | Lifestyle Blog",
         "Summer Crafts For Kids,Fun Crafts For Kids,Summer Kids,Toddler Crafts,Crafts To Do,Diy For Kids,Summer Snow,Diys For Summer,Craft Ideas For Girls",
         "image",
         "https://i.pinimg.com/originals/b3/bc/e2/b3bce2964e8c8975387b39660eed5f16.jpg",
         "Local save in /data/diy-and-crafts",
         "diy-and-crafts"
        ],
        [
         2923,
         "52fa3af5-24a4-4ccb-8f17-9c3eb12327ee",
         "UFO Paper Plate Craft",
         "A fun space activity for kids. Preshoolers and kindergartners will love making their own alien spacecraft!",
         192000,
         "The Crafting Chicks",
         "Paper Plate Crafts For Kids,Fun Crafts For Kids,Summer Crafts,Toddler Crafts,Art For Kids,Outer Space Crafts For Kids,Kid Crafts,Space Kids,Back To School Crafts For Kids",
         "image",
         "https://i.pinimg.com/originals/6f/e8/aa/6fe8aa405513c6d2f77b5f47d17cdce8.jpg",
         "Local save in /data/diy-and-crafts",
         "diy-and-crafts"
        ],
        [
         8731,
         "ea760f71-febf-4023-b592-d17396659039",
         "20 Koi Fish Tattoos For Lucky Men",
         "Koi fish tattoos are a popular choice for men who want to make a statement, thanks to their rich symbolism and bold design.",
         211000,
         "TheTrendSpotter",
         "Dr Tattoo,Wörter Tattoos,Pisces Tattoos,Tatoo Art,Dream Tattoos,Dope Tattoos,Mini Tattoos,Finger Tattoos,Body Art Tattoos",
         "image",
         "https://i.pinimg.com/originals/8a/0c/0a/8a0c0a7b6236565c519acd41ad1a52c0.jpg",
         "Local save in /data/tattoos",
         "tattoos"
        ],
        [
         8304,
         "5b6d0913-25e4-43ab-839d-85d5516f78a4",
         "The #1 Reason You’re Not His Priority Anymore - Matthew Coast",
         "#lovequotes #matchmaker #matchmadeinheaven #loveyourself #respectyourself",
         51000,
         "Commitment Connection",
         "Wise Quotes,Quotable Quotes,Words Quotes,Wise Words,Quotes To Live By,Great Quotes,Motivational Quotes,Inspirational Quotes,Funny Quotes",
         "image",
         "https://i.pinimg.com/originals/c6/64/ee/c664ee71524fb5a6e7b7b49233f93b43.png",
         "Local save in /data/quotes",
         "quotes"
        ],
        [
         7554,
         "c6fa12f4-0d4a-4b07-a335-5bf9f37f8281",
         "Craig Style",
         "imgentleboss: “ - More about men’s fashion at @Gentleboss - GB’s Facebook - ”",
         940,
         "iElylike ..✿◕‿◕✿ஐ✿◕‿◕✿",
         "Mens Fashion Blog,Look Fashion,Autumn Fashion,Fashion News,Fashion Sale,80s Fashion,Paris Fashion,Runway Fashion,Fashion Trends",
         "image",
         "https://i.pinimg.com/originals/e7/6e/8e/e76e8ed6cc838b84a934c6948a5caff7.jpg",
         "Local save in /data/mens-fashion",
         "mens-fashion"
        ],
        [
         1313,
         "44662045-e891-4821-8a19-ebe7eedd371a",
         "Liquid Lash Extensions Mascara",
         "Instantly create the look of lash extensions with this award-winning, best-selling mascara that won't clump, flake or smudge. Available in 3 shades!",
         43000,
         "Thrive Causemetics",
         "N,o, ,T,a,g,s, ,A,v,a,i,l,a,b,l,e",
         "video",
         "https://i.pinimg.com/videos/thumbnails/originals/69/84/e2/6984e20f3e262098fa9c0614c3453254.0000001.jpg",
         "Local save in /data/beauty",
         "beauty"
        ],
        [
         10625,
         "d31885b7-742a-4e2a-bbb7-ac5f9d334340",
         "Jaguar Type E",
         "1937 Jaguar SS100 - 2 1/2 Litre Roadster, one of the most sought after pre-war sports cars",
         8000,
         "hobbyDB",
         "Jaguar Type E,Jaguar Xk,Jaguar Cars,Jaguar Roadster,Jaguar Sport,Retro Cars,Vintage Cars,Antique Cars,British Sports Cars",
         "image",
         "https://i.pinimg.com/originals/26/81/a7/2681a71bd0c8f7fd0ab79c455338a49a.jpg",
         "Local save in /data/vehicles",
         "vehicles"
        ],
        [
         10794,
         "c4bd2577-a7bb-4409-bb7a-17d5ed7e1cf1",
         "TireBuyer",
         "Nissan GT-R. Sick.",
         437,
         "Ray Uyemura",
         "Lowrider,Old Vintage Cars,Antique Cars,Austin Martin,Nissan Gtr Black,Jaguar,1959 Cadillac,Cadillac Ct6,Old School Cars",
         "image",
         "https://i.pinimg.com/originals/0d/29/9f/0d299f3df020395aa7ce8387f40fbeed.jpg",
         "Local save in /data/vehicles",
         "vehicles"
        ],
        [
         3089,
         "88f9227e-88d0-4b1c-b0be-bcfc3028b8e2",
         "No Title Data Available",
         "None",
         null,
         "User Info Error",
         "N,o, ,T,a,g,s, ,A,v,a,i,l,a,b,l,e",
         "multi-video(story page format)",
         "None",
         "Local save in /data/diy-and-crafts",
         "diy-and-crafts"
        ],
        [
         7528,
         "fbe53c66-3442-4773-b19e-d3ec6f54dddf",
         "No Title Data Available",
         "None",
         null,
         "User Info Error",
         "N,o, ,T,a,g,s, ,A,v,a,i,l,a,b,l,e",
         "multi-video(story page format)",
         "None",
         "Local save in /data/mens-fashion",
         "mens-fashion"
        ]
       ],
       "datasetInfos": [],
       "dbfsResultPath": null,
       "isJsonSchema": true,
       "metadata": {},
       "overflow": false,
       "plotOptions": {
        "customPlotOptions": {},
        "displayType": "table",
        "pivotAggregation": null,
        "pivotColumns": null,
        "xColumns": null,
        "yColumns": null
       },
       "removedWidgets": [],
       "schema": [
        {
         "metadata": "{}",
         "name": "ind",
         "type": "\"integer\""
        },
        {
         "metadata": "{}",
         "name": "unique_id",
         "type": "\"string\""
        },
        {
         "metadata": "{}",
         "name": "title",
         "type": "\"string\""
        },
        {
         "metadata": "{}",
         "name": "description",
         "type": "\"string\""
        },
        {
         "metadata": "{}",
         "name": "follower_count",
         "type": "\"integer\""
        },
        {
         "metadata": "{}",
         "name": "poster_name",
         "type": "\"string\""
        },
        {
         "metadata": "{}",
         "name": "tag_list",
         "type": "\"string\""
        },
        {
         "metadata": "{}",
         "name": "is_image_or_video",
         "type": "\"string\""
        },
        {
         "metadata": "{}",
         "name": "image_src",
         "type": "\"string\""
        },
        {
         "metadata": "{}",
         "name": "save_location",
         "type": "\"string\""
        },
        {
         "metadata": "{}",
         "name": "category",
         "type": "\"string\""
        }
       ],
       "type": "table"
      }
     },
     "output_type": "display_data"
    }
   ],
   "source": [
    "df_pin.createOrReplaceTempView(\"pin\")\n",
    "df_geo.createOrReplaceTempView(\"geo\")\n",
    "df_user.createOrReplaceTempView(\"user\")"
   ]
  },
  {
   "cell_type": "code",
   "execution_count": null,
   "metadata": {
    "application/vnd.databricks.v1+cell": {
     "cellMetadata": {
      "byteLimit": 2048000,
      "rowLimit": 10000
     },
     "inputWidgets": {},
     "nuid": "82050b66-5a46-4be4-b166-b2d5303126c0",
     "showTitle": false,
     "title": ""
    }
   },
   "outputs": [
    {
     "data": {
      "text/html": [
       "<style scoped>\n",
       "  .table-result-container {\n",
       "    max-height: 300px;\n",
       "    overflow: auto;\n",
       "  }\n",
       "  table, th, td {\n",
       "    border: 1px solid black;\n",
       "    border-collapse: collapse;\n",
       "  }\n",
       "  th, td {\n",
       "    padding: 5px;\n",
       "  }\n",
       "  th {\n",
       "    text-align: left;\n",
       "  }\n",
       "</style><div class='table-result-container'><table class='table-result'><thead style='background-color: white'><tr><th>country</th><th>category</th><th>category_count</th></tr></thead><tbody><tr><td>Albania</td><td>diy-and-crafts</td><td>1</td></tr><tr><td>Angola</td><td>diy-and-crafts</td><td>1</td></tr><tr><td>Anguilla</td><td>home-decor</td><td>1</td></tr><tr><td>Antarctica (the territory South of 60 deg S)</td><td>christmas</td><td>1</td></tr><tr><td>Armenia</td><td>diy-and-crafts</td><td>2</td></tr><tr><td>Aruba</td><td>tattoos</td><td>1</td></tr><tr><td>Australia</td><td>mens-fashion</td><td>1</td></tr><tr><td>Azerbaijan</td><td>event-planning</td><td>1</td></tr><tr><td>Bangladesh</td><td>art</td><td>1</td></tr><tr><td>Barbados</td><td>travel</td><td>1</td></tr><tr><td>Bulgaria</td><td>finance</td><td>1</td></tr><tr><td>Cambodia</td><td>diy-and-crafts</td><td>1</td></tr><tr><td>Cocos (Keeling) Islands</td><td>vehicles</td><td>1</td></tr><tr><td>Colombia</td><td>finance</td><td>1</td></tr><tr><td>Cote d'Ivoire</td><td>education</td><td>1</td></tr><tr><td>French Guiana</td><td>quotes</td><td>1</td></tr><tr><td>Jamaica</td><td>vehicles</td><td>1</td></tr><tr><td>Maldives</td><td>beauty</td><td>1</td></tr><tr><td>Mozambique</td><td>home-decor</td><td>1</td></tr><tr><td>Sudan</td><td>mens-fashion</td><td>1</td></tr></tbody></table></div>"
      ]
     },
     "metadata": {
      "application/vnd.databricks.v1+output": {
       "addedWidgets": {},
       "aggData": [],
       "aggError": "",
       "aggOverflow": false,
       "aggSchema": [],
       "aggSeriesLimitReached": false,
       "aggType": "",
       "arguments": {},
       "columnCustomDisplayInfos": {},
       "data": [
        [
         "Albania",
         "diy-and-crafts",
         1
        ],
        [
         "Angola",
         "diy-and-crafts",
         1
        ],
        [
         "Anguilla",
         "home-decor",
         1
        ],
        [
         "Antarctica (the territory South of 60 deg S)",
         "christmas",
         1
        ],
        [
         "Armenia",
         "diy-and-crafts",
         2
        ],
        [
         "Aruba",
         "tattoos",
         1
        ],
        [
         "Australia",
         "mens-fashion",
         1
        ],
        [
         "Azerbaijan",
         "event-planning",
         1
        ],
        [
         "Bangladesh",
         "art",
         1
        ],
        [
         "Barbados",
         "travel",
         1
        ],
        [
         "Bulgaria",
         "finance",
         1
        ],
        [
         "Cambodia",
         "diy-and-crafts",
         1
        ],
        [
         "Cocos (Keeling) Islands",
         "vehicles",
         1
        ],
        [
         "Colombia",
         "finance",
         1
        ],
        [
         "Cote d'Ivoire",
         "education",
         1
        ],
        [
         "French Guiana",
         "quotes",
         1
        ],
        [
         "Jamaica",
         "vehicles",
         1
        ],
        [
         "Maldives",
         "beauty",
         1
        ],
        [
         "Mozambique",
         "home-decor",
         1
        ],
        [
         "Sudan",
         "mens-fashion",
         1
        ]
       ],
       "datasetInfos": [],
       "dbfsResultPath": null,
       "isJsonSchema": true,
       "metadata": {},
       "overflow": false,
       "plotOptions": {
        "customPlotOptions": {},
        "displayType": "table",
        "pivotAggregation": null,
        "pivotColumns": null,
        "xColumns": null,
        "yColumns": null
       },
       "removedWidgets": [],
       "schema": [
        {
         "metadata": "{}",
         "name": "country",
         "type": "\"string\""
        },
        {
         "metadata": "{}",
         "name": "category",
         "type": "\"string\""
        },
        {
         "metadata": "{}",
         "name": "category_count",
         "type": "\"long\""
        }
       ],
       "type": "table"
      }
     },
     "output_type": "display_data"
    }
   ],
   "source": [
    "result = spark.sql(\"\"\"SELECT country, category, category_count\n",
    "                    FROM (\n",
    "                        SELECT country, category, COUNT(*) AS category_count,\n",
    "                            ROW_NUMBER() OVER (PARTITION BY country ORDER BY COUNT(*) DESC) AS rank\n",
    "                        FROM geo \n",
    "                        JOIN pin ON pin.ind = geo.ind\n",
    "                        GROUP BY country, category\n",
    "                    ) \n",
    "                    WHERE rank = 1\"\"\")\n",
    "display(result)"
   ]
  },
  {
   "cell_type": "code",
   "execution_count": null,
   "metadata": {
    "application/vnd.databricks.v1+cell": {
     "cellMetadata": {
      "byteLimit": 2048000,
      "rowLimit": 10000
     },
     "inputWidgets": {},
     "nuid": "b17ad25f-5740-4dc5-937a-fb2d17629936",
     "showTitle": false,
     "title": ""
    }
   },
   "outputs": [
    {
     "data": {
      "text/html": [
       "<style scoped>\n",
       "  .table-result-container {\n",
       "    max-height: 300px;\n",
       "    overflow: auto;\n",
       "  }\n",
       "  table, th, td {\n",
       "    border: 1px solid black;\n",
       "    border-collapse: collapse;\n",
       "  }\n",
       "  th, td {\n",
       "    padding: 5px;\n",
       "  }\n",
       "  th {\n",
       "    text-align: left;\n",
       "  }\n",
       "</style><div class='table-result-container'><table class='table-result'><thead style='background-color: white'><tr><th>post_year</th><th>category</th><th>category_count</th></tr></thead><tbody><tr><td>2018</td><td>diy-and-crafts</td><td>2</td></tr><tr><td>2019</td><td>diy-and-crafts</td><td>2</td></tr><tr><td>2020</td><td>art</td><td>1</td></tr><tr><td>2021</td><td>finance</td><td>2</td></tr><tr><td>2022</td><td>christmas</td><td>1</td></tr></tbody></table></div>"
      ]
     },
     "metadata": {
      "application/vnd.databricks.v1+output": {
       "addedWidgets": {},
       "aggData": [],
       "aggError": "",
       "aggOverflow": false,
       "aggSchema": [],
       "aggSeriesLimitReached": false,
       "aggType": "",
       "arguments": {},
       "columnCustomDisplayInfos": {},
       "data": [
        [
         2018,
         "diy-and-crafts",
         2
        ],
        [
         2019,
         "diy-and-crafts",
         2
        ],
        [
         2020,
         "art",
         1
        ],
        [
         2021,
         "finance",
         2
        ],
        [
         2022,
         "christmas",
         1
        ]
       ],
       "datasetInfos": [],
       "dbfsResultPath": null,
       "isJsonSchema": true,
       "metadata": {},
       "overflow": false,
       "plotOptions": {
        "customPlotOptions": {},
        "displayType": "table",
        "pivotAggregation": null,
        "pivotColumns": null,
        "xColumns": null,
        "yColumns": null
       },
       "removedWidgets": [],
       "schema": [
        {
         "metadata": "{}",
         "name": "post_year",
         "type": "\"integer\""
        },
        {
         "metadata": "{}",
         "name": "category",
         "type": "\"string\""
        },
        {
         "metadata": "{}",
         "name": "category_count",
         "type": "\"long\""
        }
       ],
       "type": "table"
      }
     },
     "output_type": "display_data"
    }
   ],
   "source": [
    "result = spark.sql(\"\"\"SELECT post_year, category, category_count\n",
    "                    FROM (\n",
    "                        SELECT year(timestamp) as post_year, category, COUNT(*) AS category_count,\n",
    "                            ROW_NUMBER() OVER (PARTITION BY year(timestamp) ORDER BY COUNT(*) DESC) AS rank\n",
    "                        FROM geo \n",
    "                        JOIN pin ON pin.ind = geo.ind\n",
    "                        GROUP BY year(timestamp), category\n",
    "                    ) \n",
    "                    WHERE rank = 1\"\"\")\n",
    "display(result)\n"
   ]
  },
  {
   "cell_type": "code",
   "execution_count": null,
   "metadata": {
    "application/vnd.databricks.v1+cell": {
     "cellMetadata": {
      "byteLimit": 2048000,
      "rowLimit": 10000
     },
     "inputWidgets": {},
     "nuid": "d8ed86f6-8c33-43d5-8a80-e69e8c60517a",
     "showTitle": false,
     "title": ""
    }
   },
   "outputs": [
    {
     "data": {
      "text/html": [
       "<style scoped>\n",
       "  .table-result-container {\n",
       "    max-height: 300px;\n",
       "    overflow: auto;\n",
       "  }\n",
       "  table, th, td {\n",
       "    border: 1px solid black;\n",
       "    border-collapse: collapse;\n",
       "  }\n",
       "  th, td {\n",
       "    padding: 5px;\n",
       "  }\n",
       "  th {\n",
       "    text-align: left;\n",
       "  }\n",
       "</style><div class='table-result-container'><table class='table-result'><thead style='background-color: white'><tr><th>country</th><th>max_follower_count</th></tr></thead><tbody><tr><td>Anguilla</td><td>92000</td></tr><tr><td>Cambodia</td><td>6000</td></tr><tr><td>Bangladesh</td><td>3000000</td></tr><tr><td>Cocos (Keeling) Islands</td><td>437</td></tr><tr><td>Cote d'Ivoire</td><td>192000</td></tr><tr><td>Azerbaijan</td><td>6000000</td></tr><tr><td>Antarctica (the territory South of 60 deg S)</td><td>500000</td></tr><tr><td>French Guiana</td><td>51000</td></tr><tr><td>Mozambique</td><td>83000</td></tr><tr><td>Australia</td><td>1000000</td></tr><tr><td>Bulgaria</td><td>26000</td></tr><tr><td>Maldives</td><td>43000</td></tr><tr><td>Sudan</td><td>940</td></tr><tr><td>Angola</td><td>502000</td></tr><tr><td>Albania</td><td>null</td></tr><tr><td>Barbados</td><td>28000</td></tr><tr><td>Aruba</td><td>211000</td></tr><tr><td>Armenia</td><td>892000</td></tr><tr><td>Jamaica</td><td>8000</td></tr><tr><td>Colombia</td><td>0</td></tr></tbody></table></div>"
      ]
     },
     "metadata": {
      "application/vnd.databricks.v1+output": {
       "addedWidgets": {},
       "aggData": [],
       "aggError": "",
       "aggOverflow": false,
       "aggSchema": [],
       "aggSeriesLimitReached": false,
       "aggType": "",
       "arguments": {},
       "columnCustomDisplayInfos": {},
       "data": [
        [
         "Anguilla",
         92000
        ],
        [
         "Cambodia",
         6000
        ],
        [
         "Bangladesh",
         3000000
        ],
        [
         "Cocos (Keeling) Islands",
         437
        ],
        [
         "Cote d'Ivoire",
         192000
        ],
        [
         "Azerbaijan",
         6000000
        ],
        [
         "Antarctica (the territory South of 60 deg S)",
         500000
        ],
        [
         "French Guiana",
         51000
        ],
        [
         "Mozambique",
         83000
        ],
        [
         "Australia",
         1000000
        ],
        [
         "Bulgaria",
         26000
        ],
        [
         "Maldives",
         43000
        ],
        [
         "Sudan",
         940
        ],
        [
         "Angola",
         502000
        ],
        [
         "Albania",
         null
        ],
        [
         "Barbados",
         28000
        ],
        [
         "Aruba",
         211000
        ],
        [
         "Armenia",
         892000
        ],
        [
         "Jamaica",
         8000
        ],
        [
         "Colombia",
         0
        ]
       ],
       "datasetInfos": [],
       "dbfsResultPath": null,
       "isJsonSchema": true,
       "metadata": {},
       "overflow": false,
       "plotOptions": {
        "customPlotOptions": {},
        "displayType": "table",
        "pivotAggregation": null,
        "pivotColumns": null,
        "xColumns": null,
        "yColumns": null
       },
       "removedWidgets": [],
       "schema": [
        {
         "metadata": "{}",
         "name": "country",
         "type": "\"string\""
        },
        {
         "metadata": "{}",
         "name": "max_follower_count",
         "type": "\"integer\""
        }
       ],
       "type": "table"
      }
     },
     "output_type": "display_data"
    }
   ],
   "source": [
    "result = spark.sql(\"\"\"SELECT country, MAX(follower_count) as max_follower_count\n",
    "                   FROM pin \n",
    "                   JOIN geo ON geo.ind = pin.ind\n",
    "                   GROUP BY country\"\"\")\n",
    "\n",
    "display(result)"
   ]
  },
  {
   "cell_type": "code",
   "execution_count": null,
   "metadata": {
    "application/vnd.databricks.v1+cell": {
     "cellMetadata": {
      "byteLimit": 2048000,
      "rowLimit": 10000
     },
     "inputWidgets": {},
     "nuid": "a0f26c9c-3391-4924-84f3-fc6757f7efa0",
     "showTitle": false,
     "title": ""
    }
   },
   "outputs": [
    {
     "data": {
      "text/html": [
       "<style scoped>\n",
       "  .table-result-container {\n",
       "    max-height: 300px;\n",
       "    overflow: auto;\n",
       "  }\n",
       "  table, th, td {\n",
       "    border: 1px solid black;\n",
       "    border-collapse: collapse;\n",
       "  }\n",
       "  th, td {\n",
       "    padding: 5px;\n",
       "  }\n",
       "  th {\n",
       "    text-align: left;\n",
       "  }\n",
       "</style><div class='table-result-container'><table class='table-result'><thead style='background-color: white'><tr><th>country</th><th>max_follower_count</th></tr></thead><tbody><tr><td>Azerbaijan</td><td>6000000</td></tr></tbody></table></div>"
      ]
     },
     "metadata": {
      "application/vnd.databricks.v1+output": {
       "addedWidgets": {},
       "aggData": [],
       "aggError": "",
       "aggOverflow": false,
       "aggSchema": [],
       "aggSeriesLimitReached": false,
       "aggType": "",
       "arguments": {},
       "columnCustomDisplayInfos": {},
       "data": [
        [
         "Azerbaijan",
         6000000
        ]
       ],
       "datasetInfos": [],
       "dbfsResultPath": null,
       "isJsonSchema": true,
       "metadata": {},
       "overflow": false,
       "plotOptions": {
        "customPlotOptions": {},
        "displayType": "table",
        "pivotAggregation": null,
        "pivotColumns": null,
        "xColumns": null,
        "yColumns": null
       },
       "removedWidgets": [],
       "schema": [
        {
         "metadata": "{}",
         "name": "country",
         "type": "\"string\""
        },
        {
         "metadata": "{}",
         "name": "max_follower_count",
         "type": "\"integer\""
        }
       ],
       "type": "table"
      }
     },
     "output_type": "display_data"
    }
   ],
   "source": [
    "result = spark.sql(\"\"\"SELECT country,  MAX(follower_count) as max_follower_count\n",
    "                   FROM pin\n",
    "                   JOIN geo ON geo.ind = pin.ind\n",
    "                   GROUP BY country\n",
    "                   ORDER BY max_follower_count DESC\n",
    "                   LIMIT 1\"\"\")\n",
    "\n",
    "display(result)"
   ]
  },
  {
   "cell_type": "code",
   "execution_count": null,
   "metadata": {
    "application/vnd.databricks.v1+cell": {
     "cellMetadata": {
      "byteLimit": 2048000,
      "rowLimit": 10000
     },
     "inputWidgets": {},
     "nuid": "56cbc573-c025-4930-ad2a-404383aeb400",
     "showTitle": false,
     "title": ""
    }
   },
   "outputs": [
    {
     "data": {
      "text/html": [
       "<style scoped>\n",
       "  .table-result-container {\n",
       "    max-height: 300px;\n",
       "    overflow: auto;\n",
       "  }\n",
       "  table, th, td {\n",
       "    border: 1px solid black;\n",
       "    border-collapse: collapse;\n",
       "  }\n",
       "  th, td {\n",
       "    padding: 5px;\n",
       "  }\n",
       "  th {\n",
       "    text-align: left;\n",
       "  }\n",
       "</style><div class='table-result-container'><table class='table-result'><thead style='background-color: white'><tr><th>age_group</th><th>category</th><th>category_count</th></tr></thead><tbody><tr><td>18-24</td><td>diy-and-crafts</td><td>3</td></tr><tr><td>25-35</td><td>vehicles</td><td>2</td></tr><tr><td>36-50</td><td>education</td><td>1</td></tr></tbody></table></div>"
      ]
     },
     "metadata": {
      "application/vnd.databricks.v1+output": {
       "addedWidgets": {},
       "aggData": [],
       "aggError": "",
       "aggOverflow": false,
       "aggSchema": [],
       "aggSeriesLimitReached": false,
       "aggType": "",
       "arguments": {},
       "columnCustomDisplayInfos": {},
       "data": [
        [
         "18-24",
         "diy-and-crafts",
         3
        ],
        [
         "25-35",
         "vehicles",
         2
        ],
        [
         "36-50",
         "education",
         1
        ]
       ],
       "datasetInfos": [],
       "dbfsResultPath": null,
       "isJsonSchema": true,
       "metadata": {},
       "overflow": false,
       "plotOptions": {
        "customPlotOptions": {},
        "displayType": "table",
        "pivotAggregation": null,
        "pivotColumns": null,
        "xColumns": null,
        "yColumns": null
       },
       "removedWidgets": [],
       "schema": [
        {
         "metadata": "{}",
         "name": "age_group",
         "type": "\"string\""
        },
        {
         "metadata": "{}",
         "name": "category",
         "type": "\"string\""
        },
        {
         "metadata": "{}",
         "name": "category_count",
         "type": "\"long\""
        }
       ],
       "type": "table"
      }
     },
     "output_type": "display_data"
    }
   ],
   "source": [
    "result = spark.sql(\"\"\"\n",
    "    SELECT age_group, category, category_count\n",
    "    FROM (\n",
    "        SELECT age_group, category, category_count,\n",
    "            ROW_NUMBER() OVER (PARTITION BY age_group ORDER BY category_count DESC) AS rank\n",
    "        FROM (\n",
    "            SELECT\n",
    "                CASE \n",
    "                    WHEN age BETWEEN 18 AND 24 THEN \"18-24\"\n",
    "                    WHEN age BETWEEN 25 AND 35 THEN \"25-35\"\n",
    "                    WHEN age BETWEEN 36 AND 50 THEN \"36-50\"\n",
    "                    WHEN age > 50 THEN \"+50\"\n",
    "                    ELSE \"NONE\" \n",
    "                END AS age_group,\n",
    "                category,\n",
    "                COUNT(*) AS category_count\n",
    "            FROM user\n",
    "            JOIN pin ON pin.ind = user.ind\n",
    "            GROUP BY age_group, category\n",
    "        )\n",
    "    )\n",
    "    WHERE rank = 1\n",
    "\"\"\")\n",
    "\n",
    "display(result)"
   ]
  },
  {
   "cell_type": "code",
   "execution_count": null,
   "metadata": {
    "application/vnd.databricks.v1+cell": {
     "cellMetadata": {
      "byteLimit": 2048000,
      "rowLimit": 10000
     },
     "inputWidgets": {},
     "nuid": "b60f58a4-e864-48fd-8b9f-9114bf16b48c",
     "showTitle": false,
     "title": ""
    }
   },
   "outputs": [
    {
     "data": {
      "text/html": [
       "<style scoped>\n",
       "  .table-result-container {\n",
       "    max-height: 300px;\n",
       "    overflow: auto;\n",
       "  }\n",
       "  table, th, td {\n",
       "    border: 1px solid black;\n",
       "    border-collapse: collapse;\n",
       "  }\n",
       "  th, td {\n",
       "    padding: 5px;\n",
       "  }\n",
       "  th {\n",
       "    text-align: left;\n",
       "  }\n",
       "</style><div class='table-result-container'><table class='table-result'><thead style='background-color: white'><tr><th>age_group</th><th>median_follower_count</th></tr></thead><tbody><tr><td>36-50</td><td>6000.0</td></tr><tr><td>18-24</td><td>501000.0</td></tr><tr><td>25-35</td><td>47000.0</td></tr></tbody></table></div>"
      ]
     },
     "metadata": {
      "application/vnd.databricks.v1+output": {
       "addedWidgets": {},
       "aggData": [],
       "aggError": "",
       "aggOverflow": false,
       "aggSchema": [],
       "aggSeriesLimitReached": false,
       "aggType": "",
       "arguments": {},
       "columnCustomDisplayInfos": {},
       "data": [
        [
         "36-50",
         6000
        ],
        [
         "18-24",
         501000
        ],
        [
         "25-35",
         47000
        ]
       ],
       "datasetInfos": [],
       "dbfsResultPath": null,
       "isJsonSchema": true,
       "metadata": {},
       "overflow": false,
       "plotOptions": {
        "customPlotOptions": {},
        "displayType": "table",
        "pivotAggregation": null,
        "pivotColumns": null,
        "xColumns": null,
        "yColumns": null
       },
       "removedWidgets": [],
       "schema": [
        {
         "metadata": "{}",
         "name": "age_group",
         "type": "\"string\""
        },
        {
         "metadata": "{}",
         "name": "median_follower_count",
         "type": "\"double\""
        }
       ],
       "type": "table"
      }
     },
     "output_type": "display_data"
    }
   ],
   "source": [
    "results = spark.sql(\"\"\"\n",
    "                    SELECT CASE \n",
    "                    WHEN age BETWEEN 18 AND 24 THEN \"18-24\"\n",
    "                    WHEN age BETWEEN 25 AND 35 THEN \"25-35\"\n",
    "                    WHEN age BETWEEN 36 AND 50 THEN \"36-50\"\n",
    "                    WHEN age > 50 THEN \"+50\"\n",
    "                    ELSE \"NONE\" \n",
    "                END AS age_group, PERCENTILE_CONT(0.5) WITHIN GROUP (ORDER BY follower_count) AS median_follower_count\n",
    "                FROM user \n",
    "                JOIN pin on pin.ind = user.ind\n",
    "                GROUP BY age_group\n",
    "                    \"\"\")\n",
    "\n",
    "display(results)"
   ]
  },
  {
   "cell_type": "code",
   "execution_count": null,
   "metadata": {
    "application/vnd.databricks.v1+cell": {
     "cellMetadata": {
      "byteLimit": 2048000,
      "rowLimit": 10000
     },
     "inputWidgets": {},
     "nuid": "47f2ebfe-dce4-43b1-b6ad-ef8618696bac",
     "showTitle": false,
     "title": ""
    }
   },
   "outputs": [
    {
     "data": {
      "text/html": [
       "<style scoped>\n",
       "  .table-result-container {\n",
       "    max-height: 300px;\n",
       "    overflow: auto;\n",
       "  }\n",
       "  table, th, td {\n",
       "    border: 1px solid black;\n",
       "    border-collapse: collapse;\n",
       "  }\n",
       "  th, td {\n",
       "    padding: 5px;\n",
       "  }\n",
       "  th {\n",
       "    text-align: left;\n",
       "  }\n",
       "</style><div class='table-result-container'><table class='table-result'><thead style='background-color: white'><tr><th>post_year</th><th>numbers_users_joined</th></tr></thead><tbody><tr><td>2015</td><td>14</td></tr><tr><td>2016</td><td>6</td></tr><tr><td>2017</td><td>3</td></tr></tbody></table></div>"
      ]
     },
     "metadata": {
      "application/vnd.databricks.v1+output": {
       "addedWidgets": {},
       "aggData": [],
       "aggError": "",
       "aggOverflow": false,
       "aggSchema": [],
       "aggSeriesLimitReached": false,
       "aggType": "",
       "arguments": {},
       "columnCustomDisplayInfos": {},
       "data": [
        [
         2015,
         14
        ],
        [
         2016,
         6
        ],
        [
         2017,
         3
        ]
       ],
       "datasetInfos": [],
       "dbfsResultPath": null,
       "isJsonSchema": true,
       "metadata": {},
       "overflow": false,
       "plotOptions": {
        "customPlotOptions": {},
        "displayType": "table",
        "pivotAggregation": null,
        "pivotColumns": null,
        "xColumns": null,
        "yColumns": null
       },
       "removedWidgets": [],
       "schema": [
        {
         "metadata": "{}",
         "name": "post_year",
         "type": "\"integer\""
        },
        {
         "metadata": "{}",
         "name": "numbers_users_joined",
         "type": "\"long\""
        }
       ],
       "type": "table"
      }
     },
     "output_type": "display_data"
    }
   ],
   "source": [
    "results = spark.sql(\"\"\"\n",
    "                    SELECT year(date_joined) as join_year, COUNT(date_joined) as numbers_users_joined\n",
    "                    FROM user \n",
    "                    GROUP by join_year\n",
    "                    HAVING join_year BETWEEN 2015 and 2020\n",
    "                    \"\"\")\n",
    "\n",
    "display(results)"
   ]
  },
  {
   "cell_type": "code",
   "execution_count": null,
   "metadata": {
    "application/vnd.databricks.v1+cell": {
     "cellMetadata": {
      "byteLimit": 2048000,
      "rowLimit": 10000
     },
     "inputWidgets": {},
     "nuid": "f0a9e913-704f-4432-8779-fe7d292532dd",
     "showTitle": false,
     "title": ""
    }
   },
   "outputs": [
    {
     "data": {
      "text/html": [
       "<style scoped>\n",
       "  .table-result-container {\n",
       "    max-height: 300px;\n",
       "    overflow: auto;\n",
       "  }\n",
       "  table, th, td {\n",
       "    border: 1px solid black;\n",
       "    border-collapse: collapse;\n",
       "  }\n",
       "  th, td {\n",
       "    padding: 5px;\n",
       "  }\n",
       "  th {\n",
       "    text-align: left;\n",
       "  }\n",
       "</style><div class='table-result-container'><table class='table-result'><thead style='background-color: white'><tr><th>join_year</th><th>median_follower_count</th></tr></thead><tbody><tr><td>2015</td><td>87500.0</td></tr><tr><td>2016</td><td>313000.0</td></tr><tr><td>2017</td><td>6000.0</td></tr></tbody></table></div>"
      ]
     },
     "metadata": {
      "application/vnd.databricks.v1+output": {
       "addedWidgets": {},
       "aggData": [],
       "aggError": "",
       "aggOverflow": false,
       "aggSchema": [],
       "aggSeriesLimitReached": false,
       "aggType": "",
       "arguments": {},
       "columnCustomDisplayInfos": {},
       "data": [
        [
         2015,
         87500
        ],
        [
         2016,
         313000
        ],
        [
         2017,
         6000
        ]
       ],
       "datasetInfos": [],
       "dbfsResultPath": null,
       "isJsonSchema": true,
       "metadata": {},
       "overflow": false,
       "plotOptions": {
        "customPlotOptions": {},
        "displayType": "table",
        "pivotAggregation": null,
        "pivotColumns": null,
        "xColumns": null,
        "yColumns": null
       },
       "removedWidgets": [],
       "schema": [
        {
         "metadata": "{}",
         "name": "join_year",
         "type": "\"integer\""
        },
        {
         "metadata": "{}",
         "name": "median_follower_count",
         "type": "\"double\""
        }
       ],
       "type": "table"
      }
     },
     "output_type": "display_data"
    }
   ],
   "source": [
    "results = spark.sql(\"\"\"\n",
    "                    SELECT year(date_joined) as join_year, PERCENTILE_CONT(0.5) WITHIN GROUP (ORDER BY follower_count) AS median_follower_count\n",
    "                    FROM user \n",
    "                    JOIN pin on pin.ind = user.ind\n",
    "                    GROUP by join_year\n",
    "                    HAVING join_year BETWEEN 2015 and 2020\n",
    "                    \"\"\")\n",
    "display(results)"
   ]
  },
  {
   "cell_type": "code",
   "execution_count": null,
   "metadata": {
    "application/vnd.databricks.v1+cell": {
     "cellMetadata": {
      "byteLimit": 2048000,
      "rowLimit": 10000
     },
     "inputWidgets": {},
     "nuid": "55e313f0-1847-43f3-acae-95d96071922d",
     "showTitle": false,
     "title": ""
    }
   },
   "outputs": [
    {
     "data": {
      "text/html": [
       "<style scoped>\n",
       "  .table-result-container {\n",
       "    max-height: 300px;\n",
       "    overflow: auto;\n",
       "  }\n",
       "  table, th, td {\n",
       "    border: 1px solid black;\n",
       "    border-collapse: collapse;\n",
       "  }\n",
       "  th, td {\n",
       "    padding: 5px;\n",
       "  }\n",
       "  th {\n",
       "    text-align: left;\n",
       "  }\n",
       "</style><div class='table-result-container'><table class='table-result'><thead style='background-color: white'><tr><th>age_group</th><th>join_year</th><th>median_follower_count</th></tr></thead><tbody><tr><td>25-35</td><td>2015</td><td>51000.0</td></tr><tr><td>18-24</td><td>2016</td><td>751000.0</td></tr><tr><td>18-24</td><td>2015</td><td>500000.0</td></tr><tr><td>25-35</td><td>2016</td><td>83500.0</td></tr><tr><td>36-50</td><td>2017</td><td>6000.0</td></tr><tr><td>36-50</td><td>2015</td><td>12500.0</td></tr><tr><td>25-35</td><td>2017</td><td>8000.0</td></tr><tr><td>18-24</td><td>2017</td><td>940.0</td></tr></tbody></table></div>"
      ]
     },
     "metadata": {
      "application/vnd.databricks.v1+output": {
       "addedWidgets": {},
       "aggData": [],
       "aggError": "",
       "aggOverflow": false,
       "aggSchema": [],
       "aggSeriesLimitReached": false,
       "aggType": "",
       "arguments": {},
       "columnCustomDisplayInfos": {},
       "data": [
        [
         "25-35",
         2015,
         51000
        ],
        [
         "18-24",
         2016,
         751000
        ],
        [
         "18-24",
         2015,
         500000
        ],
        [
         "25-35",
         2016,
         83500
        ],
        [
         "36-50",
         2017,
         6000
        ],
        [
         "36-50",
         2015,
         12500
        ],
        [
         "25-35",
         2017,
         8000
        ],
        [
         "18-24",
         2017,
         940
        ]
       ],
       "datasetInfos": [],
       "dbfsResultPath": null,
       "isJsonSchema": true,
       "metadata": {},
       "overflow": false,
       "plotOptions": {
        "customPlotOptions": {},
        "displayType": "table",
        "pivotAggregation": null,
        "pivotColumns": null,
        "xColumns": null,
        "yColumns": null
       },
       "removedWidgets": [],
       "schema": [
        {
         "metadata": "{}",
         "name": "age_group",
         "type": "\"string\""
        },
        {
         "metadata": "{}",
         "name": "join_year",
         "type": "\"integer\""
        },
        {
         "metadata": "{}",
         "name": "median_follower_count",
         "type": "\"double\""
        }
       ],
       "type": "table"
      }
     },
     "output_type": "display_data"
    }
   ],
   "source": [
    "results = spark.sql(\"\"\"\n",
    "                    SELECT CASE \n",
    "                    WHEN age BETWEEN 18 AND 24 THEN \"18-24\"\n",
    "                    WHEN age BETWEEN 25 AND 35 THEN \"25-35\"\n",
    "                    WHEN age BETWEEN 36 AND 50 THEN \"36-50\"\n",
    "                    WHEN age > 50 THEN \"+50\"\n",
    "                    ELSE \"NONE\" \n",
    "                END AS age_group, year(date_joined) as join_year, PERCENTILE_CONT(0.5) WITHIN GROUP (ORDER BY follower_count) AS median_follower_count\n",
    "                    FROM user \n",
    "                    JOIN pin on pin.ind = user.ind\n",
    "                    GROUP by join_year, age_group\n",
    "                    HAVING join_year BETWEEN 2015 and 2020\n",
    "                    \"\"\")\n",
    "                    \n",
    "display(results)"
   ]
  }
 ],
 "metadata": {
  "application/vnd.databricks.v1+notebook": {
   "dashboards": [],
   "language": "python",
   "notebookMetadata": {
    "pythonIndentUnit": 4
   },
   "notebookName": "bathc_processing_databricks",
   "widgets": {}
  },
  "language_info": {
   "name": "python"
  }
 },
 "nbformat": 4,
 "nbformat_minor": 0
}
